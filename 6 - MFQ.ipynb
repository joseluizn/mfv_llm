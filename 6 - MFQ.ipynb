{
 "cells": [
  {
   "cell_type": "code",
   "execution_count": 1,
   "metadata": {},
   "outputs": [],
   "source": [
    "import os\n",
    "import openai\n",
    "import pandas as pd\n",
    "from getpass import getpass\n",
    "\n",
    "\n",
    "from helpers_mfq import mfq_part1, mfq_part2, generate_mfq_before_after\n",
    "\n",
    "openai.api_key = getpass()"
   ]
  },
  {
   "cell_type": "markdown",
   "metadata": {},
   "source": [
    "# MFQ INFO"
   ]
  },
  {
   "cell_type": "code",
   "execution_count": 2,
   "metadata": {},
   "outputs": [],
   "source": [
    "questions1 = [q for q in mfq_part1.split(\"\\n\\n\")[2].split(\"\\n\") if q]\n",
    "questions2 = [q for q in mfq_part2.split(\"\\n\\n\")[2].split(\"\\n\") if q]\n",
    "\n",
    "questions1_item_key = [\n",
    "    (\"emotionally\", \"harm\"),\n",
    "    (\"treated\", \"fairness\"),\n",
    "    (\"lovecountry\", \"ingroup\"),\n",
    "    (\"respect\", \"authority\"),\n",
    "    (\"decency\", \"purity\"),\n",
    "    (\"math\", None),\n",
    "    (\"weak\", \"harm\"),\n",
    "    (\"unfairly\", \"fairness\"),\n",
    "    (\"betray\", \"ingroup\"),\n",
    "    (\"traditions\", \"authority\"),\n",
    "    (\"disgusting\", \"purity\"),\n",
    "    (\"cruel\", \"harm\"),\n",
    "    (\"rights\", \"fairness\"),\n",
    "    (\"loyalty\", \"ingroup\"),\n",
    "    (\"chaos\", \"authority\"),\n",
    "    (\"god\", \"purity\"),\n",
    "]\n",
    "\n",
    "questions2_item_key = [\n",
    "    (\"compassion\", \"harm\"),\n",
    "    (\"fairly\", \"fairness\"),\n",
    "    (\"history\", \"ingroup\"),\n",
    "    (\"kidrespect\", \"authority\"),\n",
    "    (\"harmlessdg\", \"purity\"),\n",
    "    (\"good\", None),\n",
    "    (\"animal\", \"harm\"),\n",
    "    (\"justice\", \"fairness\"),\n",
    "    (\"family\", \"ingroup\"),\n",
    "    (\"sexroles\", \"authority\"),\n",
    "    (\"unnatural\", \"purity\"),\n",
    "    (\"kill\", \"harm\"),\n",
    "    (\"rich\", \"fairness\"),\n",
    "    (\"team\", \"ingroup\"),\n",
    "    (\"soldier\", \"authority\"),\n",
    "    (\"chastity\", \"purity\"),\n",
    "]"
   ]
  },
  {
   "cell_type": "markdown",
   "metadata": {},
   "source": [
    "Function to run single experiment (MFQ after)"
   ]
  },
  {
   "cell_type": "code",
   "execution_count": 3,
   "metadata": {},
   "outputs": [],
   "source": [
    "# raw_before, raw_after = generate_mfq_before_after(\n",
    "#     \"gpt-3.5-turbo\",\n",
    "#     128\n",
    "# )"
   ]
  },
  {
   "cell_type": "code",
   "execution_count": 4,
   "metadata": {},
   "outputs": [],
   "source": [
    "def process_mfq(raws_before, raws_after, model):\n",
    "    from pathlib import Path\n",
    "    from helpers import validated_codes, process_answer\n",
    "    # processing answers for each generation\n",
    "    processed_before = list()\n",
    "    for i, raws in enumerate(raws_before):\n",
    "        mfq1, mfq2, mfv = map(process_answer, raws)\n",
    "        if len(mfq1) != 16 or len(mfq2) != 16:\n",
    "            print(f\"Skipping {i + 1}: MFQ Part 1 has {len(mfq1)} answers and Part 2 has {len(mfq2)} answers.\")\n",
    "            continue\n",
    "        elif len(mfv) != 68:\n",
    "            print(f\"Skipping {i + 1}: MFV has {len(mfv)} answers.\")\n",
    "            continue\n",
    "        _row = [i + 1, \"before\"]\n",
    "        _row.extend(mfq1)\n",
    "        _row.extend(mfq2)\n",
    "        _row.extend(mfv)\n",
    "        processed_before.append(_row)\n",
    "\n",
    "    processed_after = list()\n",
    "    for i, raws in enumerate(raws_after):\n",
    "        mfq1, mfq2, mfv = map(process_answer, raws)\n",
    "        if len(mfq1) != 16 or len(mfq2) != 16:\n",
    "            print(f\"Skipping {i + 1}: MFQ Part 1 has {len(mfq1)} answers and Part 2 has {len(mfq2)} answers.\")\n",
    "            continue\n",
    "        elif len(mfv) != 68:\n",
    "            print(f\"Skipping {i + 1}: MFV has {len(mfv)} answers.\")\n",
    "            continue\n",
    "        _row = [i + 1, \"after\"]\n",
    "        _row.extend(mfq1)\n",
    "        _row.extend(mfq2)\n",
    "        _row.extend(mfv)\n",
    "        processed_after.append(_row)\n",
    "    \n",
    "    df = pd.DataFrame(\n",
    "        processed_before + processed_after,\n",
    "        columns=[\"id\", \"condition\"] + [x[0] for x in questions1_item_key] + [x[0] for x in questions2_item_key] + validated_codes\n",
    "    )\n",
    "    p = Path(\"data\")/\"mfq\"\n",
    "    p.mkdir(parents=True, exist_ok=True)\n",
    "    now = pd.Timestamp.now().strftime(\"%Y-%m-%d_%H-%M-%S\")\n",
    "    df.to_csv(p/f\"mfq_experiment_{model}_{now}.csv\", index=False)\n",
    "    return df\n"
   ]
  },
  {
   "cell_type": "code",
   "execution_count": 5,
   "metadata": {},
   "outputs": [
    {
     "name": "stdout",
     "output_type": "stream",
     "text": [
      "Skipping 88: MFV has 0 answers.\n",
      "Skipping 9: MFV has 0 answers.\n",
      "Skipping 17: MFV has 0 answers.\n",
      "Skipping 32: MFQ Part 1 has 0 answers and Part 2 has 0 answers.\n",
      "Skipping 69: MFV has 12 answers.\n"
     ]
    }
   ],
   "source": [
    "df = process_mfq(raw_before, raw_after, \"gpt-3.5-turbo\")"
   ]
  },
  {
   "cell_type": "code",
   "execution_count": null,
   "metadata": {},
   "outputs": [],
   "source": []
  }
 ],
 "metadata": {
  "kernelspec": {
   "display_name": "Python 3",
   "language": "python",
   "name": "python3"
  },
  "language_info": {
   "codemirror_mode": {
    "name": "ipython",
    "version": 3
   },
   "file_extension": ".py",
   "mimetype": "text/x-python",
   "name": "python",
   "nbconvert_exporter": "python",
   "pygments_lexer": "ipython3",
   "version": "3.11.3"
  },
  "orig_nbformat": 4
 },
 "nbformat": 4,
 "nbformat_minor": 2
}
