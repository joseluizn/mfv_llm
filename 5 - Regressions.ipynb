{
 "cells": [
  {
   "cell_type": "code",
   "execution_count": 2,
   "metadata": {},
   "outputs": [],
   "source": [
    "from pathlib import Path\n",
    "\n",
    "import numpy as np\n",
    "import pandas as pd\n",
    "import statsmodels.formula.api as smf\n",
    "from sklearn.preprocessing import StandardScaler\n",
    "from statsmodels.iolib.summary2 import summary_col"
   ]
  },
  {
   "cell_type": "code",
   "execution_count": 3,
   "metadata": {},
   "outputs": [],
   "source": [
    "data_dir = Path() / \"results\"\n",
    "figs_dir = Path() / \"figs\"\n",
    "figs_dir.mkdir(exist_ok=True)"
   ]
  },
  {
   "cell_type": "markdown",
   "metadata": {},
   "source": [
    "# Regression models"
   ]
  },
  {
   "cell_type": "code",
   "execution_count": 14,
   "metadata": {},
   "outputs": [
    {
     "data": {
      "text/html": [
       "<div>\n",
       "<style scoped>\n",
       "    .dataframe tbody tr th:only-of-type {\n",
       "        vertical-align: middle;\n",
       "    }\n",
       "\n",
       "    .dataframe tbody tr th {\n",
       "        vertical-align: top;\n",
       "    }\n",
       "\n",
       "    .dataframe thead th {\n",
       "        text-align: right;\n",
       "    }\n",
       "</style>\n",
       "<table border=\"1\" class=\"dataframe\">\n",
       "  <thead>\n",
       "    <tr style=\"text-align: right;\">\n",
       "      <th></th>\n",
       "      <th>agent</th>\n",
       "      <th>id</th>\n",
       "      <th>condition</th>\n",
       "      <th>MFQ_Care</th>\n",
       "      <th>MFQ_Fairness</th>\n",
       "      <th>MFQ_Loyalty</th>\n",
       "      <th>MFQ_Authority</th>\n",
       "      <th>MFQ_Purity</th>\n",
       "      <th>MFV_Care (e)</th>\n",
       "      <th>MFV_Authority</th>\n",
       "      <th>MFV_Loyalty</th>\n",
       "      <th>MFV_Purity</th>\n",
       "      <th>MFV_Liberty</th>\n",
       "      <th>MFV_Care (p)</th>\n",
       "      <th>MFV_Fairness</th>\n",
       "    </tr>\n",
       "  </thead>\n",
       "  <tbody>\n",
       "    <tr>\n",
       "      <th>0</th>\n",
       "      <td>Claude 2.1</td>\n",
       "      <td>0</td>\n",
       "      <td>qv</td>\n",
       "      <td>4.166667</td>\n",
       "      <td>4.833333</td>\n",
       "      <td>2.333333</td>\n",
       "      <td>2.166667</td>\n",
       "      <td>1.333333</td>\n",
       "      <td>2.363636</td>\n",
       "      <td>2.5</td>\n",
       "      <td>2.4</td>\n",
       "      <td>3.571429</td>\n",
       "      <td>2.142857</td>\n",
       "      <td>3.555556</td>\n",
       "      <td>2.888889</td>\n",
       "    </tr>\n",
       "    <tr>\n",
       "      <th>1</th>\n",
       "      <td>Claude 2.1</td>\n",
       "      <td>1</td>\n",
       "      <td>qv</td>\n",
       "      <td>4.166667</td>\n",
       "      <td>4.833333</td>\n",
       "      <td>2.500000</td>\n",
       "      <td>1.833333</td>\n",
       "      <td>1.500000</td>\n",
       "      <td>3.000000</td>\n",
       "      <td>2.4</td>\n",
       "      <td>2.6</td>\n",
       "      <td>3.571429</td>\n",
       "      <td>2.714286</td>\n",
       "      <td>3.444444</td>\n",
       "      <td>2.888889</td>\n",
       "    </tr>\n",
       "  </tbody>\n",
       "</table>\n",
       "</div>"
      ],
      "text/plain": [
       "        agent  id condition  MFQ_Care  MFQ_Fairness  MFQ_Loyalty  \\\n",
       "0  Claude 2.1   0        qv  4.166667      4.833333     2.333333   \n",
       "1  Claude 2.1   1        qv  4.166667      4.833333     2.500000   \n",
       "\n",
       "   MFQ_Authority  MFQ_Purity  MFV_Care (e)  MFV_Authority  MFV_Loyalty  \\\n",
       "0       2.166667    1.333333      2.363636            2.5          2.4   \n",
       "1       1.833333    1.500000      3.000000            2.4          2.6   \n",
       "\n",
       "   MFV_Purity  MFV_Liberty  MFV_Care (p)  MFV_Fairness  \n",
       "0    3.571429     2.142857      3.555556      2.888889  \n",
       "1    3.571429     2.714286      3.444444      2.888889  "
      ]
     },
     "execution_count": 14,
     "metadata": {},
     "output_type": "execute_result"
    }
   ],
   "source": [
    "df = pd.read_csv(data_dir / \"foundation_cond_agg.csv\")\n",
    "\n",
    "# renaming columns to use same terminology\n",
    "df.rename(\n",
    "    columns={\n",
    "        \"MFQ_harm\": \"MFQ_Care\",\n",
    "        \"MFQ_ingroup\": \"MFQ_Loyalty\",\n",
    "        \"MFQ_authority\": \"MFQ_Authority\",\n",
    "        \"MFQ_purity\": \"MFQ_Purity\",\n",
    "        \"MFQ_fairness\": \"MFQ_Fairness\",\n",
    "    },\n",
    "    inplace=True,\n",
    ")\n",
    "\n",
    "df.head(2)"
   ]
  },
  {
   "cell_type": "markdown",
   "metadata": {},
   "source": [
    "Applying StandardScaler"
   ]
  },
  {
   "cell_type": "code",
   "execution_count": 5,
   "metadata": {},
   "outputs": [],
   "source": [
    "scaler = StandardScaler()\n",
    "\n",
    "# apply on columns starting with MFQ or MFV\n",
    "df.loc[\n",
    "    :, df.columns.str.startswith(\"MFQ\") | df.columns.str.startswith(\"MFV\")\n",
    "] = scaler.fit_transform(\n",
    "    df.loc[:, df.columns.str.startswith(\"MFQ\") | df.columns.str.startswith(\"MFV\")]\n",
    ")"
   ]
  },
  {
   "cell_type": "markdown",
   "metadata": {},
   "source": []
  },
  {
   "cell_type": "code",
   "execution_count": 20,
   "metadata": {},
   "outputs": [],
   "source": [
    "# rename columns to standardize under care, loyalty etc\n",
    "\n",
    "formula = \"Q('{}') ~ MFQ_Authority + MFQ_Care + MFQ_Fairness + MFQ_Loyalty + MFQ_Purity\"\n",
    "\n",
    "dependents = [x for x in df.columns if x.startswith(\"MFV_\")]\n",
    "dependents.sort()"
   ]
  },
  {
   "cell_type": "code",
   "execution_count": 21,
   "metadata": {},
   "outputs": [
    {
     "data": {
      "text/plain": [
       "Index(['agent', 'id', 'condition', 'MFQ_Care', 'MFQ_Fairness', 'MFQ_Loyalty',\n",
       "       'MFQ_Authority', 'MFQ_Purity', 'MFV_Care (e)', 'MFV_Authority',\n",
       "       'MFV_Loyalty', 'MFV_Purity', 'MFV_Liberty', 'MFV_Care (p)',\n",
       "       'MFV_Fairness'],\n",
       "      dtype='object')"
      ]
     },
     "execution_count": 21,
     "metadata": {},
     "output_type": "execute_result"
    }
   ],
   "source": [
    "df.columns"
   ]
  },
  {
   "cell_type": "markdown",
   "metadata": {},
   "source": [
    "# Models for Claude"
   ]
  },
  {
   "cell_type": "code",
   "execution_count": 22,
   "metadata": {},
   "outputs": [
    {
     "name": "stdout",
     "output_type": "stream",
     "text": [
      "\n",
      "=========================================================================================================================================\n",
      "               Q('MFV_Authority') Q('MFV_Care (e)') Q('MFV_Care (p)') Q('MFV_Fairness') Q('MFV_Liberty') Q('MFV_Loyalty') Q('MFV_Purity')\n",
      "-----------------------------------------------------------------------------------------------------------------------------------------\n",
      "Intercept      3.7999***          4.3464***         5.0767***         4.0075***         4.2387***        3.9378***        4.9131***      \n",
      "               (0.6718)           (0.7011)          (0.6775)          (0.6719)          (0.9466)         (0.8520)         (0.6648)       \n",
      "MFQ_Authority  -0.0057            -0.0594           -0.1647           -0.1157           0.0852           0.0186           -0.1446        \n",
      "               (0.1104)           (0.1152)          (0.1113)          (0.1104)          (0.1555)         (0.1400)         (0.1092)       \n",
      "MFQ_Care       0.0475             0.0840            0.0112            0.0449            -0.0042          -0.0257          0.0160         \n",
      "               (0.1121)           (0.1170)          (0.1130)          (0.1121)          (0.1579)         (0.1421)         (0.1109)       \n",
      "MFQ_Fairness   -0.3535**          -0.4583***        -0.3011*          -0.2114           -0.3663*         -0.3269*         -0.2403        \n",
      "               (0.1529)           (0.1596)          (0.1542)          (0.1529)          (0.2154)         (0.1939)         (0.1513)       \n",
      "MFQ_Loyalty    0.0730             0.1191            0.0389            0.0219            0.0407           0.1639           0.0477         \n",
      "               (0.0979)           (0.1022)          (0.0987)          (0.0979)          (0.1379)         (0.1242)         (0.0969)       \n",
      "MFQ_Purity     0.1172             0.1295*           0.1570**          0.1248*           0.1071           0.1809**         0.0974         \n",
      "               (0.0711)           (0.0742)          (0.0717)          (0.0711)          (0.1002)         (0.0902)         (0.0704)       \n",
      "R-squared      0.0528             0.0757            0.0631            0.0371            0.0284           0.0584           0.0384         \n",
      "R-squared Adj. 0.0220             0.0457            0.0326            0.0058            -0.0031          0.0279           0.0072         \n",
      "=========================================================================================================================================\n",
      "Standard errors in parentheses.\n",
      "* p<.1, ** p<.05, ***p<.01\n"
     ]
    }
   ],
   "source": [
    "models = list()\n",
    "\n",
    "for i in dependents:\n",
    "    mod = smf.ols(\n",
    "        formula=formula.format(i),\n",
    "        data=df.query(\"agent == 'Claude 2.1'\"),\n",
    "    )\n",
    "    res = mod.fit()\n",
    "    models.append(res)\n",
    "\n",
    "output = summary_col(models, stars=True)\n",
    "\n",
    "print(output)"
   ]
  },
  {
   "cell_type": "code",
   "execution_count": 23,
   "metadata": {},
   "outputs": [
    {
     "name": "stdout",
     "output_type": "stream",
     "text": [
      "\n",
      "=========================================================================================================================================\n",
      "               Q('MFV_Authority') Q('MFV_Care (e)') Q('MFV_Care (p)') Q('MFV_Fairness') Q('MFV_Liberty') Q('MFV_Loyalty') Q('MFV_Purity')\n",
      "-----------------------------------------------------------------------------------------------------------------------------------------\n",
      "Intercept      3.9709***          2.9704***         4.4172***         4.1667***         3.1867***        2.8685***        5.0668***      \n",
      "               (0.7119)           (0.8777)          (0.3286)          (0.4899)          (0.8854)         (0.8994)         (0.4205)       \n",
      "MFQ_Authority  0.0420             -0.0141           -0.0136           -0.0199           -0.0980          -0.2746**        -0.0168        \n",
      "               (0.0881)           (0.1087)          (0.0407)          (0.0607)          (0.1096)         (0.1114)         (0.0521)       \n",
      "MFQ_Care       0.0929             0.0513            0.0702            0.1827*           -0.0137          0.3570**         0.1969**       \n",
      "               (0.1354)           (0.1670)          (0.0625)          (0.0932)          (0.1684)         (0.1711)         (0.0800)       \n",
      "MFQ_Fairness   -0.1861            0.0381            0.0159            -0.1197           0.1139           -0.3828*         -0.3428***     \n",
      "               (0.1668)           (0.2056)          (0.0770)          (0.1148)          (0.2074)         (0.2107)         (0.0985)       \n",
      "MFQ_Loyalty    0.0019             -0.0419           -0.0048           -0.0371           0.0185           0.3853***        0.0434         \n",
      "               (0.0826)           (0.1019)          (0.0381)          (0.0569)          (0.1028)         (0.1044)         (0.0488)       \n",
      "MFQ_Purity     -0.0032            0.0836            0.0197            0.0885**          0.1497*          -0.0453          0.0163         \n",
      "               (0.0631)           (0.0778)          (0.0291)          (0.0434)          (0.0785)         (0.0797)         (0.0373)       \n",
      "R-squared      0.0101             0.0092            0.0150            0.0511            0.0276           0.1004           0.0779         \n",
      "R-squared Adj. -0.0169            -0.0179           -0.0119           0.0252            0.0010           0.0758           0.0527         \n",
      "=========================================================================================================================================\n",
      "Standard errors in parentheses.\n",
      "* p<.1, ** p<.05, ***p<.01\n"
     ]
    }
   ],
   "source": [
    "models = list()\n",
    "\n",
    "for i in dependents:\n",
    "    mod = smf.ols(\n",
    "        formula=formula.format(i),\n",
    "        data=df.query(\"agent == 'GPT-4'\"),\n",
    "    )\n",
    "    res = mod.fit()\n",
    "    models.append(res)\n",
    "\n",
    "output = summary_col(models, stars=True)\n",
    "\n",
    "print(output)"
   ]
  },
  {
   "cell_type": "code",
   "execution_count": null,
   "metadata": {},
   "outputs": [],
   "source": []
  }
 ],
 "metadata": {
  "kernelspec": {
   "display_name": "eda",
   "language": "python",
   "name": "python3"
  },
  "language_info": {
   "codemirror_mode": {
    "name": "ipython",
    "version": 3
   },
   "file_extension": ".py",
   "mimetype": "text/x-python",
   "name": "python",
   "nbconvert_exporter": "python",
   "pygments_lexer": "ipython3",
   "version": "3.11.3"
  }
 },
 "nbformat": 4,
 "nbformat_minor": 2
}
