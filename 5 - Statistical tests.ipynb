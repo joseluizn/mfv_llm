{
 "cells": [
  {
   "cell_type": "code",
   "execution_count": 1,
   "metadata": {},
   "outputs": [],
   "source": [
    "from pathlib import Path\n",
    "\n",
    "import numpy as np\n",
    "import pandas as pd\n",
    "import statsmodels.api as sm\n",
    "import statsmodels.formula.api as smf\n",
    "from scipy.stats import pearsonr, spearmanr, ttest_ind\n",
    "from sklearn.preprocessing import StandardScaler\n",
    "from statsmodels.iolib.summary2 import summary_col"
   ]
  },
  {
   "cell_type": "code",
   "execution_count": 2,
   "metadata": {},
   "outputs": [],
   "source": [
    "data_dir = Path() / \"results\"\n",
    "figs_dir = Path() / \"figs\"\n",
    "figs_dir.mkdir(exist_ok=True)"
   ]
  },
  {
   "cell_type": "markdown",
   "metadata": {},
   "source": [
    "# Statistics"
   ]
  },
  {
   "cell_type": "code",
   "execution_count": 5,
   "metadata": {},
   "outputs": [],
   "source": [
    "cronbach_df = pd.read_csv(data_dir / \"cronbach.csv\")"
   ]
  },
  {
   "cell_type": "code",
   "execution_count": 6,
   "metadata": {},
   "outputs": [
    {
     "data": {
      "text/plain": [
       "Ttest_indResult(statistic=0.054352978972766676, pvalue=0.9569116669285772)"
      ]
     },
     "execution_count": 6,
     "metadata": {},
     "output_type": "execute_result"
    }
   ],
   "source": [
    "# claude ttest\n",
    "ttest_ind(\n",
    "    cronbach_df.query(\"agent == 'Claude 2.1' and condition == 'qv'\")[\"alpha\"].values,\n",
    "    cronbach_df.query(\"agent == 'Claude 2.1' and condition == 'vq'\")[\"alpha\"].values,\n",
    ")"
   ]
  },
  {
   "cell_type": "code",
   "execution_count": 7,
   "metadata": {},
   "outputs": [
    {
     "data": {
      "text/plain": [
       "Ttest_indResult(statistic=2.4887215445023743, pvalue=0.016869329019227434)"
      ]
     },
     "execution_count": 7,
     "metadata": {},
     "output_type": "execute_result"
    }
   ],
   "source": [
    "# gpt-4 ttest\n",
    "ttest_ind(\n",
    "    cronbach_df.query(\"agent == 'GPT-4' and condition == 'qv'\")[\"alpha\"].values,\n",
    "    cronbach_df.query(\"agent == 'GPT-4' and condition == 'vq'\")[\"alpha\"].values,\n",
    ")"
   ]
  },
  {
   "cell_type": "markdown",
   "metadata": {},
   "source": [
    "Calculating Cohen-D for GPT-4"
   ]
  },
  {
   "cell_type": "code",
   "execution_count": 8,
   "metadata": {},
   "outputs": [
    {
     "data": {
      "text/plain": [
       "0.7503777791625594"
      ]
     },
     "execution_count": 8,
     "metadata": {},
     "output_type": "execute_result"
    }
   ],
   "source": [
    "def cohen_d(x, y):\n",
    "    nx = len(x)\n",
    "    ny = len(y)\n",
    "    dof = nx + ny - 2\n",
    "    return (np.mean(x) - np.mean(y)) / np.sqrt(\n",
    "        ((nx - 1) * np.std(x, ddof=1) ** 2 + (ny - 1) * np.std(y, ddof=1) ** 2) / dof\n",
    "    )\n",
    "\n",
    "cohen_d(\n",
    "    cronbach_df.query(\"agent == 'GPT-4' and condition == 'qv'\")[\"alpha\"].values,\n",
    "    cronbach_df.query(\"agent == 'GPT-4' and condition == 'vq'\")[\"alpha\"].values,\n",
    ")"
   ]
  },
  {
   "cell_type": "markdown",
   "metadata": {},
   "source": [
    "ANOVA for agentt"
   ]
  },
  {
   "cell_type": "code",
   "execution_count": 26,
   "metadata": {},
   "outputs": [
    {
     "name": "stdout",
     "output_type": "stream",
     "text": [
      "                                sum_sq     df         F    PR(>F)\n",
      "C(agent, Treatment('Human'))  0.416204    2.0  3.238227  0.041974\n",
      "Residual                      9.703895  151.0       NaN       NaN\n"
     ]
    }
   ],
   "source": [
    "formula = \"alpha ~ C(agent, Treatment('Human'))\"\n",
    "model = smf.ols(formula, cronbach_df).fit()\n",
    "aov_table = sm.stats.anova_lm(model, typ=2)\n",
    "print(aov_table)"
   ]
  },
  {
   "cell_type": "code",
   "execution_count": 29,
   "metadata": {},
   "outputs": [
    {
     "data": {
      "text/html": [
       "<div>\n",
       "<style scoped>\n",
       "    .dataframe tbody tr th:only-of-type {\n",
       "        vertical-align: middle;\n",
       "    }\n",
       "\n",
       "    .dataframe tbody tr th {\n",
       "        vertical-align: top;\n",
       "    }\n",
       "\n",
       "    .dataframe thead th {\n",
       "        text-align: right;\n",
       "    }\n",
       "</style>\n",
       "<table border=\"1\" class=\"dataframe\">\n",
       "  <thead>\n",
       "    <tr style=\"text-align: right;\">\n",
       "      <th></th>\n",
       "      <th>alpha</th>\n",
       "    </tr>\n",
       "    <tr>\n",
       "      <th>agent</th>\n",
       "      <th></th>\n",
       "    </tr>\n",
       "  </thead>\n",
       "  <tbody>\n",
       "    <tr>\n",
       "      <th>Claude 2.1</th>\n",
       "      <td>0.597118</td>\n",
       "    </tr>\n",
       "    <tr>\n",
       "      <th>GPT-4</th>\n",
       "      <td>0.574852</td>\n",
       "    </tr>\n",
       "    <tr>\n",
       "      <th>Human</th>\n",
       "      <td>0.731600</td>\n",
       "    </tr>\n",
       "  </tbody>\n",
       "</table>\n",
       "</div>"
      ],
      "text/plain": [
       "               alpha\n",
       "agent               \n",
       "Claude 2.1  0.597118\n",
       "GPT-4       0.574852\n",
       "Human       0.731600"
      ]
     },
     "execution_count": 29,
     "metadata": {},
     "output_type": "execute_result"
    }
   ],
   "source": [
    "cronbach_df.groupby(\"agent\").mean()"
   ]
  },
  {
   "cell_type": "code",
   "execution_count": 27,
   "metadata": {},
   "outputs": [
    {
     "data": {
      "text/html": [
       "<table class=\"simpletable\">\n",
       "<tr>\n",
       "        <td>Model:</td>               <td>OLS</td>         <td>Adj. R-squared:</td>     <td>0.028</td> \n",
       "</tr>\n",
       "<tr>\n",
       "  <td>Dependent Variable:</td>       <td>alpha</td>             <td>AIC:</td>          <td>17.3116</td>\n",
       "</tr>\n",
       "<tr>\n",
       "         <td>Date:</td>        <td>2024-01-21 20:49</td>        <td>BIC:</td>          <td>26.4224</td>\n",
       "</tr>\n",
       "<tr>\n",
       "   <td>No. Observations:</td>         <td>154</td>         <td>Log-Likelihood:</td>    <td>-5.6558</td>\n",
       "</tr>\n",
       "<tr>\n",
       "       <td>Df Model:</td>              <td>2</td>           <td>F-statistic:</td>       <td>3.238</td> \n",
       "</tr>\n",
       "<tr>\n",
       "     <td>Df Residuals:</td>           <td>151</td>       <td>Prob (F-statistic):</td>  <td>0.0420</td> \n",
       "</tr>\n",
       "<tr>\n",
       "      <td>R-squared:</td>            <td>0.041</td>            <td>Scale:</td>        <td>0.064264</td>\n",
       "</tr>\n",
       "</table>\n",
       "<table class=\"simpletable\">\n",
       "<tr>\n",
       "                       <td></td>                       <th>Coef.</th>  <th>Std.Err.</th>    <th>t</th>     <th>P>|t|</th> <th>[0.025</th>  <th>0.975]</th> \n",
       "</tr>\n",
       "<tr>\n",
       "  <th>Intercept</th>                                  <td>0.7316</td>   <td>0.0540</td>  <td>13.5363</td> <td>0.0000</td> <td>0.6248</td>  <td>0.8384</td> \n",
       "</tr>\n",
       "<tr>\n",
       "  <th>C(agent, Treatment('Human'))[T.Claude 2.1]</th> <td>-0.1345</td>  <td>0.0624</td>  <td>-2.1549</td> <td>0.0328</td> <td>-0.2578</td> <td>-0.0112</td>\n",
       "</tr>\n",
       "<tr>\n",
       "  <th>C(agent, Treatment('Human'))[T.GPT-4]</th>      <td>-0.1567</td>  <td>0.0624</td>  <td>-2.5117</td> <td>0.0131</td> <td>-0.2801</td> <td>-0.0334</td>\n",
       "</tr>\n",
       "</table>\n",
       "<table class=\"simpletable\">\n",
       "<tr>\n",
       "     <td>Omnibus:</td>    <td>10.872</td>  <td>Durbin-Watson:</td>    <td>1.418</td>\n",
       "</tr>\n",
       "<tr>\n",
       "  <td>Prob(Omnibus):</td>  <td>0.004</td> <td>Jarque-Bera (JB):</td> <td>11.498</td>\n",
       "</tr>\n",
       "<tr>\n",
       "       <td>Skew:</td>     <td>-0.640</td>     <td>Prob(JB):</td>      <td>0.003</td>\n",
       "</tr>\n",
       "<tr>\n",
       "     <td>Kurtosis:</td>    <td>2.605</td>  <td>Condition No.:</td>      <td>6</td>  \n",
       "</tr>\n",
       "</table>"
      ],
      "text/plain": [
       "<class 'statsmodels.iolib.summary2.Summary'>\n",
       "\"\"\"\n",
       "                             Results: Ordinary least squares\n",
       "==========================================================================================\n",
       "Model:                       OLS                      Adj. R-squared:             0.028   \n",
       "Dependent Variable:          alpha                    AIC:                        17.3116 \n",
       "Date:                        2024-01-21 20:49         BIC:                        26.4224 \n",
       "No. Observations:            154                      Log-Likelihood:             -5.6558 \n",
       "Df Model:                    2                        F-statistic:                3.238   \n",
       "Df Residuals:                151                      Prob (F-statistic):         0.0420  \n",
       "R-squared:                   0.041                    Scale:                      0.064264\n",
       "------------------------------------------------------------------------------------------\n",
       "                                            Coef.  Std.Err.    t    P>|t|   [0.025  0.975]\n",
       "------------------------------------------------------------------------------------------\n",
       "Intercept                                   0.7316   0.0540 13.5363 0.0000  0.6248  0.8384\n",
       "C(agent, Treatment('Human'))[T.Claude 2.1] -0.1345   0.0624 -2.1549 0.0328 -0.2578 -0.0112\n",
       "C(agent, Treatment('Human'))[T.GPT-4]      -0.1567   0.0624 -2.5117 0.0131 -0.2801 -0.0334\n",
       "------------------------------------------------------------------------------------------\n",
       "Omnibus:                       10.872               Durbin-Watson:                  1.418 \n",
       "Prob(Omnibus):                 0.004                Jarque-Bera (JB):               11.498\n",
       "Skew:                          -0.640               Prob(JB):                       0.003 \n",
       "Kurtosis:                      2.605                Condition No.:                  6     \n",
       "==========================================================================================\n",
       "\n",
       "\"\"\""
      ]
     },
     "execution_count": 27,
     "metadata": {},
     "output_type": "execute_result"
    }
   ],
   "source": [
    "model.summary2()"
   ]
  },
  {
   "cell_type": "markdown",
   "metadata": {},
   "source": [
    "# Regression models"
   ]
  },
  {
   "cell_type": "code",
   "execution_count": 3,
   "metadata": {},
   "outputs": [
    {
     "data": {
      "text/html": [
       "<div>\n",
       "<style scoped>\n",
       "    .dataframe tbody tr th:only-of-type {\n",
       "        vertical-align: middle;\n",
       "    }\n",
       "\n",
       "    .dataframe tbody tr th {\n",
       "        vertical-align: top;\n",
       "    }\n",
       "\n",
       "    .dataframe thead th {\n",
       "        text-align: right;\n",
       "    }\n",
       "</style>\n",
       "<table border=\"1\" class=\"dataframe\">\n",
       "  <thead>\n",
       "    <tr style=\"text-align: right;\">\n",
       "      <th></th>\n",
       "      <th>agent</th>\n",
       "      <th>id</th>\n",
       "      <th>condition</th>\n",
       "      <th>MFQ_Care</th>\n",
       "      <th>MFQ_Fairness</th>\n",
       "      <th>MFQ_Loyalty</th>\n",
       "      <th>MFQ_Authority</th>\n",
       "      <th>MFQ_Purity</th>\n",
       "      <th>MFV_Care (e)</th>\n",
       "      <th>MFV_Authority</th>\n",
       "      <th>MFV_Loyalty</th>\n",
       "      <th>MFV_Purity</th>\n",
       "      <th>MFV_Liberty</th>\n",
       "      <th>MFV_Care (p)</th>\n",
       "      <th>MFV_Fairness</th>\n",
       "    </tr>\n",
       "  </thead>\n",
       "  <tbody>\n",
       "    <tr>\n",
       "      <th>0</th>\n",
       "      <td>Claude 2.1</td>\n",
       "      <td>0</td>\n",
       "      <td>qv</td>\n",
       "      <td>4.166667</td>\n",
       "      <td>4.833333</td>\n",
       "      <td>2.333333</td>\n",
       "      <td>2.166667</td>\n",
       "      <td>1.333333</td>\n",
       "      <td>2.363636</td>\n",
       "      <td>2.5</td>\n",
       "      <td>2.4</td>\n",
       "      <td>3.571429</td>\n",
       "      <td>2.142857</td>\n",
       "      <td>3.555556</td>\n",
       "      <td>2.888889</td>\n",
       "    </tr>\n",
       "    <tr>\n",
       "      <th>1</th>\n",
       "      <td>Claude 2.1</td>\n",
       "      <td>1</td>\n",
       "      <td>qv</td>\n",
       "      <td>4.166667</td>\n",
       "      <td>4.833333</td>\n",
       "      <td>2.500000</td>\n",
       "      <td>1.833333</td>\n",
       "      <td>1.500000</td>\n",
       "      <td>3.000000</td>\n",
       "      <td>2.4</td>\n",
       "      <td>2.6</td>\n",
       "      <td>3.571429</td>\n",
       "      <td>2.714286</td>\n",
       "      <td>3.444444</td>\n",
       "      <td>2.888889</td>\n",
       "    </tr>\n",
       "  </tbody>\n",
       "</table>\n",
       "</div>"
      ],
      "text/plain": [
       "        agent  id condition  MFQ_Care  MFQ_Fairness  MFQ_Loyalty  \\\n",
       "0  Claude 2.1   0        qv  4.166667      4.833333     2.333333   \n",
       "1  Claude 2.1   1        qv  4.166667      4.833333     2.500000   \n",
       "\n",
       "   MFQ_Authority  MFQ_Purity  MFV_Care (e)  MFV_Authority  MFV_Loyalty  \\\n",
       "0       2.166667    1.333333      2.363636            2.5          2.4   \n",
       "1       1.833333    1.500000      3.000000            2.4          2.6   \n",
       "\n",
       "   MFV_Purity  MFV_Liberty  MFV_Care (p)  MFV_Fairness  \n",
       "0    3.571429     2.142857      3.555556      2.888889  \n",
       "1    3.571429     2.714286      3.444444      2.888889  "
      ]
     },
     "execution_count": 3,
     "metadata": {},
     "output_type": "execute_result"
    }
   ],
   "source": [
    "df = pd.read_csv(data_dir / \"foundation_cond_agg.csv\")\n",
    "\n",
    "# renaming columns to use same terminology\n",
    "df.rename(\n",
    "    columns={\n",
    "        \"MFQ_harm\": \"MFQ_Care\",\n",
    "        \"MFQ_ingroup\": \"MFQ_Loyalty\",\n",
    "        \"MFQ_authority\": \"MFQ_Authority\",\n",
    "        \"MFQ_purity\": \"MFQ_Purity\",\n",
    "        \"MFQ_fairness\": \"MFQ_Fairness\",\n",
    "    },\n",
    "    inplace=True,\n",
    ")\n",
    "\n",
    "df.head(2)"
   ]
  },
  {
   "cell_type": "markdown",
   "metadata": {},
   "source": [
    "Applying StandardScaler"
   ]
  },
  {
   "cell_type": "code",
   "execution_count": 4,
   "metadata": {},
   "outputs": [],
   "source": [
    "scaler = StandardScaler()\n",
    "\n",
    "# apply on columns starting with MFQ or MFV\n",
    "df.loc[\n",
    "    :, df.columns.str.startswith(\"MFQ\") | df.columns.str.startswith(\"MFV\")\n",
    "] = scaler.fit_transform(\n",
    "    df.loc[:, df.columns.str.startswith(\"MFQ\") | df.columns.str.startswith(\"MFV\")]\n",
    ")"
   ]
  },
  {
   "cell_type": "markdown",
   "metadata": {},
   "source": []
  },
  {
   "cell_type": "code",
   "execution_count": 5,
   "metadata": {},
   "outputs": [],
   "source": [
    "# rename columns to standardize under care, loyalty etc\n",
    "\n",
    "formula = \"Q('{}') ~ MFQ_Authority + MFQ_Care + MFQ_Fairness + MFQ_Loyalty + MFQ_Purity\"\n",
    "\n",
    "dependents = [x for x in df.columns if x.startswith(\"MFV_\")]\n",
    "dependents.sort()"
   ]
  },
  {
   "cell_type": "code",
   "execution_count": 6,
   "metadata": {},
   "outputs": [
    {
     "data": {
      "text/plain": [
       "Index(['agent', 'id', 'condition', 'MFQ_Care', 'MFQ_Fairness', 'MFQ_Loyalty',\n",
       "       'MFQ_Authority', 'MFQ_Purity', 'MFV_Care (e)', 'MFV_Authority',\n",
       "       'MFV_Loyalty', 'MFV_Purity', 'MFV_Liberty', 'MFV_Care (p)',\n",
       "       'MFV_Fairness'],\n",
       "      dtype='object')"
      ]
     },
     "execution_count": 6,
     "metadata": {},
     "output_type": "execute_result"
    }
   ],
   "source": [
    "df.columns"
   ]
  },
  {
   "cell_type": "markdown",
   "metadata": {},
   "source": [
    "# Models for Claude"
   ]
  },
  {
   "cell_type": "code",
   "execution_count": 10,
   "metadata": {},
   "outputs": [
    {
     "data": {
      "text/html": [
       "<table class=\"simpletable\">\n",
       "<tr>\n",
       "         <td></td>        <th>Q('MFV_Authority')</th> <th>Q('MFV_Care (e)')</th> <th>Q('MFV_Care (p)')</th> <th>Q('MFV_Fairness')</th> <th>Q('MFV_Liberty')</th> <th>Q('MFV_Loyalty')</th> <th>Q('MFV_Purity')</th>\n",
       "</tr>\n",
       "<tr>\n",
       "  <th>Intercept</th>          <td>-0.7571***</td>        <td>-0.4074***</td>        <td>-0.9945***</td>        <td>-0.9677***</td>        <td>-0.6123***</td>         <td>0.2053</td>        <td>-0.8422***</td>   \n",
       "</tr>\n",
       "<tr>\n",
       "  <th></th>                    <td>(0.1130)</td>          <td>(0.1422)</td>          <td>(0.1116)</td>          <td>(0.0954)</td>          <td>(0.1498)</td>         <td>(0.1770)</td>        <td>(0.1515)</td>    \n",
       "</tr>\n",
       "<tr>\n",
       "  <th>MFQ_Authority</th>        <td>-0.0053</td>           <td>-0.0665</td>           <td>-0.1499</td>           <td>-0.0907</td>           <td>0.0744</td>           <td>0.0213</td>          <td>-0.1819</td>    \n",
       "</tr>\n",
       "<tr>\n",
       "  <th></th>                    <td>(0.1025)</td>          <td>(0.1290)</td>          <td>(0.1013)</td>          <td>(0.0865)</td>          <td>(0.1359)</td>         <td>(0.1606)</td>        <td>(0.1374)</td>    \n",
       "</tr>\n",
       "<tr>\n",
       "  <th>MFQ_Care</th>             <td>0.0389</td>            <td>0.0829</td>            <td>0.0090</td>            <td>0.0311</td>            <td>-0.0032</td>          <td>-0.0260</td>         <td>0.0178</td>     \n",
       "</tr>\n",
       "<tr>\n",
       "  <th></th>                    <td>(0.0917)</td>          <td>(0.1155)</td>          <td>(0.0907)</td>          <td>(0.0775)</td>          <td>(0.1217)</td>         <td>(0.1438)</td>        <td>(0.1230)</td>    \n",
       "</tr>\n",
       "<tr>\n",
       "  <th>MFQ_Fairness</th>        <td>-0.1288**</td>        <td>-0.2014***</td>         <td>-0.1075*</td>           <td>-0.0650</td>          <td>-0.1256*</td>         <td>-0.1472*</td>         <td>-0.1187</td>    \n",
       "</tr>\n",
       "<tr>\n",
       "  <th></th>                    <td>(0.0557)</td>          <td>(0.0701)</td>          <td>(0.0551)</td>          <td>(0.0470)</td>          <td>(0.0739)</td>         <td>(0.0873)</td>        <td>(0.0747)</td>    \n",
       "</tr>\n",
       "<tr>\n",
       "  <th>MFQ_Loyalty</th>          <td>0.0755</td>            <td>0.1486</td>            <td>0.0394</td>            <td>0.0191</td>            <td>0.0396</td>           <td>0.2095</td>          <td>0.0669</td>     \n",
       "</tr>\n",
       "<tr>\n",
       "  <th></th>                    <td>(0.1013)</td>          <td>(0.1275)</td>          <td>(0.1001)</td>          <td>(0.0855)</td>          <td>(0.1343)</td>         <td>(0.1587)</td>        <td>(0.1358)</td>    \n",
       "</tr>\n",
       "<tr>\n",
       "  <th>MFQ_Purity</th>           <td>0.1214</td>            <td>0.1619*</td>          <td>0.1594**</td>           <td>0.1092*</td>           <td>0.1045</td>          <td>0.2316**</td>         <td>0.1367</td>     \n",
       "</tr>\n",
       "<tr>\n",
       "  <th></th>                    <td>(0.0737)</td>          <td>(0.0928)</td>          <td>(0.0728)</td>          <td>(0.0622)</td>          <td>(0.0977)</td>         <td>(0.1155)</td>        <td>(0.0988)</td>    \n",
       "</tr>\n",
       "<tr>\n",
       "  <th>R-squared</th>            <td>0.0528</td>            <td>0.0757</td>            <td>0.0631</td>            <td>0.0371</td>            <td>0.0284</td>           <td>0.0584</td>          <td>0.0384</td>     \n",
       "</tr>\n",
       "<tr>\n",
       "  <th>R-squared Adj.</th>       <td>0.0220</td>            <td>0.0457</td>            <td>0.0326</td>            <td>0.0058</td>            <td>-0.0031</td>          <td>0.0279</td>          <td>0.0072</td>     \n",
       "</tr>\n",
       "</table>"
      ],
      "text/plain": [
       "<class 'statsmodels.iolib.summary2.Summary'>\n",
       "\"\"\"\n",
       "\n",
       "=========================================================================================================================================\n",
       "               Q('MFV_Authority') Q('MFV_Care (e)') Q('MFV_Care (p)') Q('MFV_Fairness') Q('MFV_Liberty') Q('MFV_Loyalty') Q('MFV_Purity')\n",
       "-----------------------------------------------------------------------------------------------------------------------------------------\n",
       "Intercept      -0.7571***         -0.4074***        -0.9945***        -0.9677***        -0.6123***       0.2053           -0.8422***     \n",
       "               (0.1130)           (0.1422)          (0.1116)          (0.0954)          (0.1498)         (0.1770)         (0.1515)       \n",
       "MFQ_Authority  -0.0053            -0.0665           -0.1499           -0.0907           0.0744           0.0213           -0.1819        \n",
       "               (0.1025)           (0.1290)          (0.1013)          (0.0865)          (0.1359)         (0.1606)         (0.1374)       \n",
       "MFQ_Care       0.0389             0.0829            0.0090            0.0311            -0.0032          -0.0260          0.0178         \n",
       "               (0.0917)           (0.1155)          (0.0907)          (0.0775)          (0.1217)         (0.1438)         (0.1230)       \n",
       "MFQ_Fairness   -0.1288**          -0.2014***        -0.1075*          -0.0650           -0.1256*         -0.1472*         -0.1187        \n",
       "               (0.0557)           (0.0701)          (0.0551)          (0.0470)          (0.0739)         (0.0873)         (0.0747)       \n",
       "MFQ_Loyalty    0.0755             0.1486            0.0394            0.0191            0.0396           0.2095           0.0669         \n",
       "               (0.1013)           (0.1275)          (0.1001)          (0.0855)          (0.1343)         (0.1587)         (0.1358)       \n",
       "MFQ_Purity     0.1214             0.1619*           0.1594**          0.1092*           0.1045           0.2316**         0.1367         \n",
       "               (0.0737)           (0.0928)          (0.0728)          (0.0622)          (0.0977)         (0.1155)         (0.0988)       \n",
       "R-squared      0.0528             0.0757            0.0631            0.0371            0.0284           0.0584           0.0384         \n",
       "R-squared Adj. 0.0220             0.0457            0.0326            0.0058            -0.0031          0.0279           0.0072         \n",
       "=========================================================================================================================================\n",
       "Standard errors in parentheses.\n",
       "* p<.1, ** p<.05, ***p<.01\n",
       "\"\"\""
      ]
     },
     "execution_count": 10,
     "metadata": {},
     "output_type": "execute_result"
    }
   ],
   "source": [
    "models = list()\n",
    "\n",
    "for i in dependents:\n",
    "    mod = smf.ols(\n",
    "        formula=formula.format(i),\n",
    "        data=df.query(\"agent == 'Claude 2.1'\"),\n",
    "    )\n",
    "    res = mod.fit()\n",
    "    models.append(res)\n",
    "\n",
    "output = summary_col(models, stars=True,)\n",
    "\n",
    "output"
   ]
  },
  {
   "cell_type": "markdown",
   "metadata": {},
   "source": [
    "## GPT-4"
   ]
  },
  {
   "cell_type": "code",
   "execution_count": 11,
   "metadata": {},
   "outputs": [
    {
     "data": {
      "text/html": [
       "<table class=\"simpletable\">\n",
       "<tr>\n",
       "         <td></td>        <th>Q('MFV_Authority')</th> <th>Q('MFV_Care (e)')</th> <th>Q('MFV_Care (p)')</th> <th>Q('MFV_Fairness')</th> <th>Q('MFV_Liberty')</th> <th>Q('MFV_Loyalty')</th> <th>Q('MFV_Purity')</th>\n",
       "</tr>\n",
       "<tr>\n",
       "  <th>Intercept</th>           <td>0.6624***</td>         <td>0.4144***</td>         <td>0.7694***</td>         <td>0.7370***</td>         <td>0.5577***</td>        <td>-0.3263**</td>       <td>0.5310***</td>   \n",
       "</tr>\n",
       "<tr>\n",
       "  <th></th>                    <td>(0.0884)</td>          <td>(0.1315)</td>          <td>(0.0400)</td>          <td>(0.0514)</td>          <td>(0.1035)</td>         <td>(0.1380)</td>        <td>(0.0708)</td>    \n",
       "</tr>\n",
       "<tr>\n",
       "  <th>MFQ_Authority</th>        <td>0.0390</td>            <td>-0.0158</td>           <td>-0.0123</td>           <td>-0.0156</td>           <td>-0.0856</td>         <td>-0.3150**</td>        <td>-0.0212</td>    \n",
       "</tr>\n",
       "<tr>\n",
       "  <th></th>                    <td>(0.0818)</td>          <td>(0.1217)</td>          <td>(0.0370)</td>          <td>(0.0475)</td>          <td>(0.0958)</td>         <td>(0.1277)</td>        <td>(0.0655)</td>    \n",
       "</tr>\n",
       "<tr>\n",
       "  <th>MFQ_Care</th>             <td>0.0760</td>            <td>0.0506</td>            <td>0.0563</td>            <td>0.1262*</td>           <td>-0.0106</td>         <td>0.3611**</td>        <td>0.2184**</td>    \n",
       "</tr>\n",
       "<tr>\n",
       "  <th></th>                    <td>(0.1108)</td>          <td>(0.1649)</td>          <td>(0.0501)</td>          <td>(0.0644)</td>          <td>(0.1298)</td>         <td>(0.1730)</td>        <td>(0.0887)</td>    \n",
       "</tr>\n",
       "<tr>\n",
       "  <th>MFQ_Fairness</th>         <td>-0.0678</td>           <td>0.0167</td>            <td>0.0057</td>            <td>-0.0368</td>           <td>0.0391</td>          <td>-0.1723*</td>       <td>-0.1693***</td>   \n",
       "</tr>\n",
       "<tr>\n",
       "  <th></th>                    <td>(0.0608)</td>          <td>(0.0904)</td>          <td>(0.0275)</td>          <td>(0.0353)</td>          <td>(0.0711)</td>         <td>(0.0948)</td>        <td>(0.0486)</td>    \n",
       "</tr>\n",
       "<tr>\n",
       "  <th>MFQ_Loyalty</th>          <td>0.0020</td>            <td>-0.0523</td>           <td>-0.0048</td>           <td>-0.0324</td>           <td>0.0180</td>          <td>0.4925***</td>        <td>0.0608</td>     \n",
       "</tr>\n",
       "<tr>\n",
       "  <th></th>                    <td>(0.0855)</td>          <td>(0.1271)</td>          <td>(0.0387)</td>          <td>(0.0496)</td>          <td>(0.1001)</td>         <td>(0.1334)</td>        <td>(0.0684)</td>    \n",
       "</tr>\n",
       "<tr>\n",
       "  <th>MFQ_Purity</th>           <td>-0.0033</td>           <td>0.1045</td>            <td>0.0200</td>           <td>0.0775**</td>           <td>0.1460*</td>          <td>-0.0580</td>         <td>0.0229</td>     \n",
       "</tr>\n",
       "<tr>\n",
       "  <th></th>                    <td>(0.0654)</td>          <td>(0.0973)</td>          <td>(0.0296)</td>          <td>(0.0380)</td>          <td>(0.0766)</td>         <td>(0.1021)</td>        <td>(0.0524)</td>    \n",
       "</tr>\n",
       "<tr>\n",
       "  <th>R-squared</th>            <td>0.0101</td>            <td>0.0092</td>            <td>0.0150</td>            <td>0.0511</td>            <td>0.0276</td>           <td>0.1004</td>          <td>0.0779</td>     \n",
       "</tr>\n",
       "<tr>\n",
       "  <th>R-squared Adj.</th>       <td>-0.0169</td>           <td>-0.0179</td>           <td>-0.0119</td>           <td>0.0252</td>            <td>0.0010</td>           <td>0.0758</td>          <td>0.0527</td>     \n",
       "</tr>\n",
       "</table>"
      ],
      "text/plain": [
       "<class 'statsmodels.iolib.summary2.Summary'>\n",
       "\"\"\"\n",
       "\n",
       "=========================================================================================================================================\n",
       "               Q('MFV_Authority') Q('MFV_Care (e)') Q('MFV_Care (p)') Q('MFV_Fairness') Q('MFV_Liberty') Q('MFV_Loyalty') Q('MFV_Purity')\n",
       "-----------------------------------------------------------------------------------------------------------------------------------------\n",
       "Intercept      0.6624***          0.4144***         0.7694***         0.7370***         0.5577***        -0.3263**        0.5310***      \n",
       "               (0.0884)           (0.1315)          (0.0400)          (0.0514)          (0.1035)         (0.1380)         (0.0708)       \n",
       "MFQ_Authority  0.0390             -0.0158           -0.0123           -0.0156           -0.0856          -0.3150**        -0.0212        \n",
       "               (0.0818)           (0.1217)          (0.0370)          (0.0475)          (0.0958)         (0.1277)         (0.0655)       \n",
       "MFQ_Care       0.0760             0.0506            0.0563            0.1262*           -0.0106          0.3611**         0.2184**       \n",
       "               (0.1108)           (0.1649)          (0.0501)          (0.0644)          (0.1298)         (0.1730)         (0.0887)       \n",
       "MFQ_Fairness   -0.0678            0.0167            0.0057            -0.0368           0.0391           -0.1723*         -0.1693***     \n",
       "               (0.0608)           (0.0904)          (0.0275)          (0.0353)          (0.0711)         (0.0948)         (0.0486)       \n",
       "MFQ_Loyalty    0.0020             -0.0523           -0.0048           -0.0324           0.0180           0.4925***        0.0608         \n",
       "               (0.0855)           (0.1271)          (0.0387)          (0.0496)          (0.1001)         (0.1334)         (0.0684)       \n",
       "MFQ_Purity     -0.0033            0.1045            0.0200            0.0775**          0.1460*          -0.0580          0.0229         \n",
       "               (0.0654)           (0.0973)          (0.0296)          (0.0380)          (0.0766)         (0.1021)         (0.0524)       \n",
       "R-squared      0.0101             0.0092            0.0150            0.0511            0.0276           0.1004           0.0779         \n",
       "R-squared Adj. -0.0169            -0.0179           -0.0119           0.0252            0.0010           0.0758           0.0527         \n",
       "=========================================================================================================================================\n",
       "Standard errors in parentheses.\n",
       "* p<.1, ** p<.05, ***p<.01\n",
       "\"\"\""
      ]
     },
     "execution_count": 11,
     "metadata": {},
     "output_type": "execute_result"
    }
   ],
   "source": [
    "models = list()\n",
    "\n",
    "for i in dependents:\n",
    "    mod = smf.ols(\n",
    "        formula=formula.format(i),\n",
    "        data=df.query(\"agent == 'GPT-4'\"),\n",
    "    )\n",
    "    res = mod.fit()\n",
    "    models.append(res)\n",
    "\n",
    "output = summary_col(models, stars=True)\n",
    "\n",
    "output"
   ]
  },
  {
   "cell_type": "code",
   "execution_count": null,
   "metadata": {},
   "outputs": [],
   "source": []
  }
 ],
 "metadata": {
  "kernelspec": {
   "display_name": "eda",
   "language": "python",
   "name": "python3"
  },
  "language_info": {
   "codemirror_mode": {
    "name": "ipython",
    "version": 3
   },
   "file_extension": ".py",
   "mimetype": "text/x-python",
   "name": "python",
   "nbconvert_exporter": "python",
   "pygments_lexer": "ipython3",
   "version": "3.10.13"
  }
 },
 "nbformat": 4,
 "nbformat_minor": 2
}
