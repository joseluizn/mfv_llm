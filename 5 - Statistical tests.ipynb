{
 "cells": [
  {
   "cell_type": "code",
   "execution_count": 1,
   "metadata": {},
   "outputs": [],
   "source": [
    "from pathlib import Path\n",
    "\n",
    "import numpy as np\n",
    "import pandas as pd\n",
    "import statsmodels.api as sm\n",
    "import statsmodels.formula.api as smf\n",
    "from scipy.stats import ttest_ind\n",
    "from sklearn.preprocessing import StandardScaler\n",
    "from statsmodels.iolib.summary2 import summary_col\n",
    "from statsmodels.stats.multicomp import pairwise_tukeyhsd\n"
   ]
  },
  {
   "cell_type": "code",
   "execution_count": 2,
   "metadata": {},
   "outputs": [],
   "source": [
    "data_dir = Path() / \"results\"\n",
    "figs_dir = Path() / \"figs\"\n",
    "figs_dir.mkdir(exist_ok=True)"
   ]
  },
  {
   "cell_type": "markdown",
   "metadata": {},
   "source": [
    "# Statistics"
   ]
  },
  {
   "cell_type": "code",
   "execution_count": 3,
   "metadata": {},
   "outputs": [],
   "source": [
    "cronbach_df = pd.read_csv(data_dir / \"cronbach.csv\")\n",
    "cronbach_df_simple = cronbach_df.query(\"scale in ['MFQ', 'MFV']\")"
   ]
  },
  {
   "cell_type": "markdown",
   "metadata": {},
   "source": [
    "## Condition T-test"
   ]
  },
  {
   "cell_type": "code",
   "execution_count": 4,
   "metadata": {},
   "outputs": [
    {
     "data": {
      "text/plain": [
       "TtestResult(statistic=-0.44920858127742386, pvalue=0.6576752597589356, df=22.0)"
      ]
     },
     "execution_count": 4,
     "metadata": {},
     "output_type": "execute_result"
    }
   ],
   "source": [
    "# claude ttest\n",
    "ttest_ind(\n",
    "    cronbach_df_simple.query(\"agent == 'Claude 2.1' and condition == 'qv'\")[\"alpha\"].values,\n",
    "    cronbach_df_simple.query(\"agent == 'Claude 2.1' and condition == 'vq'\")[\"alpha\"].values,\n",
    ")\n",
    "\n",
    "# old value: Ttest_indResult(statistic=0.054352978972766676, pvalue=0.9569116669285772)"
   ]
  },
  {
   "cell_type": "code",
   "execution_count": 5,
   "metadata": {},
   "outputs": [
    {
     "data": {
      "text/plain": [
       "24"
      ]
     },
     "execution_count": 5,
     "metadata": {},
     "output_type": "execute_result"
    }
   ],
   "source": [
    "cronbach_df_simple.query(\"agent == 'Claude 2.1' and condition == 'qv'\").shape[0] + cronbach_df_simple.query(\"agent == 'Claude 2.1' and condition == 'vq'\").shape[0]"
   ]
  },
  {
   "cell_type": "code",
   "execution_count": 6,
   "metadata": {},
   "outputs": [
    {
     "data": {
      "text/plain": [
       "TtestResult(statistic=2.858629170799804, pvalue=0.009130833612339734, df=22.0)"
      ]
     },
     "execution_count": 6,
     "metadata": {},
     "output_type": "execute_result"
    }
   ],
   "source": [
    "cronbach_df_simple# gpt-4 ttest\n",
    "ttest_ind(\n",
    "    cronbach_df_simple.query(\"agent == 'GPT-4' and condition == 'qv'\")[\"alpha\"].values,\n",
    "    cronbach_df_simple.query(\"agent == 'GPT-4' and condition == 'vq'\")[\"alpha\"].values,\n",
    ")\n",
    "# old value: Ttest_indResult(statistic=2.4887215445023743, pvalue=0.016869329019227434)"
   ]
  },
  {
   "cell_type": "code",
   "execution_count": 7,
   "metadata": {},
   "outputs": [
    {
     "data": {
      "text/plain": [
       "24"
      ]
     },
     "execution_count": 7,
     "metadata": {},
     "output_type": "execute_result"
    }
   ],
   "source": [
    "cronbach_df_simple.query(\"agent == 'GPT-4' and condition == 'qv'\").shape[0] + cronbach_df_simple.query(\"agent == 'GPT-4' and condition == 'vq'\").shape[0]"
   ]
  },
  {
   "cell_type": "markdown",
   "metadata": {},
   "source": [
    "Calculating Cohen-D for GPT-4"
   ]
  },
  {
   "cell_type": "code",
   "execution_count": 8,
   "metadata": {},
   "outputs": [
    {
     "data": {
      "text/plain": [
       "1.1670304720491502"
      ]
     },
     "execution_count": 8,
     "metadata": {},
     "output_type": "execute_result"
    }
   ],
   "source": [
    "def cohen_d(x, y):\n",
    "    nx = len(x)\n",
    "    ny = len(y)\n",
    "    dof = nx + ny - 2\n",
    "    return (np.mean(x) - np.mean(y)) / np.sqrt(\n",
    "        ((nx - 1) * np.std(x, ddof=1) ** 2 + (ny - 1) * np.std(y, ddof=1) ** 2) / dof\n",
    "    )\n",
    "\n",
    "cohen_d(\n",
    "    cronbach_df_simple.query(\"agent == 'GPT-4' and condition == 'qv'\")[\"alpha\"].values,\n",
    "    cronbach_df_simple.query(\"agent == 'GPT-4' and condition == 'vq'\")[\"alpha\"].values,\n",
    ")\n"
   ]
  },
  {
   "cell_type": "markdown",
   "metadata": {},
   "source": [
    "## ANOVA for agent"
   ]
  },
  {
   "cell_type": "code",
   "execution_count": 9,
   "metadata": {},
   "outputs": [],
   "source": [
    "cronbach_overall_simple = cronbach_df_simple.query(\"condition == 'overall'\")"
   ]
  },
  {
   "cell_type": "code",
   "execution_count": 10,
   "metadata": {},
   "outputs": [
    {
     "name": "stdout",
     "output_type": "stream",
     "text": [
      "                                sum_sq    df         F    PR(>F)\n",
      "C(agent, Treatment('Human'))  0.049612   2.0  0.896107  0.417855\n",
      "Residual                      0.913508  33.0       NaN       NaN\n"
     ]
    }
   ],
   "source": [
    "formula = \"alpha ~ C(agent, Treatment('Human'))\"\n",
    "model = smf.ols(formula, cronbach_overall_simple).fit()\n",
    "aov_table = sm.stats.anova_lm(model, typ=2)\n",
    "print(aov_table)"
   ]
  },
  {
   "cell_type": "code",
   "execution_count": 11,
   "metadata": {},
   "outputs": [
    {
     "data": {
      "text/plain": [
       "agent       scale\n",
       "Claude 2.1  MFQ      0.464288\n",
       "            MFV      0.911348\n",
       "GPT-4       MFQ      0.814661\n",
       "            MFV      0.720451\n",
       "Human       MFQ      0.735493\n",
       "            MFV      0.872140\n",
       "Name: alpha, dtype: float64"
      ]
     },
     "execution_count": 11,
     "metadata": {},
     "output_type": "execute_result"
    }
   ],
   "source": [
    "cronbach_overall_simple.groupby([\"agent\", \"scale\"])[\"alpha\"].mean()"
   ]
  },
  {
   "cell_type": "code",
   "execution_count": 12,
   "metadata": {},
   "outputs": [
    {
     "name": "stderr",
     "output_type": "stream",
     "text": [
      "/home/joseluiz/anaconda3/envs/eda/lib/python3.10/site-packages/statsmodels/iolib/summary2.py:579: FutureWarning: DataFrame.applymap has been deprecated. Use DataFrame.map instead.\n",
      "  dat = dat.applymap(lambda x: _formatter(x, float_format))\n"
     ]
    },
    {
     "data": {
      "text/html": [
       "<table class=\"simpletable\">\n",
       "<tr>\n",
       "        <td>Model:</td>               <td>OLS</td>         <td>Adj. R-squared:</td>    <td>-0.006</td> \n",
       "</tr>\n",
       "<tr>\n",
       "  <td>Dependent Variable:</td>       <td>alpha</td>             <td>AIC:</td>         <td>-24.0998</td>\n",
       "</tr>\n",
       "<tr>\n",
       "         <td>Date:</td>        <td>2024-07-24 19:23</td>        <td>BIC:</td>         <td>-19.3492</td>\n",
       "</tr>\n",
       "<tr>\n",
       "   <td>No. Observations:</td>         <td>36</td>          <td>Log-Likelihood:</td>    <td>15.050</td> \n",
       "</tr>\n",
       "<tr>\n",
       "       <td>Df Model:</td>              <td>2</td>           <td>F-statistic:</td>      <td>0.8961</td> \n",
       "</tr>\n",
       "<tr>\n",
       "     <td>Df Residuals:</td>           <td>33</td>        <td>Prob (F-statistic):</td>   <td>0.418</td> \n",
       "</tr>\n",
       "<tr>\n",
       "      <td>R-squared:</td>            <td>0.052</td>            <td>Scale:</td>        <td>0.027682</td>\n",
       "</tr>\n",
       "</table>\n",
       "<table class=\"simpletable\">\n",
       "<tr>\n",
       "                       <td></td>                       <th>Coef.</th>  <th>Std.Err.</th>    <th>t</th>     <th>P>|t|</th> <th>[0.025</th>  <th>0.975]</th>\n",
       "</tr>\n",
       "<tr>\n",
       "  <th>Intercept</th>                                  <td>0.8152</td>   <td>0.0480</td>  <td>16.9730</td> <td>0.0000</td> <td>0.7175</td>  <td>0.9129</td>\n",
       "</tr>\n",
       "<tr>\n",
       "  <th>C(agent, Treatment('Human'))[T.Claude 2.1]</th> <td>-0.0901</td>  <td>0.0679</td>  <td>-1.3269</td> <td>0.1936</td> <td>-0.2283</td> <td>0.0481</td>\n",
       "</tr>\n",
       "<tr>\n",
       "  <th>C(agent, Treatment('Human'))[T.GPT-4]</th>      <td>-0.0555</td>  <td>0.0679</td>  <td>-0.8171</td> <td>0.4198</td> <td>-0.1937</td> <td>0.0827</td>\n",
       "</tr>\n",
       "</table>\n",
       "<table class=\"simpletable\">\n",
       "<tr>\n",
       "     <td>Omnibus:</td>     <td>5.646</td>  <td>Durbin-Watson:</td>   <td>2.032</td>\n",
       "</tr>\n",
       "<tr>\n",
       "  <td>Prob(Omnibus):</td>  <td>0.059</td> <td>Jarque-Bera (JB):</td> <td>4.626</td>\n",
       "</tr>\n",
       "<tr>\n",
       "       <td>Skew:</td>     <td>-0.870</td>     <td>Prob(JB):</td>     <td>0.099</td>\n",
       "</tr>\n",
       "<tr>\n",
       "     <td>Kurtosis:</td>    <td>3.244</td>  <td>Condition No.:</td>     <td>4</td>  \n",
       "</tr>\n",
       "</table>"
      ],
      "text/plain": [
       "<class 'statsmodels.iolib.summary2.Summary'>\n",
       "\"\"\"\n",
       "                             Results: Ordinary least squares\n",
       "=========================================================================================\n",
       "Model:                      OLS                      Adj. R-squared:             -0.006  \n",
       "Dependent Variable:         alpha                    AIC:                        -24.0998\n",
       "Date:                       2024-07-24 19:23         BIC:                        -19.3492\n",
       "No. Observations:           36                       Log-Likelihood:             15.050  \n",
       "Df Model:                   2                        F-statistic:                0.8961  \n",
       "Df Residuals:               33                       Prob (F-statistic):         0.418   \n",
       "R-squared:                  0.052                    Scale:                      0.027682\n",
       "-----------------------------------------------------------------------------------------\n",
       "                                            Coef.  Std.Err.    t    P>|t|   [0.025 0.975]\n",
       "-----------------------------------------------------------------------------------------\n",
       "Intercept                                   0.8152   0.0480 16.9730 0.0000  0.7175 0.9129\n",
       "C(agent, Treatment('Human'))[T.Claude 2.1] -0.0901   0.0679 -1.3269 0.1936 -0.2283 0.0481\n",
       "C(agent, Treatment('Human'))[T.GPT-4]      -0.0555   0.0679 -0.8171 0.4198 -0.1937 0.0827\n",
       "-----------------------------------------------------------------------------------------\n",
       "Omnibus:                       5.646                Durbin-Watson:                  2.032\n",
       "Prob(Omnibus):                 0.059                Jarque-Bera (JB):               4.626\n",
       "Skew:                          -0.870               Prob(JB):                       0.099\n",
       "Kurtosis:                      3.244                Condition No.:                  4    \n",
       "=========================================================================================\n",
       "\n",
       "\"\"\""
      ]
     },
     "execution_count": 12,
     "metadata": {},
     "output_type": "execute_result"
    }
   ],
   "source": [
    "model.summary2()"
   ]
  },
  {
   "cell_type": "markdown",
   "metadata": {},
   "source": [
    "## ANOVA AGENT * Instrument"
   ]
  },
  {
   "cell_type": "code",
   "execution_count": 13,
   "metadata": {},
   "outputs": [
    {
     "data": {
      "text/html": [
       "<div>\n",
       "<style scoped>\n",
       "    .dataframe tbody tr th:only-of-type {\n",
       "        vertical-align: middle;\n",
       "    }\n",
       "\n",
       "    .dataframe tbody tr th {\n",
       "        vertical-align: top;\n",
       "    }\n",
       "\n",
       "    .dataframe thead th {\n",
       "        text-align: right;\n",
       "    }\n",
       "</style>\n",
       "<table border=\"1\" class=\"dataframe\">\n",
       "  <thead>\n",
       "    <tr style=\"text-align: right;\">\n",
       "      <th></th>\n",
       "      <th>sum_sq</th>\n",
       "      <th>df</th>\n",
       "      <th>F</th>\n",
       "      <th>PR(&gt;F)</th>\n",
       "    </tr>\n",
       "  </thead>\n",
       "  <tbody>\n",
       "    <tr>\n",
       "      <th>C(agent, Treatment('Human'))</th>\n",
       "      <td>0.050</td>\n",
       "      <td>2.0</td>\n",
       "      <td>2.974</td>\n",
       "      <td>0.066</td>\n",
       "    </tr>\n",
       "    <tr>\n",
       "      <th>C(scale)</th>\n",
       "      <td>0.233</td>\n",
       "      <td>1.0</td>\n",
       "      <td>27.929</td>\n",
       "      <td>0.000</td>\n",
       "    </tr>\n",
       "    <tr>\n",
       "      <th>C(agent, Treatment('Human')):C(scale)</th>\n",
       "      <td>0.430</td>\n",
       "      <td>2.0</td>\n",
       "      <td>25.796</td>\n",
       "      <td>0.000</td>\n",
       "    </tr>\n",
       "    <tr>\n",
       "      <th>Residual</th>\n",
       "      <td>0.250</td>\n",
       "      <td>30.0</td>\n",
       "      <td>NaN</td>\n",
       "      <td>NaN</td>\n",
       "    </tr>\n",
       "  </tbody>\n",
       "</table>\n",
       "</div>"
      ],
      "text/plain": [
       "                                       sum_sq    df       F  PR(>F)\n",
       "C(agent, Treatment('Human'))            0.050   2.0   2.974   0.066\n",
       "C(scale)                                0.233   1.0  27.929   0.000\n",
       "C(agent, Treatment('Human')):C(scale)   0.430   2.0  25.796   0.000\n",
       "Residual                                0.250  30.0     NaN     NaN"
      ]
     },
     "execution_count": 13,
     "metadata": {},
     "output_type": "execute_result"
    }
   ],
   "source": [
    "formula_scale = \"alpha ~ C(agent, Treatment('Human')) * C(scale)\"\n",
    "model_scale = smf.ols(formula_scale, cronbach_overall_simple).fit()\n",
    "aov_table_scale = sm.stats.anova_lm(model_scale, typ=2)\n",
    "round(aov_table_scale, 3)"
   ]
  },
  {
   "cell_type": "code",
   "execution_count": 14,
   "metadata": {},
   "outputs": [
    {
     "name": "stdout",
     "output_type": "stream",
     "text": [
      "  Multiple Comparison of Means - Tukey HSD, FWER=0.05  \n",
      "=======================================================\n",
      "  group1   group2 meandiff p-adj   lower  upper  reject\n",
      "-------------------------------------------------------\n",
      "Claude 2.1  GPT-4  -0.0305 0.8232 -0.1528 0.0918  False\n",
      "Claude 2.1  Human   0.1036 0.3308 -0.0694 0.2765  False\n",
      "     GPT-4  Human    0.134 0.1601 -0.0389  0.307  False\n",
      "-------------------------------------------------------\n"
     ]
    }
   ],
   "source": [
    "res = pairwise_tukeyhsd(cronbach_df_simple[\"alpha\"], cronbach_df_simple[\"agent\"])\n",
    "print(res)"
   ]
  },
  {
   "cell_type": "code",
   "execution_count": 15,
   "metadata": {},
   "outputs": [
    {
     "data": {
      "text/html": [
       "<table class=\"simpletable\">\n",
       "<caption>OLS Regression Results</caption>\n",
       "<tr>\n",
       "  <th>Dep. Variable:</th>          <td>alpha</td>      <th>  R-squared:         </th> <td>   0.740</td>\n",
       "</tr>\n",
       "<tr>\n",
       "  <th>Model:</th>                   <td>OLS</td>       <th>  Adj. R-squared:    </th> <td>   0.697</td>\n",
       "</tr>\n",
       "<tr>\n",
       "  <th>Method:</th>             <td>Least Squares</td>  <th>  F-statistic:       </th> <td>   17.09</td>\n",
       "</tr>\n",
       "<tr>\n",
       "  <th>Date:</th>             <td>Wed, 24 Jul 2024</td> <th>  Prob (F-statistic):</th> <td>5.38e-08</td>\n",
       "</tr>\n",
       "<tr>\n",
       "  <th>Time:</th>                 <td>19:23:15</td>     <th>  Log-Likelihood:    </th> <td>  38.359</td>\n",
       "</tr>\n",
       "<tr>\n",
       "  <th>No. Observations:</th>      <td>    36</td>      <th>  AIC:               </th> <td>  -64.72</td>\n",
       "</tr>\n",
       "<tr>\n",
       "  <th>Df Residuals:</th>          <td>    30</td>      <th>  BIC:               </th> <td>  -55.22</td>\n",
       "</tr>\n",
       "<tr>\n",
       "  <th>Df Model:</th>              <td>     5</td>      <th>                     </th>     <td> </td>   \n",
       "</tr>\n",
       "<tr>\n",
       "  <th>Covariance Type:</th>      <td>nonrobust</td>    <th>                     </th>     <td> </td>   \n",
       "</tr>\n",
       "</table>\n",
       "<table class=\"simpletable\">\n",
       "<tr>\n",
       "                               <td></td>                                 <th>coef</th>     <th>std err</th>      <th>t</th>      <th>P>|t|</th>  <th>[0.025</th>    <th>0.975]</th>  \n",
       "</tr>\n",
       "<tr>\n",
       "  <th>Intercept</th>                                                  <td>    0.7355</td> <td>    0.041</td> <td>   18.008</td> <td> 0.000</td> <td>    0.652</td> <td>    0.819</td>\n",
       "</tr>\n",
       "<tr>\n",
       "  <th>C(agent, Treatment('Human'))[T.Claude 2.1]</th>                 <td>   -0.2712</td> <td>    0.058</td> <td>   -4.695</td> <td> 0.000</td> <td>   -0.389</td> <td>   -0.153</td>\n",
       "</tr>\n",
       "<tr>\n",
       "  <th>C(agent, Treatment('Human'))[T.GPT-4]</th>                      <td>    0.0792</td> <td>    0.058</td> <td>    1.371</td> <td> 0.181</td> <td>   -0.039</td> <td>    0.197</td>\n",
       "</tr>\n",
       "<tr>\n",
       "  <th>C(scale)[T.MFV]</th>                                            <td>    0.1366</td> <td>    0.053</td> <td>    2.555</td> <td> 0.016</td> <td>    0.027</td> <td>    0.246</td>\n",
       "</tr>\n",
       "<tr>\n",
       "  <th>C(agent, Treatment('Human'))[T.Claude 2.1]:C(scale)[T.MFV]</th> <td>    0.3104</td> <td>    0.076</td> <td>    4.105</td> <td> 0.000</td> <td>    0.156</td> <td>    0.465</td>\n",
       "</tr>\n",
       "<tr>\n",
       "  <th>C(agent, Treatment('Human'))[T.GPT-4]:C(scale)[T.MFV]</th>      <td>   -0.2309</td> <td>    0.076</td> <td>   -3.053</td> <td> 0.005</td> <td>   -0.385</td> <td>   -0.076</td>\n",
       "</tr>\n",
       "</table>\n",
       "<table class=\"simpletable\">\n",
       "<tr>\n",
       "  <th>Omnibus:</th>       <td>13.177</td> <th>  Durbin-Watson:     </th> <td>   1.356</td>\n",
       "</tr>\n",
       "<tr>\n",
       "  <th>Prob(Omnibus):</th> <td> 0.001</td> <th>  Jarque-Bera (JB):  </th> <td>  18.251</td>\n",
       "</tr>\n",
       "<tr>\n",
       "  <th>Skew:</th>          <td>-0.937</td> <th>  Prob(JB):          </th> <td>0.000109</td>\n",
       "</tr>\n",
       "<tr>\n",
       "  <th>Kurtosis:</th>      <td> 5.942</td> <th>  Cond. No.          </th> <td>    10.7</td>\n",
       "</tr>\n",
       "</table><br/><br/>Notes:<br/>[1] Standard Errors assume that the covariance matrix of the errors is correctly specified."
      ],
      "text/plain": [
       "<class 'statsmodels.iolib.summary.Summary'>\n",
       "\"\"\"\n",
       "                            OLS Regression Results                            \n",
       "==============================================================================\n",
       "Dep. Variable:                  alpha   R-squared:                       0.740\n",
       "Model:                            OLS   Adj. R-squared:                  0.697\n",
       "Method:                 Least Squares   F-statistic:                     17.09\n",
       "Date:                Wed, 24 Jul 2024   Prob (F-statistic):           5.38e-08\n",
       "Time:                        19:23:15   Log-Likelihood:                 38.359\n",
       "No. Observations:                  36   AIC:                            -64.72\n",
       "Df Residuals:                      30   BIC:                            -55.22\n",
       "Df Model:                           5                                         \n",
       "Covariance Type:            nonrobust                                         \n",
       "==============================================================================================================================\n",
       "                                                                 coef    std err          t      P>|t|      [0.025      0.975]\n",
       "------------------------------------------------------------------------------------------------------------------------------\n",
       "Intercept                                                      0.7355      0.041     18.008      0.000       0.652       0.819\n",
       "C(agent, Treatment('Human'))[T.Claude 2.1]                    -0.2712      0.058     -4.695      0.000      -0.389      -0.153\n",
       "C(agent, Treatment('Human'))[T.GPT-4]                          0.0792      0.058      1.371      0.181      -0.039       0.197\n",
       "C(scale)[T.MFV]                                                0.1366      0.053      2.555      0.016       0.027       0.246\n",
       "C(agent, Treatment('Human'))[T.Claude 2.1]:C(scale)[T.MFV]     0.3104      0.076      4.105      0.000       0.156       0.465\n",
       "C(agent, Treatment('Human'))[T.GPT-4]:C(scale)[T.MFV]         -0.2309      0.076     -3.053      0.005      -0.385      -0.076\n",
       "==============================================================================\n",
       "Omnibus:                       13.177   Durbin-Watson:                   1.356\n",
       "Prob(Omnibus):                  0.001   Jarque-Bera (JB):               18.251\n",
       "Skew:                          -0.937   Prob(JB):                     0.000109\n",
       "Kurtosis:                       5.942   Cond. No.                         10.7\n",
       "==============================================================================\n",
       "\n",
       "Notes:\n",
       "[1] Standard Errors assume that the covariance matrix of the errors is correctly specified.\n",
       "\"\"\""
      ]
     },
     "execution_count": 15,
     "metadata": {},
     "output_type": "execute_result"
    }
   ],
   "source": [
    "model_scale.summary()"
   ]
  },
  {
   "cell_type": "markdown",
   "metadata": {},
   "source": [
    "## AGENT * FOUNDATION"
   ]
  },
  {
   "cell_type": "code",
   "execution_count": 16,
   "metadata": {},
   "outputs": [
    {
     "data": {
      "text/html": [
       "<div>\n",
       "<style scoped>\n",
       "    .dataframe tbody tr th:only-of-type {\n",
       "        vertical-align: middle;\n",
       "    }\n",
       "\n",
       "    .dataframe tbody tr th {\n",
       "        vertical-align: top;\n",
       "    }\n",
       "\n",
       "    .dataframe thead th {\n",
       "        text-align: right;\n",
       "    }\n",
       "</style>\n",
       "<table border=\"1\" class=\"dataframe\">\n",
       "  <thead>\n",
       "    <tr style=\"text-align: right;\">\n",
       "      <th></th>\n",
       "      <th>sum_sq</th>\n",
       "      <th>df</th>\n",
       "      <th>F</th>\n",
       "      <th>PR(&gt;F)</th>\n",
       "    </tr>\n",
       "  </thead>\n",
       "  <tbody>\n",
       "    <tr>\n",
       "      <th>C(agent, Treatment('Human'))</th>\n",
       "      <td>0.185</td>\n",
       "      <td>2.0</td>\n",
       "      <td>2.234</td>\n",
       "      <td>0.117</td>\n",
       "    </tr>\n",
       "    <tr>\n",
       "      <th>C(foundation)</th>\n",
       "      <td>1.004</td>\n",
       "      <td>7.0</td>\n",
       "      <td>3.461</td>\n",
       "      <td>0.004</td>\n",
       "    </tr>\n",
       "    <tr>\n",
       "      <th>C(agent, Treatment('Human')):C(foundation)</th>\n",
       "      <td>0.370</td>\n",
       "      <td>14.0</td>\n",
       "      <td>0.637</td>\n",
       "      <td>0.822</td>\n",
       "    </tr>\n",
       "    <tr>\n",
       "      <th>Residual</th>\n",
       "      <td>2.197</td>\n",
       "      <td>53.0</td>\n",
       "      <td>NaN</td>\n",
       "      <td>NaN</td>\n",
       "    </tr>\n",
       "  </tbody>\n",
       "</table>\n",
       "</div>"
      ],
      "text/plain": [
       "                                            sum_sq    df      F  PR(>F)\n",
       "C(agent, Treatment('Human'))                 0.185   2.0  2.234   0.117\n",
       "C(foundation)                                1.004   7.0  3.461   0.004\n",
       "C(agent, Treatment('Human')):C(foundation)   0.370  14.0  0.637   0.822\n",
       "Residual                                     2.197  53.0    NaN     NaN"
      ]
     },
     "execution_count": 16,
     "metadata": {},
     "output_type": "execute_result"
    }
   ],
   "source": [
    "formula_found = \"alpha ~ C(agent, Treatment('Human')) * C(foundation)\"\n",
    "model_found = smf.ols(formula_found, cronbach_df_simple.query(\"foundation != 'Liberty'\")).fit()\n",
    "\n",
    "aov_table_found = sm.stats.anova_lm(model_found, typ=2)\n",
    "round(aov_table_found, 3)"
   ]
  },
  {
   "cell_type": "markdown",
   "metadata": {},
   "source": [
    "# Regression models"
   ]
  },
  {
   "cell_type": "code",
   "execution_count": 17,
   "metadata": {},
   "outputs": [
    {
     "data": {
      "text/html": [
       "<div>\n",
       "<style scoped>\n",
       "    .dataframe tbody tr th:only-of-type {\n",
       "        vertical-align: middle;\n",
       "    }\n",
       "\n",
       "    .dataframe tbody tr th {\n",
       "        vertical-align: top;\n",
       "    }\n",
       "\n",
       "    .dataframe thead th {\n",
       "        text-align: right;\n",
       "    }\n",
       "</style>\n",
       "<table border=\"1\" class=\"dataframe\">\n",
       "  <thead>\n",
       "    <tr style=\"text-align: right;\">\n",
       "      <th></th>\n",
       "      <th>agent</th>\n",
       "      <th>id</th>\n",
       "      <th>condition</th>\n",
       "      <th>MFQ_Care</th>\n",
       "      <th>MFQ_Fairness</th>\n",
       "      <th>MFQ_Loyalty</th>\n",
       "      <th>MFQ_Authority</th>\n",
       "      <th>MFQ_Purity</th>\n",
       "      <th>MFV_Authority</th>\n",
       "      <th>MFV_Loyalty</th>\n",
       "      <th>MFV_Fairness</th>\n",
       "      <th>MFV_Purity</th>\n",
       "      <th>MFV_Care (p)</th>\n",
       "      <th>MFV_Liberty</th>\n",
       "      <th>MFV_Care (e)</th>\n",
       "    </tr>\n",
       "  </thead>\n",
       "  <tbody>\n",
       "    <tr>\n",
       "      <th>0</th>\n",
       "      <td>Claude 2.1</td>\n",
       "      <td>0</td>\n",
       "      <td>qv</td>\n",
       "      <td>3.500000</td>\n",
       "      <td>4.500000</td>\n",
       "      <td>1.666667</td>\n",
       "      <td>1.666667</td>\n",
       "      <td>1.5</td>\n",
       "      <td>1.9</td>\n",
       "      <td>1.733333</td>\n",
       "      <td>2.666667</td>\n",
       "      <td>3.571429</td>\n",
       "      <td>3.222222</td>\n",
       "      <td>2.428571</td>\n",
       "      <td>2.272727</td>\n",
       "    </tr>\n",
       "    <tr>\n",
       "      <th>1</th>\n",
       "      <td>Claude 2.1</td>\n",
       "      <td>2</td>\n",
       "      <td>qv</td>\n",
       "      <td>3.666667</td>\n",
       "      <td>4.833333</td>\n",
       "      <td>2.000000</td>\n",
       "      <td>2.000000</td>\n",
       "      <td>2.0</td>\n",
       "      <td>2.4</td>\n",
       "      <td>3.333333</td>\n",
       "      <td>3.000000</td>\n",
       "      <td>3.571429</td>\n",
       "      <td>3.666667</td>\n",
       "      <td>3.000000</td>\n",
       "      <td>2.272727</td>\n",
       "    </tr>\n",
       "  </tbody>\n",
       "</table>\n",
       "</div>"
      ],
      "text/plain": [
       "        agent  id condition  MFQ_Care  MFQ_Fairness  MFQ_Loyalty  \\\n",
       "0  Claude 2.1   0        qv  3.500000      4.500000     1.666667   \n",
       "1  Claude 2.1   2        qv  3.666667      4.833333     2.000000   \n",
       "\n",
       "   MFQ_Authority  MFQ_Purity  MFV_Authority  MFV_Loyalty  MFV_Fairness  \\\n",
       "0       1.666667         1.5            1.9     1.733333      2.666667   \n",
       "1       2.000000         2.0            2.4     3.333333      3.000000   \n",
       "\n",
       "   MFV_Purity  MFV_Care (p)  MFV_Liberty  MFV_Care (e)  \n",
       "0    3.571429      3.222222     2.428571      2.272727  \n",
       "1    3.571429      3.666667     3.000000      2.272727  "
      ]
     },
     "execution_count": 17,
     "metadata": {},
     "output_type": "execute_result"
    }
   ],
   "source": [
    "df = pd.read_csv(data_dir / \"foundation_cond_agg.csv\")\n",
    "\n",
    "# renaming columns to use same terminology\n",
    "df.rename(\n",
    "    columns={\n",
    "        \"MFQ_harm\": \"MFQ_Care\",\n",
    "        \"MFQ_ingroup\": \"MFQ_Loyalty\",\n",
    "        \"MFQ_authority\": \"MFQ_Authority\",\n",
    "        \"MFQ_purity\": \"MFQ_Purity\",\n",
    "        \"MFQ_fairness\": \"MFQ_Fairness\",\n",
    "    },\n",
    "    inplace=True,\n",
    ")\n",
    "\n",
    "df.head(2)"
   ]
  },
  {
   "cell_type": "markdown",
   "metadata": {},
   "source": [
    "Applying StandardScaler"
   ]
  },
  {
   "cell_type": "code",
   "execution_count": 18,
   "metadata": {},
   "outputs": [],
   "source": [
    "scaler = StandardScaler()\n",
    "\n",
    "# apply on columns starting with MFQ or MFV\n",
    "df.loc[\n",
    "    :, df.columns.str.startswith(\"MFQ\") | df.columns.str.startswith(\"MFV\")\n",
    "] = scaler.fit_transform(\n",
    "    df.loc[:, df.columns.str.startswith(\"MFQ\") | df.columns.str.startswith(\"MFV\")]\n",
    ")"
   ]
  },
  {
   "cell_type": "code",
   "execution_count": 19,
   "metadata": {},
   "outputs": [],
   "source": [
    "# rename columns to standardize under care, loyalty etc\n",
    "\n",
    "formula = \"Q('{}') ~ MFQ_Authority + MFQ_Care + MFQ_Fairness + MFQ_Loyalty + MFQ_Purity\"\n",
    "\n",
    "dependents = [x for x in df.columns if x.startswith(\"MFV_\")]\n",
    "dependents.sort()"
   ]
  },
  {
   "cell_type": "code",
   "execution_count": 20,
   "metadata": {},
   "outputs": [
    {
     "data": {
      "text/plain": [
       "Index(['agent', 'id', 'condition', 'MFQ_Care', 'MFQ_Fairness', 'MFQ_Loyalty',\n",
       "       'MFQ_Authority', 'MFQ_Purity', 'MFV_Authority', 'MFV_Loyalty',\n",
       "       'MFV_Fairness', 'MFV_Purity', 'MFV_Care (p)', 'MFV_Liberty',\n",
       "       'MFV_Care (e)'],\n",
       "      dtype='object')"
      ]
     },
     "execution_count": 20,
     "metadata": {},
     "output_type": "execute_result"
    }
   ],
   "source": [
    "df.columns"
   ]
  },
  {
   "cell_type": "markdown",
   "metadata": {},
   "source": [
    "## Models for Claude"
   ]
  },
  {
   "cell_type": "code",
   "execution_count": 21,
   "metadata": {},
   "outputs": [
    {
     "name": "stderr",
     "output_type": "stream",
     "text": [
      "/home/joseluiz/anaconda3/envs/eda/lib/python3.10/site-packages/statsmodels/iolib/summary2.py:579: FutureWarning: DataFrame.applymap has been deprecated. Use DataFrame.map instead.\n",
      "  dat = dat.applymap(lambda x: _formatter(x, float_format))\n"
     ]
    },
    {
     "data": {
      "text/html": [
       "<table class=\"simpletable\">\n",
       "<tr>\n",
       "         <td></td>        <th>Q('MFV_Authority')</th> <th>Q('MFV_Care (e)')</th> <th>Q('MFV_Care (p)')</th> <th>Q('MFV_Fairness')</th> <th>Q('MFV_Liberty')</th> <th>Q('MFV_Loyalty')</th> <th>Q('MFV_Purity')</th>\n",
       "</tr>\n",
       "<tr>\n",
       "  <th>Intercept</th>          <td>-0.7213***</td>         <td>-0.3880**</td>        <td>-0.8084***</td>        <td>-0.8465***</td>         <td>-0.3510**</td>         <td>0.2278</td>        <td>-0.5073***</td>   \n",
       "</tr>\n",
       "<tr>\n",
       "  <th></th>                    <td>(0.1359)</td>          <td>(0.1762)</td>          <td>(0.1210)</td>          <td>(0.0972)</td>          <td>(0.1574)</td>         <td>(0.1837)</td>        <td>(0.1494)</td>    \n",
       "</tr>\n",
       "<tr>\n",
       "  <th>MFQ_Authority</th>        <td>0.0017</td>            <td>0.1277</td>            <td>0.0598</td>            <td>-0.0021</td>           <td>0.0416</td>           <td>-0.0045</td>         <td>0.0871</td>     \n",
       "</tr>\n",
       "<tr>\n",
       "  <th></th>                    <td>(0.1339)</td>          <td>(0.1736)</td>          <td>(0.1192)</td>          <td>(0.0957)</td>          <td>(0.1551)</td>         <td>(0.1810)</td>        <td>(0.1472)</td>    \n",
       "</tr>\n",
       "<tr>\n",
       "  <th>MFQ_Care</th>             <td>-0.0068</td>           <td>0.0993</td>            <td>0.1072</td>            <td>0.0680</td>            <td>0.1828</td>           <td>0.0762</td>          <td>0.2333*</td>    \n",
       "</tr>\n",
       "<tr>\n",
       "  <th></th>                    <td>(0.1206)</td>          <td>(0.1564)</td>          <td>(0.1074)</td>          <td>(0.0862)</td>          <td>(0.1397)</td>         <td>(0.1630)</td>        <td>(0.1326)</td>    \n",
       "</tr>\n",
       "<tr>\n",
       "  <th>MFQ_Fairness</th>         <td>0.0282</td>            <td>-0.1197</td>           <td>-0.0494</td>           <td>-0.0278</td>           <td>-0.0391</td>          <td>-0.0690</td>         <td>-0.0986</td>    \n",
       "</tr>\n",
       "<tr>\n",
       "  <th></th>                    <td>(0.0937)</td>          <td>(0.1215)</td>          <td>(0.0834)</td>          <td>(0.0670)</td>          <td>(0.1086)</td>         <td>(0.1267)</td>        <td>(0.1030)</td>    \n",
       "</tr>\n",
       "<tr>\n",
       "  <th>MFQ_Loyalty</th>          <td>0.0236</td>            <td>-0.1061</td>           <td>-0.0764</td>           <td>0.0066</td>            <td>0.0733</td>           <td>0.1978</td>          <td>-0.0368</td>    \n",
       "</tr>\n",
       "<tr>\n",
       "  <th></th>                    <td>(0.1442)</td>          <td>(0.1869)</td>          <td>(0.1283)</td>          <td>(0.1031)</td>          <td>(0.1670)</td>         <td>(0.1949)</td>        <td>(0.1585)</td>    \n",
       "</tr>\n",
       "<tr>\n",
       "  <th>MFQ_Purity</th>          <td>0.2000**</td>          <td>0.3504***</td>         <td>0.1680**</td>          <td>0.1689**</td>          <td>0.3525***</td>        <td>0.4218***</td>       <td>0.2556**</td>    \n",
       "</tr>\n",
       "<tr>\n",
       "  <th></th>                    <td>(0.0943)</td>          <td>(0.1222)</td>          <td>(0.0839)</td>          <td>(0.0674)</td>          <td>(0.1092)</td>         <td>(0.1274)</td>        <td>(0.1036)</td>    \n",
       "</tr>\n",
       "<tr>\n",
       "  <th>R-squared</th>            <td>0.0367</td>            <td>0.0719</td>            <td>0.0401</td>            <td>0.0526</td>            <td>0.0997</td>           <td>0.1018</td>          <td>0.0739</td>     \n",
       "</tr>\n",
       "<tr>\n",
       "  <th>R-squared Adj.</th>       <td>0.0050</td>            <td>0.0414</td>            <td>0.0085</td>            <td>0.0214</td>            <td>0.0701</td>           <td>0.0723</td>          <td>0.0435</td>     \n",
       "</tr>\n",
       "</table>"
      ],
      "text/plain": [
       "<class 'statsmodels.iolib.summary2.Summary'>\n",
       "\"\"\"\n",
       "\n",
       "=========================================================================================================================================\n",
       "               Q('MFV_Authority') Q('MFV_Care (e)') Q('MFV_Care (p)') Q('MFV_Fairness') Q('MFV_Liberty') Q('MFV_Loyalty') Q('MFV_Purity')\n",
       "-----------------------------------------------------------------------------------------------------------------------------------------\n",
       "Intercept      -0.7213***         -0.3880**         -0.8084***        -0.8465***        -0.3510**        0.2278           -0.5073***     \n",
       "               (0.1359)           (0.1762)          (0.1210)          (0.0972)          (0.1574)         (0.1837)         (0.1494)       \n",
       "MFQ_Authority  0.0017             0.1277            0.0598            -0.0021           0.0416           -0.0045          0.0871         \n",
       "               (0.1339)           (0.1736)          (0.1192)          (0.0957)          (0.1551)         (0.1810)         (0.1472)       \n",
       "MFQ_Care       -0.0068            0.0993            0.1072            0.0680            0.1828           0.0762           0.2333*        \n",
       "               (0.1206)           (0.1564)          (0.1074)          (0.0862)          (0.1397)         (0.1630)         (0.1326)       \n",
       "MFQ_Fairness   0.0282             -0.1197           -0.0494           -0.0278           -0.0391          -0.0690          -0.0986        \n",
       "               (0.0937)           (0.1215)          (0.0834)          (0.0670)          (0.1086)         (0.1267)         (0.1030)       \n",
       "MFQ_Loyalty    0.0236             -0.1061           -0.0764           0.0066            0.0733           0.1978           -0.0368        \n",
       "               (0.1442)           (0.1869)          (0.1283)          (0.1031)          (0.1670)         (0.1949)         (0.1585)       \n",
       "MFQ_Purity     0.2000**           0.3504***         0.1680**          0.1689**          0.3525***        0.4218***        0.2556**       \n",
       "               (0.0943)           (0.1222)          (0.0839)          (0.0674)          (0.1092)         (0.1274)         (0.1036)       \n",
       "R-squared      0.0367             0.0719            0.0401            0.0526            0.0997           0.1018           0.0739         \n",
       "R-squared Adj. 0.0050             0.0414            0.0085            0.0214            0.0701           0.0723           0.0435         \n",
       "=========================================================================================================================================\n",
       "Standard errors in parentheses.\n",
       "* p<.1, ** p<.05, ***p<.01\n",
       "\"\"\""
      ]
     },
     "execution_count": 21,
     "metadata": {},
     "output_type": "execute_result"
    }
   ],
   "source": [
    "models = list()\n",
    "\n",
    "for i in dependents:\n",
    "    mod = smf.ols(\n",
    "        formula=formula.format(i),\n",
    "        data=df.query(\"agent == 'Claude 2.1'\"),\n",
    "    )\n",
    "    res = mod.fit()\n",
    "    models.append(res)\n",
    "\n",
    "output = summary_col(models, stars=True,)\n",
    "\n",
    "output"
   ]
  },
  {
   "cell_type": "markdown",
   "metadata": {},
   "source": [
    "## GPT-4"
   ]
  },
  {
   "cell_type": "code",
   "execution_count": 22,
   "metadata": {},
   "outputs": [
    {
     "name": "stderr",
     "output_type": "stream",
     "text": [
      "/home/joseluiz/anaconda3/envs/eda/lib/python3.10/site-packages/statsmodels/iolib/summary2.py:579: FutureWarning: DataFrame.applymap has been deprecated. Use DataFrame.map instead.\n",
      "  dat = dat.applymap(lambda x: _formatter(x, float_format))\n"
     ]
    },
    {
     "data": {
      "text/html": [
       "<table class=\"simpletable\">\n",
       "<tr>\n",
       "         <td></td>        <th>Q('MFV_Authority')</th> <th>Q('MFV_Care (e)')</th> <th>Q('MFV_Care (p)')</th> <th>Q('MFV_Fairness')</th> <th>Q('MFV_Liberty')</th> <th>Q('MFV_Loyalty')</th> <th>Q('MFV_Purity')</th>\n",
       "</tr>\n",
       "<tr>\n",
       "  <th>Intercept</th>           <td>0.7994***</td>         <td>0.8964***</td>         <td>1.0151***</td>         <td>1.0735***</td>         <td>0.6966***</td>         <td>-0.1073</td>        <td>0.9770***</td>   \n",
       "</tr>\n",
       "<tr>\n",
       "  <th></th>                    <td>(0.2049)</td>          <td>(0.2532)</td>          <td>(0.0670)</td>          <td>(0.1220)</td>          <td>(0.2170)</td>         <td>(0.3575)</td>        <td>(0.1673)</td>    \n",
       "</tr>\n",
       "<tr>\n",
       "  <th>MFQ_Authority</th>        <td>0.0611</td>            <td>-0.0503</td>           <td>-0.0081</td>           <td>-0.0822</td>           <td>0.0440</td>           <td>-0.1383</td>         <td>-0.0126</td>    \n",
       "</tr>\n",
       "<tr>\n",
       "  <th></th>                    <td>(0.1270)</td>          <td>(0.1570)</td>          <td>(0.0415)</td>          <td>(0.0756)</td>          <td>(0.1345)</td>         <td>(0.2216)</td>        <td>(0.1037)</td>    \n",
       "</tr>\n",
       "<tr>\n",
       "  <th>MFQ_Care</th>             <td>0.0011</td>            <td>0.0941</td>            <td>-0.0644</td>           <td>-0.0165</td>           <td>-0.0576</td>          <td>0.2598</td>          <td>-0.0886</td>    \n",
       "</tr>\n",
       "<tr>\n",
       "  <th></th>                    <td>(0.1890)</td>          <td>(0.2336)</td>          <td>(0.0618)</td>          <td>(0.1126)</td>          <td>(0.2002)</td>         <td>(0.3297)</td>        <td>(0.1543)</td>    \n",
       "</tr>\n",
       "<tr>\n",
       "  <th>MFQ_Fairness</th>         <td>-0.1310</td>           <td>-0.1722</td>           <td>-0.0327</td>           <td>-0.0440</td>           <td>0.0939</td>           <td>-0.2090</td>         <td>-0.0429</td>    \n",
       "</tr>\n",
       "<tr>\n",
       "  <th></th>                    <td>(0.1396)</td>          <td>(0.1725)</td>          <td>(0.0456)</td>          <td>(0.0831)</td>          <td>(0.1478)</td>         <td>(0.2435)</td>        <td>(0.1140)</td>    \n",
       "</tr>\n",
       "<tr>\n",
       "  <th>MFQ_Loyalty</th>          <td>0.0007</td>            <td>-0.0206</td>          <td>-0.0814*</td>           <td>-0.0025</td>           <td>0.2130</td>           <td>0.4343*</td>         <td>-0.0500</td>    \n",
       "</tr>\n",
       "<tr>\n",
       "  <th></th>                    <td>(0.1386)</td>          <td>(0.1713)</td>          <td>(0.0453)</td>          <td>(0.0825)</td>          <td>(0.1468)</td>         <td>(0.2418)</td>        <td>(0.1132)</td>    \n",
       "</tr>\n",
       "<tr>\n",
       "  <th>MFQ_Purity</th>           <td>0.0109</td>            <td>-0.1619</td>           <td>0.0056</td>            <td>-0.0348</td>           <td>-0.1504</td>          <td>-0.2046</td>         <td>-0.0243</td>    \n",
       "</tr>\n",
       "<tr>\n",
       "  <th></th>                    <td>(0.1000)</td>          <td>(0.1236)</td>          <td>(0.0327)</td>          <td>(0.0596)</td>          <td>(0.1059)</td>         <td>(0.1745)</td>        <td>(0.0817)</td>    \n",
       "</tr>\n",
       "<tr>\n",
       "  <th>R-squared</th>            <td>0.0133</td>            <td>0.0461</td>            <td>0.0674</td>            <td>0.0362</td>            <td>0.0476</td>           <td>0.0629</td>          <td>0.0146</td>     \n",
       "</tr>\n",
       "<tr>\n",
       "  <th>R-squared Adj.</th>       <td>-0.0461</td>           <td>-0.0113</td>           <td>0.0112</td>            <td>-0.0218</td>           <td>-0.0097</td>          <td>0.0064</td>          <td>-0.0448</td>    \n",
       "</tr>\n",
       "</table>"
      ],
      "text/plain": [
       "<class 'statsmodels.iolib.summary2.Summary'>\n",
       "\"\"\"\n",
       "\n",
       "=========================================================================================================================================\n",
       "               Q('MFV_Authority') Q('MFV_Care (e)') Q('MFV_Care (p)') Q('MFV_Fairness') Q('MFV_Liberty') Q('MFV_Loyalty') Q('MFV_Purity')\n",
       "-----------------------------------------------------------------------------------------------------------------------------------------\n",
       "Intercept      0.7994***          0.8964***         1.0151***         1.0735***         0.6966***        -0.1073          0.9770***      \n",
       "               (0.2049)           (0.2532)          (0.0670)          (0.1220)          (0.2170)         (0.3575)         (0.1673)       \n",
       "MFQ_Authority  0.0611             -0.0503           -0.0081           -0.0822           0.0440           -0.1383          -0.0126        \n",
       "               (0.1270)           (0.1570)          (0.0415)          (0.0756)          (0.1345)         (0.2216)         (0.1037)       \n",
       "MFQ_Care       0.0011             0.0941            -0.0644           -0.0165           -0.0576          0.2598           -0.0886        \n",
       "               (0.1890)           (0.2336)          (0.0618)          (0.1126)          (0.2002)         (0.3297)         (0.1543)       \n",
       "MFQ_Fairness   -0.1310            -0.1722           -0.0327           -0.0440           0.0939           -0.2090          -0.0429        \n",
       "               (0.1396)           (0.1725)          (0.0456)          (0.0831)          (0.1478)         (0.2435)         (0.1140)       \n",
       "MFQ_Loyalty    0.0007             -0.0206           -0.0814*          -0.0025           0.2130           0.4343*          -0.0500        \n",
       "               (0.1386)           (0.1713)          (0.0453)          (0.0825)          (0.1468)         (0.2418)         (0.1132)       \n",
       "MFQ_Purity     0.0109             -0.1619           0.0056            -0.0348           -0.1504          -0.2046          -0.0243        \n",
       "               (0.1000)           (0.1236)          (0.0327)          (0.0596)          (0.1059)         (0.1745)         (0.0817)       \n",
       "R-squared      0.0133             0.0461            0.0674            0.0362            0.0476           0.0629           0.0146         \n",
       "R-squared Adj. -0.0461            -0.0113           0.0112            -0.0218           -0.0097          0.0064           -0.0448        \n",
       "=========================================================================================================================================\n",
       "Standard errors in parentheses.\n",
       "* p<.1, ** p<.05, ***p<.01\n",
       "\"\"\""
      ]
     },
     "execution_count": 22,
     "metadata": {},
     "output_type": "execute_result"
    }
   ],
   "source": [
    "models = list()\n",
    "\n",
    "for i in dependents:\n",
    "    mod = smf.ols(\n",
    "        formula=formula.format(i),\n",
    "        data=df.query(\"agent == 'GPT-4' and condition == 'vq'\"),\n",
    "    )\n",
    "    res = mod.fit()\n",
    "    models.append(res)\n",
    "\n",
    "output = summary_col(models, stars=True)\n",
    "\n",
    "output"
   ]
  },
  {
   "cell_type": "code",
   "execution_count": 23,
   "metadata": {},
   "outputs": [
    {
     "name": "stderr",
     "output_type": "stream",
     "text": [
      "/home/joseluiz/anaconda3/envs/eda/lib/python3.10/site-packages/statsmodels/iolib/summary2.py:579: FutureWarning: DataFrame.applymap has been deprecated. Use DataFrame.map instead.\n",
      "  dat = dat.applymap(lambda x: _formatter(x, float_format))\n"
     ]
    },
    {
     "data": {
      "text/html": [
       "<table class=\"simpletable\">\n",
       "<tr>\n",
       "         <td></td>        <th>Q('MFV_Authority')</th> <th>Q('MFV_Care (e)')</th> <th>Q('MFV_Care (p)')</th> <th>Q('MFV_Fairness')</th> <th>Q('MFV_Liberty')</th> <th>Q('MFV_Loyalty')</th> <th>Q('MFV_Purity')</th>\n",
       "</tr>\n",
       "<tr>\n",
       "  <th>Intercept</th>           <td>0.5219***</td>         <td>0.2535**</td>          <td>0.7084***</td>         <td>0.6677***</td>         <td>0.3899***</td>         <td>0.0203</td>         <td>0.5902***</td>   \n",
       "</tr>\n",
       "<tr>\n",
       "  <th></th>                    <td>(0.1039)</td>          <td>(0.1202)</td>          <td>(0.0550)</td>          <td>(0.0590)</td>          <td>(0.1133)</td>         <td>(0.1728)</td>        <td>(0.0935)</td>    \n",
       "</tr>\n",
       "<tr>\n",
       "  <th>MFQ_Authority</th>        <td>-0.0775</td>          <td>-0.1993*</td>           <td>-0.0220</td>          <td>-0.1086*</td>         <td>-0.3727***</td>         <td>-0.1714</td>         <td>-0.0181</td>    \n",
       "</tr>\n",
       "<tr>\n",
       "  <th></th>                    <td>(0.1020)</td>          <td>(0.1180)</td>          <td>(0.0540)</td>          <td>(0.0580)</td>          <td>(0.1113)</td>         <td>(0.1697)</td>        <td>(0.0918)</td>    \n",
       "</tr>\n",
       "<tr>\n",
       "  <th>MFQ_Care</th>             <td>0.1437</td>            <td>0.1887</td>            <td>0.0881</td>            <td>0.1273</td>            <td>0.0416</td>           <td>-0.0301</td>         <td>-0.0230</td>    \n",
       "</tr>\n",
       "<tr>\n",
       "  <th></th>                    <td>(0.1367)</td>          <td>(0.1582)</td>          <td>(0.0723)</td>          <td>(0.0777)</td>          <td>(0.1492)</td>         <td>(0.2275)</td>        <td>(0.1231)</td>    \n",
       "</tr>\n",
       "<tr>\n",
       "  <th>MFQ_Fairness</th>         <td>-0.1232</td>           <td>-0.0874</td>           <td>-0.0404</td>           <td>-0.0413</td>           <td>0.0628</td>           <td>-0.0544</td>         <td>0.0990</td>     \n",
       "</tr>\n",
       "<tr>\n",
       "  <th></th>                    <td>(0.0872)</td>          <td>(0.1009)</td>          <td>(0.0461)</td>          <td>(0.0496)</td>          <td>(0.0951)</td>         <td>(0.1451)</td>        <td>(0.0785)</td>    \n",
       "</tr>\n",
       "<tr>\n",
       "  <th>MFQ_Loyalty</th>          <td>0.0739</td>            <td>0.0306</td>            <td>-0.0185</td>           <td>-0.0210</td>           <td>0.1431</td>           <td>0.2800*</td>         <td>-0.0443</td>    \n",
       "</tr>\n",
       "<tr>\n",
       "  <th></th>                    <td>(0.0986)</td>          <td>(0.1141)</td>          <td>(0.0522)</td>          <td>(0.0560)</td>          <td>(0.1076)</td>         <td>(0.1641)</td>        <td>(0.0888)</td>    \n",
       "</tr>\n",
       "<tr>\n",
       "  <th>MFQ_Purity</th>           <td>0.0622</td>            <td>0.1849*</td>           <td>0.0060</td>            <td>0.0399</td>            <td>0.1536*</td>          <td>-0.1177</td>         <td>0.0218</td>     \n",
       "</tr>\n",
       "<tr>\n",
       "  <th></th>                    <td>(0.0833)</td>          <td>(0.0964)</td>          <td>(0.0441)</td>          <td>(0.0473)</td>          <td>(0.0909)</td>         <td>(0.1386)</td>        <td>(0.0750)</td>    \n",
       "</tr>\n",
       "<tr>\n",
       "  <th>R-squared</th>            <td>0.0444</td>            <td>0.0693</td>            <td>0.0305</td>            <td>0.1364</td>            <td>0.1433</td>           <td>0.0454</td>          <td>0.0624</td>     \n",
       "</tr>\n",
       "<tr>\n",
       "  <th>R-squared Adj.</th>       <td>-0.0105</td>           <td>0.0159</td>            <td>-0.0252</td>           <td>0.0868</td>            <td>0.0940</td>           <td>-0.0094</td>         <td>0.0085</td>     \n",
       "</tr>\n",
       "</table>"
      ],
      "text/plain": [
       "<class 'statsmodels.iolib.summary2.Summary'>\n",
       "\"\"\"\n",
       "\n",
       "=========================================================================================================================================\n",
       "               Q('MFV_Authority') Q('MFV_Care (e)') Q('MFV_Care (p)') Q('MFV_Fairness') Q('MFV_Liberty') Q('MFV_Loyalty') Q('MFV_Purity')\n",
       "-----------------------------------------------------------------------------------------------------------------------------------------\n",
       "Intercept      0.5219***          0.2535**          0.7084***         0.6677***         0.3899***        0.0203           0.5902***      \n",
       "               (0.1039)           (0.1202)          (0.0550)          (0.0590)          (0.1133)         (0.1728)         (0.0935)       \n",
       "MFQ_Authority  -0.0775            -0.1993*          -0.0220           -0.1086*          -0.3727***       -0.1714          -0.0181        \n",
       "               (0.1020)           (0.1180)          (0.0540)          (0.0580)          (0.1113)         (0.1697)         (0.0918)       \n",
       "MFQ_Care       0.1437             0.1887            0.0881            0.1273            0.0416           -0.0301          -0.0230        \n",
       "               (0.1367)           (0.1582)          (0.0723)          (0.0777)          (0.1492)         (0.2275)         (0.1231)       \n",
       "MFQ_Fairness   -0.1232            -0.0874           -0.0404           -0.0413           0.0628           -0.0544          0.0990         \n",
       "               (0.0872)           (0.1009)          (0.0461)          (0.0496)          (0.0951)         (0.1451)         (0.0785)       \n",
       "MFQ_Loyalty    0.0739             0.0306            -0.0185           -0.0210           0.1431           0.2800*          -0.0443        \n",
       "               (0.0986)           (0.1141)          (0.0522)          (0.0560)          (0.1076)         (0.1641)         (0.0888)       \n",
       "MFQ_Purity     0.0622             0.1849*           0.0060            0.0399            0.1536*          -0.1177          0.0218         \n",
       "               (0.0833)           (0.0964)          (0.0441)          (0.0473)          (0.0909)         (0.1386)         (0.0750)       \n",
       "R-squared      0.0444             0.0693            0.0305            0.1364            0.1433           0.0454           0.0624         \n",
       "R-squared Adj. -0.0105            0.0159            -0.0252           0.0868            0.0940           -0.0094          0.0085         \n",
       "=========================================================================================================================================\n",
       "Standard errors in parentheses.\n",
       "* p<.1, ** p<.05, ***p<.01\n",
       "\"\"\""
      ]
     },
     "execution_count": 23,
     "metadata": {},
     "output_type": "execute_result"
    }
   ],
   "source": [
    "models = list()\n",
    "\n",
    "for i in dependents:\n",
    "    mod = smf.ols(\n",
    "        formula=formula.format(i),\n",
    "        data=df.query(\"agent == 'GPT-4' and condition == 'qv'\"),\n",
    "    )\n",
    "    res = mod.fit()\n",
    "    models.append(res)\n",
    "\n",
    "output_qv = summary_col(models, stars=True)\n",
    "\n",
    "output_qv"
   ]
  },
  {
   "cell_type": "code",
   "execution_count": 24,
   "metadata": {},
   "outputs": [
    {
     "name": "stderr",
     "output_type": "stream",
     "text": [
      "/home/joseluiz/anaconda3/envs/eda/lib/python3.10/site-packages/statsmodels/iolib/summary2.py:579: FutureWarning: DataFrame.applymap has been deprecated. Use DataFrame.map instead.\n",
      "  dat = dat.applymap(lambda x: _formatter(x, float_format))\n"
     ]
    },
    {
     "data": {
      "text/html": [
       "<table class=\"simpletable\">\n",
       "<tr>\n",
       "         <td></td>        <th>Q('MFV_Authority')</th> <th>Q('MFV_Care (e)')</th> <th>Q('MFV_Care (p)')</th> <th>Q('MFV_Fairness')</th> <th>Q('MFV_Liberty')</th> <th>Q('MFV_Loyalty')</th> <th>Q('MFV_Purity')</th>\n",
       "</tr>\n",
       "<tr>\n",
       "  <th>Intercept</th>           <td>0.7994***</td>         <td>0.8964***</td>         <td>1.0151***</td>         <td>1.0735***</td>         <td>0.6966***</td>         <td>-0.1073</td>        <td>0.9770***</td>   \n",
       "</tr>\n",
       "<tr>\n",
       "  <th></th>                    <td>(0.2049)</td>          <td>(0.2532)</td>          <td>(0.0670)</td>          <td>(0.1220)</td>          <td>(0.2170)</td>         <td>(0.3575)</td>        <td>(0.1673)</td>    \n",
       "</tr>\n",
       "<tr>\n",
       "  <th>MFQ_Authority</th>        <td>0.0611</td>            <td>-0.0503</td>           <td>-0.0081</td>           <td>-0.0822</td>           <td>0.0440</td>           <td>-0.1383</td>         <td>-0.0126</td>    \n",
       "</tr>\n",
       "<tr>\n",
       "  <th></th>                    <td>(0.1270)</td>          <td>(0.1570)</td>          <td>(0.0415)</td>          <td>(0.0756)</td>          <td>(0.1345)</td>         <td>(0.2216)</td>        <td>(0.1037)</td>    \n",
       "</tr>\n",
       "<tr>\n",
       "  <th>MFQ_Care</th>             <td>0.0011</td>            <td>0.0941</td>            <td>-0.0644</td>           <td>-0.0165</td>           <td>-0.0576</td>          <td>0.2598</td>          <td>-0.0886</td>    \n",
       "</tr>\n",
       "<tr>\n",
       "  <th></th>                    <td>(0.1890)</td>          <td>(0.2336)</td>          <td>(0.0618)</td>          <td>(0.1126)</td>          <td>(0.2002)</td>         <td>(0.3297)</td>        <td>(0.1543)</td>    \n",
       "</tr>\n",
       "<tr>\n",
       "  <th>MFQ_Fairness</th>         <td>-0.1310</td>           <td>-0.1722</td>           <td>-0.0327</td>           <td>-0.0440</td>           <td>0.0939</td>           <td>-0.2090</td>         <td>-0.0429</td>    \n",
       "</tr>\n",
       "<tr>\n",
       "  <th></th>                    <td>(0.1396)</td>          <td>(0.1725)</td>          <td>(0.0456)</td>          <td>(0.0831)</td>          <td>(0.1478)</td>         <td>(0.2435)</td>        <td>(0.1140)</td>    \n",
       "</tr>\n",
       "<tr>\n",
       "  <th>MFQ_Loyalty</th>          <td>0.0007</td>            <td>-0.0206</td>          <td>-0.0814*</td>           <td>-0.0025</td>           <td>0.2130</td>           <td>0.4343*</td>         <td>-0.0500</td>    \n",
       "</tr>\n",
       "<tr>\n",
       "  <th></th>                    <td>(0.1386)</td>          <td>(0.1713)</td>          <td>(0.0453)</td>          <td>(0.0825)</td>          <td>(0.1468)</td>         <td>(0.2418)</td>        <td>(0.1132)</td>    \n",
       "</tr>\n",
       "<tr>\n",
       "  <th>MFQ_Purity</th>           <td>0.0109</td>            <td>-0.1619</td>           <td>0.0056</td>            <td>-0.0348</td>           <td>-0.1504</td>          <td>-0.2046</td>         <td>-0.0243</td>    \n",
       "</tr>\n",
       "<tr>\n",
       "  <th></th>                    <td>(0.1000)</td>          <td>(0.1236)</td>          <td>(0.0327)</td>          <td>(0.0596)</td>          <td>(0.1059)</td>         <td>(0.1745)</td>        <td>(0.0817)</td>    \n",
       "</tr>\n",
       "<tr>\n",
       "  <th>R-squared</th>            <td>0.0133</td>            <td>0.0461</td>            <td>0.0674</td>            <td>0.0362</td>            <td>0.0476</td>           <td>0.0629</td>          <td>0.0146</td>     \n",
       "</tr>\n",
       "<tr>\n",
       "  <th>R-squared Adj.</th>       <td>-0.0461</td>           <td>-0.0113</td>           <td>0.0112</td>            <td>-0.0218</td>           <td>-0.0097</td>          <td>0.0064</td>          <td>-0.0448</td>    \n",
       "</tr>\n",
       "</table>"
      ],
      "text/plain": [
       "<class 'statsmodels.iolib.summary2.Summary'>\n",
       "\"\"\"\n",
       "\n",
       "=========================================================================================================================================\n",
       "               Q('MFV_Authority') Q('MFV_Care (e)') Q('MFV_Care (p)') Q('MFV_Fairness') Q('MFV_Liberty') Q('MFV_Loyalty') Q('MFV_Purity')\n",
       "-----------------------------------------------------------------------------------------------------------------------------------------\n",
       "Intercept      0.7994***          0.8964***         1.0151***         1.0735***         0.6966***        -0.1073          0.9770***      \n",
       "               (0.2049)           (0.2532)          (0.0670)          (0.1220)          (0.2170)         (0.3575)         (0.1673)       \n",
       "MFQ_Authority  0.0611             -0.0503           -0.0081           -0.0822           0.0440           -0.1383          -0.0126        \n",
       "               (0.1270)           (0.1570)          (0.0415)          (0.0756)          (0.1345)         (0.2216)         (0.1037)       \n",
       "MFQ_Care       0.0011             0.0941            -0.0644           -0.0165           -0.0576          0.2598           -0.0886        \n",
       "               (0.1890)           (0.2336)          (0.0618)          (0.1126)          (0.2002)         (0.3297)         (0.1543)       \n",
       "MFQ_Fairness   -0.1310            -0.1722           -0.0327           -0.0440           0.0939           -0.2090          -0.0429        \n",
       "               (0.1396)           (0.1725)          (0.0456)          (0.0831)          (0.1478)         (0.2435)         (0.1140)       \n",
       "MFQ_Loyalty    0.0007             -0.0206           -0.0814*          -0.0025           0.2130           0.4343*          -0.0500        \n",
       "               (0.1386)           (0.1713)          (0.0453)          (0.0825)          (0.1468)         (0.2418)         (0.1132)       \n",
       "MFQ_Purity     0.0109             -0.1619           0.0056            -0.0348           -0.1504          -0.2046          -0.0243        \n",
       "               (0.1000)           (0.1236)          (0.0327)          (0.0596)          (0.1059)         (0.1745)         (0.0817)       \n",
       "R-squared      0.0133             0.0461            0.0674            0.0362            0.0476           0.0629           0.0146         \n",
       "R-squared Adj. -0.0461            -0.0113           0.0112            -0.0218           -0.0097          0.0064           -0.0448        \n",
       "=========================================================================================================================================\n",
       "Standard errors in parentheses.\n",
       "* p<.1, ** p<.05, ***p<.01\n",
       "\"\"\""
      ]
     },
     "execution_count": 24,
     "metadata": {},
     "output_type": "execute_result"
    }
   ],
   "source": [
    "models = list()\n",
    "\n",
    "for i in dependents:\n",
    "    mod = smf.ols(\n",
    "        formula=formula.format(i),\n",
    "        data=df.query(\"agent == 'GPT-4' and condition == 'vq'\"),\n",
    "    )\n",
    "    res = mod.fit()\n",
    "    models.append(res)\n",
    "\n",
    "output_vq = summary_col(models, stars=True)\n",
    "\n",
    "output_vq"
   ]
  },
  {
   "cell_type": "markdown",
   "metadata": {},
   "source": [
    "# Statistics - Including MFQ Divisions"
   ]
  },
  {
   "cell_type": "markdown",
   "metadata": {},
   "source": [
    "## Condition T-test"
   ]
  },
  {
   "cell_type": "code",
   "execution_count": 25,
   "metadata": {},
   "outputs": [],
   "source": [
    "cronbach_df_parts = cronbach_df.query(\"scale != 'MFQ'\")"
   ]
  },
  {
   "cell_type": "code",
   "execution_count": 26,
   "metadata": {},
   "outputs": [
    {
     "data": {
      "text/plain": [
       "TtestResult(statistic=-0.34953516655422673, pvalue=0.7289774841350276, df=32.0)"
      ]
     },
     "execution_count": 26,
     "metadata": {},
     "output_type": "execute_result"
    }
   ],
   "source": [
    "# claude ttest\n",
    "ttest_ind(\n",
    "    cronbach_df_parts.query(\"agent == 'Claude 2.1' and condition == 'qv'\")[\"alpha\"].values,\n",
    "    cronbach_df_parts.query(\"agent == 'Claude 2.1' and condition == 'vq'\")[\"alpha\"].values,\n",
    ")\n",
    "\n",
    "# old value: Ttest_indResult(statistic=0.054352978972766676, pvalue=0.9569116669285772)"
   ]
  },
  {
   "cell_type": "code",
   "execution_count": 27,
   "metadata": {},
   "outputs": [
    {
     "data": {
      "text/plain": [
       "TtestResult(statistic=3.88904317108902, pvalue=0.00047785239263291085, df=32.0)"
      ]
     },
     "execution_count": 27,
     "metadata": {},
     "output_type": "execute_result"
    }
   ],
   "source": [
    "# gpt-4 ttest\n",
    "ttest_ind(\n",
    "    cronbach_df_parts.query(\"agent == 'GPT-4' and condition == 'qv'\")[\"alpha\"].values,\n",
    "    cronbach_df_parts.query(\"agent == 'GPT-4' and condition == 'vq'\")[\"alpha\"].values,\n",
    ")\n",
    "# old value: Ttest_indResult(statistic=2.4887215445023743, pvalue=0.016869329019227434)"
   ]
  },
  {
   "cell_type": "markdown",
   "metadata": {},
   "source": [
    "Calculating Cohen-D for GPT-4"
   ]
  },
  {
   "cell_type": "code",
   "execution_count": 28,
   "metadata": {},
   "outputs": [
    {
     "data": {
      "text/plain": [
       "1.3339308027998054"
      ]
     },
     "execution_count": 28,
     "metadata": {},
     "output_type": "execute_result"
    }
   ],
   "source": [
    "def cohen_d(x, y):\n",
    "    nx = len(x)\n",
    "    ny = len(y)\n",
    "    dof = nx + ny - 2\n",
    "    return (np.mean(x) - np.mean(y)) / np.sqrt(\n",
    "        ((nx - 1) * np.std(x, ddof=1) ** 2 + (ny - 1) * np.std(y, ddof=1) ** 2) / dof\n",
    "    )\n",
    "\n",
    "cohen_d(\n",
    "    cronbach_df_parts.query(\"agent == 'GPT-4' and condition == 'qv'\")[\"alpha\"].values,\n",
    "    cronbach_df_parts.query(\"agent == 'GPT-4' and condition == 'vq'\")[\"alpha\"].values,\n",
    ")\n",
    "\n",
    "# previous 0.7503777791625594"
   ]
  },
  {
   "cell_type": "markdown",
   "metadata": {},
   "source": [
    "## ANOVA for agent"
   ]
  },
  {
   "cell_type": "code",
   "execution_count": 29,
   "metadata": {},
   "outputs": [
    {
     "name": "stdout",
     "output_type": "stream",
     "text": [
      "                                sum_sq     df         F    PR(>F)\n",
      "C(agent, Treatment('Human'))  0.294712    2.0  2.086264  0.128784\n",
      "Residual                      8.193269  116.0       NaN       NaN\n"
     ]
    }
   ],
   "source": [
    "formula = \"alpha ~ C(agent, Treatment('Human'))\"\n",
    "model = smf.ols(formula, cronbach_df_parts).fit()\n",
    "aov_table = sm.stats.anova_lm(model, typ=2)\n",
    "print(aov_table)"
   ]
  },
  {
   "cell_type": "code",
   "execution_count": 30,
   "metadata": {},
   "outputs": [
    {
     "data": {
      "text/plain": [
       "agent\n",
       "Claude 2.1    0.581551\n",
       "GPT-4         0.639082\n",
       "Human         0.730455\n",
       "Name: alpha, dtype: float64"
      ]
     },
     "execution_count": 30,
     "metadata": {},
     "output_type": "execute_result"
    }
   ],
   "source": [
    "cronbach_df_parts.groupby(\"agent\")[\"alpha\"].mean()"
   ]
  },
  {
   "cell_type": "code",
   "execution_count": 31,
   "metadata": {},
   "outputs": [
    {
     "name": "stderr",
     "output_type": "stream",
     "text": [
      "/home/joseluiz/anaconda3/envs/eda/lib/python3.10/site-packages/statsmodels/iolib/summary2.py:579: FutureWarning: DataFrame.applymap has been deprecated. Use DataFrame.map instead.\n",
      "  dat = dat.applymap(lambda x: _formatter(x, float_format))\n"
     ]
    },
    {
     "data": {
      "text/html": [
       "<table class=\"simpletable\">\n",
       "<tr>\n",
       "        <td>Model:</td>               <td>OLS</td>         <td>Adj. R-squared:</td>     <td>0.018</td> \n",
       "</tr>\n",
       "<tr>\n",
       "  <td>Dependent Variable:</td>       <td>alpha</td>             <td>AIC:</td>          <td>25.2859</td>\n",
       "</tr>\n",
       "<tr>\n",
       "         <td>Date:</td>        <td>2024-07-24 19:23</td>        <td>BIC:</td>          <td>33.6233</td>\n",
       "</tr>\n",
       "<tr>\n",
       "   <td>No. Observations:</td>         <td>119</td>         <td>Log-Likelihood:</td>    <td>-9.6430</td>\n",
       "</tr>\n",
       "<tr>\n",
       "       <td>Df Model:</td>              <td>2</td>           <td>F-statistic:</td>       <td>2.086</td> \n",
       "</tr>\n",
       "<tr>\n",
       "     <td>Df Residuals:</td>           <td>116</td>       <td>Prob (F-statistic):</td>   <td>0.129</td> \n",
       "</tr>\n",
       "<tr>\n",
       "      <td>R-squared:</td>            <td>0.035</td>            <td>Scale:</td>        <td>0.070632</td>\n",
       "</tr>\n",
       "</table>\n",
       "<table class=\"simpletable\">\n",
       "<tr>\n",
       "                       <td></td>                       <th>Coef.</th>  <th>Std.Err.</th>    <th>t</th>     <th>P>|t|</th> <th>[0.025</th>  <th>0.975]</th> \n",
       "</tr>\n",
       "<tr>\n",
       "  <th>Intercept</th>                                  <td>0.7305</td>   <td>0.0645</td>  <td>11.3323</td> <td>0.0000</td> <td>0.6028</td>  <td>0.8581</td> \n",
       "</tr>\n",
       "<tr>\n",
       "  <th>C(agent, Treatment('Human'))[T.Claude 2.1]</th> <td>-0.1489</td>  <td>0.0744</td>  <td>-2.0006</td> <td>0.0478</td> <td>-0.2963</td> <td>-0.0015</td>\n",
       "</tr>\n",
       "<tr>\n",
       "  <th>C(agent, Treatment('Human'))[T.GPT-4]</th>      <td>-0.0914</td>  <td>0.0744</td>  <td>-1.2276</td> <td>0.2221</td> <td>-0.2388</td> <td>0.0560</td> \n",
       "</tr>\n",
       "</table>\n",
       "<table class=\"simpletable\">\n",
       "<tr>\n",
       "     <td>Omnibus:</td>     <td>8.931</td>  <td>Durbin-Watson:</td>   <td>1.312</td>\n",
       "</tr>\n",
       "<tr>\n",
       "  <td>Prob(Omnibus):</td>  <td>0.011</td> <td>Jarque-Bera (JB):</td> <td>9.593</td>\n",
       "</tr>\n",
       "<tr>\n",
       "       <td>Skew:</td>     <td>-0.680</td>     <td>Prob(JB):</td>     <td>0.008</td>\n",
       "</tr>\n",
       "<tr>\n",
       "     <td>Kurtosis:</td>    <td>2.710</td>  <td>Condition No.:</td>     <td>6</td>  \n",
       "</tr>\n",
       "</table>"
      ],
      "text/plain": [
       "<class 'statsmodels.iolib.summary2.Summary'>\n",
       "\"\"\"\n",
       "                             Results: Ordinary least squares\n",
       "==========================================================================================\n",
       "Model:                       OLS                      Adj. R-squared:             0.018   \n",
       "Dependent Variable:          alpha                    AIC:                        25.2859 \n",
       "Date:                        2024-07-24 19:23         BIC:                        33.6233 \n",
       "No. Observations:            119                      Log-Likelihood:             -9.6430 \n",
       "Df Model:                    2                        F-statistic:                2.086   \n",
       "Df Residuals:                116                      Prob (F-statistic):         0.129   \n",
       "R-squared:                   0.035                    Scale:                      0.070632\n",
       "------------------------------------------------------------------------------------------\n",
       "                                            Coef.  Std.Err.    t    P>|t|   [0.025  0.975]\n",
       "------------------------------------------------------------------------------------------\n",
       "Intercept                                   0.7305   0.0645 11.3323 0.0000  0.6028  0.8581\n",
       "C(agent, Treatment('Human'))[T.Claude 2.1] -0.1489   0.0744 -2.0006 0.0478 -0.2963 -0.0015\n",
       "C(agent, Treatment('Human'))[T.GPT-4]      -0.0914   0.0744 -1.2276 0.2221 -0.2388  0.0560\n",
       "------------------------------------------------------------------------------------------\n",
       "Omnibus:                      8.931                 Durbin-Watson:                   1.312\n",
       "Prob(Omnibus):                0.011                 Jarque-Bera (JB):                9.593\n",
       "Skew:                         -0.680                Prob(JB):                        0.008\n",
       "Kurtosis:                     2.710                 Condition No.:                   6    \n",
       "==========================================================================================\n",
       "\n",
       "\"\"\""
      ]
     },
     "execution_count": 31,
     "metadata": {},
     "output_type": "execute_result"
    }
   ],
   "source": [
    "model.summary2()"
   ]
  },
  {
   "cell_type": "code",
   "execution_count": 32,
   "metadata": {},
   "outputs": [
    {
     "data": {
      "text/html": [
       "<div>\n",
       "<style scoped>\n",
       "    .dataframe tbody tr th:only-of-type {\n",
       "        vertical-align: middle;\n",
       "    }\n",
       "\n",
       "    .dataframe tbody tr th {\n",
       "        vertical-align: top;\n",
       "    }\n",
       "\n",
       "    .dataframe thead th {\n",
       "        text-align: right;\n",
       "    }\n",
       "</style>\n",
       "<table border=\"1\" class=\"dataframe\">\n",
       "  <thead>\n",
       "    <tr style=\"text-align: right;\">\n",
       "      <th></th>\n",
       "      <th>sum_sq</th>\n",
       "      <th>df</th>\n",
       "      <th>F</th>\n",
       "      <th>PR(&gt;F)</th>\n",
       "    </tr>\n",
       "  </thead>\n",
       "  <tbody>\n",
       "    <tr>\n",
       "      <th>C(agent, Treatment('Human'))</th>\n",
       "      <td>0.294712</td>\n",
       "      <td>2.0</td>\n",
       "      <td>4.202603</td>\n",
       "      <td>1.742625e-02</td>\n",
       "    </tr>\n",
       "    <tr>\n",
       "      <th>C(scale)</th>\n",
       "      <td>3.306461</td>\n",
       "      <td>2.0</td>\n",
       "      <td>47.150171</td>\n",
       "      <td>1.628537e-15</td>\n",
       "    </tr>\n",
       "    <tr>\n",
       "      <th>C(agent, Treatment('Human')):C(scale)</th>\n",
       "      <td>1.029870</td>\n",
       "      <td>4.0</td>\n",
       "      <td>7.342979</td>\n",
       "      <td>2.799090e-05</td>\n",
       "    </tr>\n",
       "    <tr>\n",
       "      <th>Residual</th>\n",
       "      <td>3.856939</td>\n",
       "      <td>110.0</td>\n",
       "      <td>NaN</td>\n",
       "      <td>NaN</td>\n",
       "    </tr>\n",
       "  </tbody>\n",
       "</table>\n",
       "</div>"
      ],
      "text/plain": [
       "                                         sum_sq     df          F  \\\n",
       "C(agent, Treatment('Human'))           0.294712    2.0   4.202603   \n",
       "C(scale)                               3.306461    2.0  47.150171   \n",
       "C(agent, Treatment('Human')):C(scale)  1.029870    4.0   7.342979   \n",
       "Residual                               3.856939  110.0        NaN   \n",
       "\n",
       "                                             PR(>F)  \n",
       "C(agent, Treatment('Human'))           1.742625e-02  \n",
       "C(scale)                               1.628537e-15  \n",
       "C(agent, Treatment('Human')):C(scale)  2.799090e-05  \n",
       "Residual                                        NaN  "
      ]
     },
     "execution_count": 32,
     "metadata": {},
     "output_type": "execute_result"
    }
   ],
   "source": [
    "formula_scale = \"alpha ~ C(agent, Treatment('Human')) * C(scale)\"\n",
    "model_scale = smf.ols(formula_scale, cronbach_df_parts).fit()\n",
    "aov_table_scale = sm.stats.anova_lm(model_scale, typ=2)\n",
    "aov_table_scale"
   ]
  },
  {
   "cell_type": "code",
   "execution_count": 33,
   "metadata": {},
   "outputs": [
    {
     "data": {
      "text/html": [
       "<div>\n",
       "<style scoped>\n",
       "    .dataframe tbody tr th:only-of-type {\n",
       "        vertical-align: middle;\n",
       "    }\n",
       "\n",
       "    .dataframe tbody tr th {\n",
       "        vertical-align: top;\n",
       "    }\n",
       "\n",
       "    .dataframe thead th {\n",
       "        text-align: right;\n",
       "    }\n",
       "</style>\n",
       "<table border=\"1\" class=\"dataframe\">\n",
       "  <thead>\n",
       "    <tr style=\"text-align: right;\">\n",
       "      <th></th>\n",
       "      <th>sum_sq</th>\n",
       "      <th>df</th>\n",
       "      <th>F</th>\n",
       "      <th>PR(&gt;F)</th>\n",
       "    </tr>\n",
       "  </thead>\n",
       "  <tbody>\n",
       "    <tr>\n",
       "      <th>C(agent, Treatment('Human'))</th>\n",
       "      <td>0.294712</td>\n",
       "      <td>2.0</td>\n",
       "      <td>2.606310</td>\n",
       "      <td>0.079250</td>\n",
       "    </tr>\n",
       "    <tr>\n",
       "      <th>C(foundation)</th>\n",
       "      <td>2.300915</td>\n",
       "      <td>8.0</td>\n",
       "      <td>5.087076</td>\n",
       "      <td>0.000030</td>\n",
       "    </tr>\n",
       "    <tr>\n",
       "      <th>C(agent, Treatment('Human')):C(foundation)</th>\n",
       "      <td>0.690835</td>\n",
       "      <td>16.0</td>\n",
       "      <td>0.763681</td>\n",
       "      <td>0.721429</td>\n",
       "    </tr>\n",
       "    <tr>\n",
       "      <th>Residual</th>\n",
       "      <td>5.201519</td>\n",
       "      <td>92.0</td>\n",
       "      <td>NaN</td>\n",
       "      <td>NaN</td>\n",
       "    </tr>\n",
       "  </tbody>\n",
       "</table>\n",
       "</div>"
      ],
      "text/plain": [
       "                                              sum_sq    df         F    PR(>F)\n",
       "C(agent, Treatment('Human'))                0.294712   2.0  2.606310  0.079250\n",
       "C(foundation)                               2.300915   8.0  5.087076  0.000030\n",
       "C(agent, Treatment('Human')):C(foundation)  0.690835  16.0  0.763681  0.721429\n",
       "Residual                                    5.201519  92.0       NaN       NaN"
      ]
     },
     "execution_count": 33,
     "metadata": {},
     "output_type": "execute_result"
    }
   ],
   "source": [
    "formula_found = \"alpha ~ C(agent, Treatment('Human')) * C(foundation)\"\n",
    "model_found = smf.ols(formula_found, cronbach_df_parts).fit()\n",
    "aov_table_found = sm.stats.anova_lm(model_found, typ=2)\n",
    "aov_table_found"
   ]
  },
  {
   "cell_type": "code",
   "execution_count": 34,
   "metadata": {},
   "outputs": [
    {
     "name": "stdout",
     "output_type": "stream",
     "text": [
      "  Multiple Comparison of Means - Tukey HSD, FWER=0.05  \n",
      "=======================================================\n",
      "  group1   group2 meandiff p-adj   lower  upper  reject\n",
      "-------------------------------------------------------\n",
      "Claude 2.1  GPT-4   0.0575 0.5202 -0.0674 0.1825  False\n",
      "Claude 2.1  Human   0.1489 0.1166 -0.0278 0.3256  False\n",
      "     GPT-4  Human   0.0914 0.4394 -0.0853 0.2681  False\n",
      "-------------------------------------------------------\n"
     ]
    }
   ],
   "source": [
    "t = pairwise_tukeyhsd(cronbach_df_parts[\"alpha\"], cronbach_df_parts[\"agent\"])\n",
    "print(t)"
   ]
  },
  {
   "cell_type": "markdown",
   "metadata": {},
   "source": [
    "When adjusting for multiple comparisons, the effect of agent is not significant. Furthermore, LLMs mean was slightliy higher than that of humans."
   ]
  },
  {
   "cell_type": "markdown",
   "metadata": {},
   "source": [
    "Only Part 1"
   ]
  },
  {
   "cell_type": "code",
   "execution_count": 35,
   "metadata": {},
   "outputs": [],
   "source": [
    "cronbach_mfv_mfq1 = cronbach_df_parts.query(\"scale !=  'MFQ - Part 2'\")\n",
    "cronbach_mfv_mfq2 = cronbach_df_parts.query(\"scale !=  'MFV - Part 1'\")"
   ]
  },
  {
   "cell_type": "code",
   "execution_count": 36,
   "metadata": {},
   "outputs": [
    {
     "data": {
      "text/html": [
       "<div>\n",
       "<style scoped>\n",
       "    .dataframe tbody tr th:only-of-type {\n",
       "        vertical-align: middle;\n",
       "    }\n",
       "\n",
       "    .dataframe tbody tr th {\n",
       "        vertical-align: top;\n",
       "    }\n",
       "\n",
       "    .dataframe thead th {\n",
       "        text-align: right;\n",
       "    }\n",
       "</style>\n",
       "<table border=\"1\" class=\"dataframe\">\n",
       "  <thead>\n",
       "    <tr style=\"text-align: right;\">\n",
       "      <th></th>\n",
       "      <th>sum_sq</th>\n",
       "      <th>df</th>\n",
       "      <th>F</th>\n",
       "      <th>PR(&gt;F)</th>\n",
       "    </tr>\n",
       "  </thead>\n",
       "  <tbody>\n",
       "    <tr>\n",
       "      <th>C(agent, Treatment('Human'))</th>\n",
       "      <td>0.114321</td>\n",
       "      <td>2.0</td>\n",
       "      <td>2.206175</td>\n",
       "      <td>1.169472e-01</td>\n",
       "    </tr>\n",
       "    <tr>\n",
       "      <th>C(scale)</th>\n",
       "      <td>0.915659</td>\n",
       "      <td>1.0</td>\n",
       "      <td>35.341079</td>\n",
       "      <td>7.359875e-08</td>\n",
       "    </tr>\n",
       "    <tr>\n",
       "      <th>C(agent, Treatment('Human')):C(scale)</th>\n",
       "      <td>0.798543</td>\n",
       "      <td>2.0</td>\n",
       "      <td>15.410410</td>\n",
       "      <td>2.290454e-06</td>\n",
       "    </tr>\n",
       "    <tr>\n",
       "      <th>Residual</th>\n",
       "      <td>2.020918</td>\n",
       "      <td>78.0</td>\n",
       "      <td>NaN</td>\n",
       "      <td>NaN</td>\n",
       "    </tr>\n",
       "  </tbody>\n",
       "</table>\n",
       "</div>"
      ],
      "text/plain": [
       "                                         sum_sq    df          F        PR(>F)\n",
       "C(agent, Treatment('Human'))           0.114321   2.0   2.206175  1.169472e-01\n",
       "C(scale)                               0.915659   1.0  35.341079  7.359875e-08\n",
       "C(agent, Treatment('Human')):C(scale)  0.798543   2.0  15.410410  2.290454e-06\n",
       "Residual                               2.020918  78.0        NaN           NaN"
      ]
     },
     "execution_count": 36,
     "metadata": {},
     "output_type": "execute_result"
    }
   ],
   "source": [
    "formula_scale = \"alpha ~ C(agent, Treatment('Human')) * C(scale)\"\n",
    "model_scale = smf.ols(formula_scale, cronbach_mfv_mfq1).fit()\n",
    "aov_table_scale = sm.stats.anova_lm(model_scale, typ=2)\n",
    "aov_table_scale"
   ]
  },
  {
   "cell_type": "code",
   "execution_count": 37,
   "metadata": {},
   "outputs": [
    {
     "name": "stdout",
     "output_type": "stream",
     "text": [
      "  Multiple Comparison of Means - Tukey HSD, FWER=0.05  \n",
      "=======================================================\n",
      "  group1   group2 meandiff p-adj   lower  upper  reject\n",
      "-------------------------------------------------------\n",
      "Claude 2.1  GPT-4  -0.0029 0.9982 -0.1238 0.1179  False\n",
      "Claude 2.1  Human   0.1039 0.3197  -0.067 0.2748  False\n",
      "     GPT-4  Human   0.1068    0.3 -0.0641 0.2777  False\n",
      "-------------------------------------------------------\n"
     ]
    }
   ],
   "source": [
    "print(pairwise_tukeyhsd(cronbach_mfv_mfq1[\"alpha\"], cronbach_mfv_mfq1[\"agent\"]))"
   ]
  },
  {
   "cell_type": "code",
   "execution_count": 38,
   "metadata": {},
   "outputs": [
    {
     "data": {
      "text/html": [
       "<div>\n",
       "<style scoped>\n",
       "    .dataframe tbody tr th:only-of-type {\n",
       "        vertical-align: middle;\n",
       "    }\n",
       "\n",
       "    .dataframe tbody tr th {\n",
       "        vertical-align: top;\n",
       "    }\n",
       "\n",
       "    .dataframe thead th {\n",
       "        text-align: right;\n",
       "    }\n",
       "</style>\n",
       "<table border=\"1\" class=\"dataframe\">\n",
       "  <thead>\n",
       "    <tr style=\"text-align: right;\">\n",
       "      <th></th>\n",
       "      <th>sum_sq</th>\n",
       "      <th>df</th>\n",
       "      <th>F</th>\n",
       "      <th>PR(&gt;F)</th>\n",
       "    </tr>\n",
       "  </thead>\n",
       "  <tbody>\n",
       "    <tr>\n",
       "      <th>C(agent, Treatment('Human'))</th>\n",
       "      <td>0.294712</td>\n",
       "      <td>2.0</td>\n",
       "      <td>4.202603</td>\n",
       "      <td>1.742625e-02</td>\n",
       "    </tr>\n",
       "    <tr>\n",
       "      <th>C(scale)</th>\n",
       "      <td>3.306461</td>\n",
       "      <td>2.0</td>\n",
       "      <td>47.150171</td>\n",
       "      <td>1.628537e-15</td>\n",
       "    </tr>\n",
       "    <tr>\n",
       "      <th>C(agent, Treatment('Human')):C(scale)</th>\n",
       "      <td>1.029870</td>\n",
       "      <td>4.0</td>\n",
       "      <td>7.342979</td>\n",
       "      <td>2.799090e-05</td>\n",
       "    </tr>\n",
       "    <tr>\n",
       "      <th>Residual</th>\n",
       "      <td>3.856939</td>\n",
       "      <td>110.0</td>\n",
       "      <td>NaN</td>\n",
       "      <td>NaN</td>\n",
       "    </tr>\n",
       "  </tbody>\n",
       "</table>\n",
       "</div>"
      ],
      "text/plain": [
       "                                         sum_sq     df          F  \\\n",
       "C(agent, Treatment('Human'))           0.294712    2.0   4.202603   \n",
       "C(scale)                               3.306461    2.0  47.150171   \n",
       "C(agent, Treatment('Human')):C(scale)  1.029870    4.0   7.342979   \n",
       "Residual                               3.856939  110.0        NaN   \n",
       "\n",
       "                                             PR(>F)  \n",
       "C(agent, Treatment('Human'))           1.742625e-02  \n",
       "C(scale)                               1.628537e-15  \n",
       "C(agent, Treatment('Human')):C(scale)  2.799090e-05  \n",
       "Residual                                        NaN  "
      ]
     },
     "execution_count": 38,
     "metadata": {},
     "output_type": "execute_result"
    }
   ],
   "source": [
    "formula_scale = \"alpha ~ C(agent, Treatment('Human')) * C(scale)\"\n",
    "model_scale = smf.ols(formula_scale, cronbach_mfv_mfq2).fit()\n",
    "aov_table_scale = sm.stats.anova_lm(model_scale, typ=2)\n",
    "aov_table_scale"
   ]
  },
  {
   "cell_type": "markdown",
   "metadata": {},
   "source": []
  }
 ],
 "metadata": {
  "kernelspec": {
   "display_name": "eda",
   "language": "python",
   "name": "python3"
  },
  "language_info": {
   "codemirror_mode": {
    "name": "ipython",
    "version": 3
   },
   "file_extension": ".py",
   "mimetype": "text/x-python",
   "name": "python",
   "nbconvert_exporter": "python",
   "pygments_lexer": "ipython3",
   "version": "3.11.3"
  }
 },
 "nbformat": 4,
 "nbformat_minor": 2
}
