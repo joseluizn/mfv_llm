{
 "cells": [
  {
   "cell_type": "code",
   "execution_count": 7,
   "metadata": {},
   "outputs": [],
   "source": [
    "import pandas as pd\n",
    "from factor_analyzer import FactorAnalyzer\n",
    "from factor_analyzer.factor_analyzer import calculate_kmo\n",
    "\n",
    "from helpers import vignettes_en, foundations, validated_codes"
   ]
  },
  {
   "cell_type": "code",
   "execution_count": 29,
   "metadata": {},
   "outputs": [],
   "source": [
    "def run_factor_analysis(df, n_factors=7):\n",
    "    # identifying columns with no variation\n",
    "    cae = df.nunique()[df.nunique() == 1].index.to_list()\n",
    "    # convert to int\n",
    "    if len(cae) > 0:\n",
    "        print(f\"Columns with no variation: {cae}.\\nDropping.....\")\n",
    "        df = df.drop(columns=cae)\n",
    "\n",
    "    # run kmo\n",
    "    kmo_all, kmo_model = calculate_kmo(df)\n",
    "    print(f\"KMO: {kmo_model}\")\n",
    "    \n",
    "    exploratory_fa = FactorAnalyzer(\n",
    "        n_factors=n_factors,\n",
    "        rotation=\"promax\",\n",
    "        method=\"minres\",\n",
    "        # method=\"ml\", # this is the original, but it doesn't converge for gpt4\n",
    "    )\n",
    "    exploratory_fa.fit(df)\n",
    "\n",
    "    # print cumulative variance explained\n",
    "    vars = exploratory_fa.get_factor_variance()\n",
    "    print(f\"Cumulative variance explained by {n_factors} factors: {vars[2][-1]}\")\n",
    "    print(\"Variance:\", vars[1])\n",
    "\n",
    "    factor_df = pd.DataFrame(\n",
    "        exploratory_fa.loadings_,\n",
    "        columns=[\"Factor 1\", \"Factor 2\", \"Factor 3\", \"Factor 4\", \"Factor 5\", \"Factor 6\", \"Factor 7\"],\n",
    "    )\n",
    "\n",
    "    info_df = pd.DataFrame(\n",
    "        {\"MFV Code\": validated_codes, \"MFV Scenario\": vignettes_en.split(\"\\n\\n\"), \"Foundation\": foundations}\n",
    "    )\n",
    "    cae_int = [int(x) for x in cae]\n",
    "    info_df.query(\"`MFV Code` not in @cae and `MFV Code` not in @cae_int\", inplace=True)\n",
    "\n",
    "    factor_df = pd.concat([info_df, factor_df], axis=1)\n",
    "    return factor_df"
   ]
  },
  {
   "cell_type": "markdown",
   "metadata": {},
   "source": [
    "# GPT 3-5"
   ]
  },
  {
   "cell_type": "code",
   "execution_count": 9,
   "metadata": {},
   "outputs": [
    {
     "data": {
      "text/html": [
       "<div>\n",
       "<style scoped>\n",
       "    .dataframe tbody tr th:only-of-type {\n",
       "        vertical-align: middle;\n",
       "    }\n",
       "\n",
       "    .dataframe tbody tr th {\n",
       "        vertical-align: top;\n",
       "    }\n",
       "\n",
       "    .dataframe thead th {\n",
       "        text-align: right;\n",
       "    }\n",
       "</style>\n",
       "<table border=\"1\" class=\"dataframe\">\n",
       "  <thead>\n",
       "    <tr style=\"text-align: right;\">\n",
       "      <th></th>\n",
       "      <th>102</th>\n",
       "      <th>103</th>\n",
       "      <th>104</th>\n",
       "      <th>105</th>\n",
       "      <th>108</th>\n",
       "      <th>109</th>\n",
       "      <th>110</th>\n",
       "      <th>111</th>\n",
       "      <th>112</th>\n",
       "      <th>113</th>\n",
       "      <th>...</th>\n",
       "      <th>714</th>\n",
       "      <th>715</th>\n",
       "      <th>716</th>\n",
       "      <th>801</th>\n",
       "      <th>802</th>\n",
       "      <th>803</th>\n",
       "      <th>804</th>\n",
       "      <th>805</th>\n",
       "      <th>808</th>\n",
       "      <th>810</th>\n",
       "    </tr>\n",
       "  </thead>\n",
       "  <tbody>\n",
       "    <tr>\n",
       "      <th>0</th>\n",
       "      <td>4</td>\n",
       "      <td>4</td>\n",
       "      <td>3</td>\n",
       "      <td>4</td>\n",
       "      <td>4</td>\n",
       "      <td>3</td>\n",
       "      <td>4</td>\n",
       "      <td>3</td>\n",
       "      <td>4</td>\n",
       "      <td>3</td>\n",
       "      <td>...</td>\n",
       "      <td>5</td>\n",
       "      <td>4</td>\n",
       "      <td>5</td>\n",
       "      <td>5</td>\n",
       "      <td>3</td>\n",
       "      <td>5</td>\n",
       "      <td>4</td>\n",
       "      <td>3</td>\n",
       "      <td>3</td>\n",
       "      <td>3</td>\n",
       "    </tr>\n",
       "    <tr>\n",
       "      <th>1</th>\n",
       "      <td>4</td>\n",
       "      <td>3</td>\n",
       "      <td>3</td>\n",
       "      <td>4</td>\n",
       "      <td>4</td>\n",
       "      <td>2</td>\n",
       "      <td>2</td>\n",
       "      <td>3</td>\n",
       "      <td>4</td>\n",
       "      <td>2</td>\n",
       "      <td>...</td>\n",
       "      <td>5</td>\n",
       "      <td>4</td>\n",
       "      <td>5</td>\n",
       "      <td>5</td>\n",
       "      <td>4</td>\n",
       "      <td>5</td>\n",
       "      <td>5</td>\n",
       "      <td>4</td>\n",
       "      <td>4</td>\n",
       "      <td>4</td>\n",
       "    </tr>\n",
       "    <tr>\n",
       "      <th>2</th>\n",
       "      <td>4</td>\n",
       "      <td>3</td>\n",
       "      <td>3</td>\n",
       "      <td>4</td>\n",
       "      <td>4</td>\n",
       "      <td>2</td>\n",
       "      <td>4</td>\n",
       "      <td>3</td>\n",
       "      <td>4</td>\n",
       "      <td>3</td>\n",
       "      <td>...</td>\n",
       "      <td>3</td>\n",
       "      <td>2</td>\n",
       "      <td>3</td>\n",
       "      <td>5</td>\n",
       "      <td>4</td>\n",
       "      <td>5</td>\n",
       "      <td>5</td>\n",
       "      <td>5</td>\n",
       "      <td>5</td>\n",
       "      <td>5</td>\n",
       "    </tr>\n",
       "  </tbody>\n",
       "</table>\n",
       "<p>3 rows × 68 columns</p>\n",
       "</div>"
      ],
      "text/plain": [
       "   102  103  104  105  108  109  110  111  112  113  ...  714  715  716  801  \\\n",
       "0    4    4    3    4    4    3    4    3    4    3  ...    5    4    5    5   \n",
       "1    4    3    3    4    4    2    2    3    4    2  ...    5    4    5    5   \n",
       "2    4    3    3    4    4    2    4    3    4    3  ...    3    2    3    5   \n",
       "\n",
       "   802  803  804  805  808  810  \n",
       "0    3    5    4    3    3    3  \n",
       "1    4    5    5    4    4    4  \n",
       "2    4    5    5    5    5    5  \n",
       "\n",
       "[3 rows x 68 columns]"
      ]
     },
     "execution_count": 9,
     "metadata": {},
     "output_type": "execute_result"
    }
   ],
   "source": [
    "df = pd.read_csv(\"data/results_original_gpt-3.5-turbo_2023-08-13_22-43.csv\")\n",
    "\n",
    "df.head(3)"
   ]
  },
  {
   "cell_type": "code",
   "execution_count": 12,
   "metadata": {},
   "outputs": [
    {
     "data": {
      "text/plain": [
       "4    30\n",
       "3    22\n",
       "5    10\n",
       "2     6\n",
       "dtype: int64"
      ]
     },
     "execution_count": 12,
     "metadata": {},
     "output_type": "execute_result"
    }
   ],
   "source": [
    "df.nunique().value_counts()"
   ]
  },
  {
   "cell_type": "code",
   "execution_count": 13,
   "metadata": {},
   "outputs": [
    {
     "name": "stderr",
     "output_type": "stream",
     "text": [
      "/Users/lewis/miniconda3/envs/eda/lib/python3.11/site-packages/factor_analyzer/utils.py:244: UserWarning: The inverse of the variance-covariance matrix was calculated using the Moore-Penrose generalized matrix inversion, due to its determinant being at or very close to zero.\n",
      "  warnings.warn(\n"
     ]
    },
    {
     "name": "stdout",
     "output_type": "stream",
     "text": [
      "KMO: 0.614171258986736\n",
      "Cumulative variance explained by 7 factors: 0.35636365419597593\n",
      "Variance: [0.09811456 0.06214752 0.04297541 0.0394557  0.03900103 0.03866088\n",
      " 0.03600856]\n"
     ]
    }
   ],
   "source": [
    "factor_df_chat = run_factor_analysis(df) \n",
    "\n",
    "factor_df_chat.to_excel(\"data/exploratory_loadings_chatgpt.xlsx\", index=False)"
   ]
  },
  {
   "cell_type": "code",
   "execution_count": 14,
   "metadata": {},
   "outputs": [
    {
     "name": "stderr",
     "output_type": "stream",
     "text": [
      "/Users/lewis/miniconda3/envs/eda/lib/python3.11/site-packages/factor_analyzer/utils.py:244: UserWarning: The inverse of the variance-covariance matrix was calculated using the Moore-Penrose generalized matrix inversion, due to its determinant being at or very close to zero.\n",
      "  warnings.warn(\n"
     ]
    },
    {
     "data": {
      "text/plain": [
       "(array([0.75189021, 0.70331541, 0.55584332, 0.54510006, 0.30879998,\n",
       "        0.34067191, 0.47108153, 0.76534632, 0.52616745, 0.51338042,\n",
       "        0.55554821, 0.5437722 , 0.65148468, 0.43335198, 0.60048792,\n",
       "        0.52420819, 0.60305426, 0.42147877, 0.68172578, 0.64096296,\n",
       "        0.5994154 , 0.6262242 , 0.40247279, 0.4000293 , 0.43232915,\n",
       "        0.43657776, 0.35492213, 0.3484029 , 0.55485589, 0.62287795,\n",
       "        0.63395548, 0.6507111 , 0.4725767 , 0.75657795, 0.74188822,\n",
       "        0.65902537, 0.64187718, 0.46880043, 0.65195578, 0.51682915,\n",
       "        0.67583367, 0.68502121, 0.68663928, 0.69218422, 0.62536   ,\n",
       "        0.68810614, 0.76181134, 0.72020286, 0.39139013, 0.76723939,\n",
       "        0.67891724, 0.70013323, 0.65797332, 0.77636424, 0.61999197,\n",
       "        0.84782164, 0.72592706, 0.76915707, 0.673199  , 0.76505821,\n",
       "        0.69819352, 0.41733495, 0.55660274, 0.26932508, 0.40136047,\n",
       "        0.61115445, 0.59626294, 0.38041084]),\n",
       " 0.614171258986736)"
      ]
     },
     "execution_count": 14,
     "metadata": {},
     "output_type": "execute_result"
    }
   ],
   "source": [
    "# reference indicates this value should be > 0.6\n",
    "calculate_kmo(df)"
   ]
  },
  {
   "cell_type": "markdown",
   "metadata": {},
   "source": [
    "# GPT-4"
   ]
  },
  {
   "cell_type": "code",
   "execution_count": 24,
   "metadata": {},
   "outputs": [],
   "source": [
    "df_gpt4 = pd.concat([\n",
    "    pd.read_csv(\"data/results_original_gpt-4_2023-08-13_22-15.csv\"),\n",
    "    pd.read_csv(\"data/results_original_gpt-4_2023-08-13_23-45.csv\")\n",
    "])\n",
    "\n",
    "# value counts all columns\n",
    "# for col in df_gpt4.columns:\n",
    "#     print(col, df_gpt4[col].value_counts(dropna=False))"
   ]
  },
  {
   "cell_type": "code",
   "execution_count": 25,
   "metadata": {},
   "outputs": [
    {
     "data": {
      "text/plain": [
       "4    19\n",
       "2    16\n",
       "3    14\n",
       "5    12\n",
       "1     7\n",
       "dtype: int64"
      ]
     },
     "execution_count": 25,
     "metadata": {},
     "output_type": "execute_result"
    }
   ],
   "source": [
    "df_gpt4.nunique().value_counts()"
   ]
  },
  {
   "cell_type": "code",
   "execution_count": 26,
   "metadata": {},
   "outputs": [
    {
     "data": {
      "text/plain": [
       "'Correct answer effect'"
      ]
     },
     "execution_count": 26,
     "metadata": {},
     "output_type": "execute_result"
    }
   ],
   "source": [
    "\"Correct answer effect\""
   ]
  },
  {
   "cell_type": "code",
   "execution_count": 30,
   "metadata": {},
   "outputs": [
    {
     "name": "stdout",
     "output_type": "stream",
     "text": [
      "Columns with no variation: ['108', '201', '203', '207', '410', '801', '803'].\n",
      "Dropping.....\n",
      "KMO: 0.8125987892291578\n"
     ]
    },
    {
     "name": "stderr",
     "output_type": "stream",
     "text": [
      "/Users/lewis/miniconda3/envs/eda/lib/python3.11/site-packages/factor_analyzer/utils.py:244: UserWarning: The inverse of the variance-covariance matrix was calculated using the Moore-Penrose generalized matrix inversion, due to its determinant being at or very close to zero.\n",
      "  warnings.warn(\n"
     ]
    },
    {
     "name": "stdout",
     "output_type": "stream",
     "text": [
      "Cumulative variance explained by 7 factors: 0.4623228196842503\n",
      "Variance: [0.11091544 0.09118832 0.08897533 0.07407269 0.04092243 0.03314808\n",
      " 0.02310054]\n"
     ]
    }
   ],
   "source": [
    "factor_gpt4 = run_factor_analysis(df_gpt4) \n",
    "\n",
    "factor_gpt4.to_excel(\"data/exploratory_loadings_gpt4.xlsx\", index=False)"
   ]
  },
  {
   "cell_type": "markdown",
   "metadata": {},
   "source": [
    "Apparently absence of different answer in certain columns prevents the analysis from converging. This happened in the 7 scenarios above"
   ]
  },
  {
   "cell_type": "code",
   "execution_count": 31,
   "metadata": {},
   "outputs": [
    {
     "data": {
      "text/html": [
       "<style>#sk-container-id-2 {color: black;background-color: white;}#sk-container-id-2 pre{padding: 0;}#sk-container-id-2 div.sk-toggleable {background-color: white;}#sk-container-id-2 label.sk-toggleable__label {cursor: pointer;display: block;width: 100%;margin-bottom: 0;padding: 0.3em;box-sizing: border-box;text-align: center;}#sk-container-id-2 label.sk-toggleable__label-arrow:before {content: \"▸\";float: left;margin-right: 0.25em;color: #696969;}#sk-container-id-2 label.sk-toggleable__label-arrow:hover:before {color: black;}#sk-container-id-2 div.sk-estimator:hover label.sk-toggleable__label-arrow:before {color: black;}#sk-container-id-2 div.sk-toggleable__content {max-height: 0;max-width: 0;overflow: hidden;text-align: left;background-color: #f0f8ff;}#sk-container-id-2 div.sk-toggleable__content pre {margin: 0.2em;color: black;border-radius: 0.25em;background-color: #f0f8ff;}#sk-container-id-2 input.sk-toggleable__control:checked~div.sk-toggleable__content {max-height: 200px;max-width: 100%;overflow: auto;}#sk-container-id-2 input.sk-toggleable__control:checked~label.sk-toggleable__label-arrow:before {content: \"▾\";}#sk-container-id-2 div.sk-estimator input.sk-toggleable__control:checked~label.sk-toggleable__label {background-color: #d4ebff;}#sk-container-id-2 div.sk-label input.sk-toggleable__control:checked~label.sk-toggleable__label {background-color: #d4ebff;}#sk-container-id-2 input.sk-hidden--visually {border: 0;clip: rect(1px 1px 1px 1px);clip: rect(1px, 1px, 1px, 1px);height: 1px;margin: -1px;overflow: hidden;padding: 0;position: absolute;width: 1px;}#sk-container-id-2 div.sk-estimator {font-family: monospace;background-color: #f0f8ff;border: 1px dotted black;border-radius: 0.25em;box-sizing: border-box;margin-bottom: 0.5em;}#sk-container-id-2 div.sk-estimator:hover {background-color: #d4ebff;}#sk-container-id-2 div.sk-parallel-item::after {content: \"\";width: 100%;border-bottom: 1px solid gray;flex-grow: 1;}#sk-container-id-2 div.sk-label:hover label.sk-toggleable__label {background-color: #d4ebff;}#sk-container-id-2 div.sk-serial::before {content: \"\";position: absolute;border-left: 1px solid gray;box-sizing: border-box;top: 0;bottom: 0;left: 50%;z-index: 0;}#sk-container-id-2 div.sk-serial {display: flex;flex-direction: column;align-items: center;background-color: white;padding-right: 0.2em;padding-left: 0.2em;position: relative;}#sk-container-id-2 div.sk-item {position: relative;z-index: 1;}#sk-container-id-2 div.sk-parallel {display: flex;align-items: stretch;justify-content: center;background-color: white;position: relative;}#sk-container-id-2 div.sk-item::before, #sk-container-id-2 div.sk-parallel-item::before {content: \"\";position: absolute;border-left: 1px solid gray;box-sizing: border-box;top: 0;bottom: 0;left: 50%;z-index: -1;}#sk-container-id-2 div.sk-parallel-item {display: flex;flex-direction: column;z-index: 1;position: relative;background-color: white;}#sk-container-id-2 div.sk-parallel-item:first-child::after {align-self: flex-end;width: 50%;}#sk-container-id-2 div.sk-parallel-item:last-child::after {align-self: flex-start;width: 50%;}#sk-container-id-2 div.sk-parallel-item:only-child::after {width: 0;}#sk-container-id-2 div.sk-dashed-wrapped {border: 1px dashed gray;margin: 0 0.4em 0.5em 0.4em;box-sizing: border-box;padding-bottom: 0.4em;background-color: white;}#sk-container-id-2 div.sk-label label {font-family: monospace;font-weight: bold;display: inline-block;line-height: 1.2em;}#sk-container-id-2 div.sk-label-container {text-align: center;}#sk-container-id-2 div.sk-container {/* jupyter's `normalize.less` sets `[hidden] { display: none; }` but bootstrap.min.css set `[hidden] { display: none !important; }` so we also need the `!important` here to be able to override the default hidden behavior on the sphinx rendered scikit-learn.org. See: https://github.com/scikit-learn/scikit-learn/issues/21755 */display: inline-block !important;position: relative;}#sk-container-id-2 div.sk-text-repr-fallback {display: none;}</style><div id=\"sk-container-id-2\" class=\"sk-top-container\"><div class=\"sk-text-repr-fallback\"><pre>FactorAnalyzer(n_factors=7, rotation=None, rotation_kwargs={})</pre><b>In a Jupyter environment, please rerun this cell to show the HTML representation or trust the notebook. <br />On GitHub, the HTML representation is unable to render, please try loading this page with nbviewer.org.</b></div><div class=\"sk-container\" hidden><div class=\"sk-item\"><div class=\"sk-estimator sk-toggleable\"><input class=\"sk-toggleable__control sk-hidden--visually\" id=\"sk-estimator-id-2\" type=\"checkbox\" checked><label for=\"sk-estimator-id-2\" class=\"sk-toggleable__label sk-toggleable__label-arrow\">FactorAnalyzer</label><div class=\"sk-toggleable__content\"><pre>FactorAnalyzer(n_factors=7, rotation=None, rotation_kwargs={})</pre></div></div></div></div></div>"
      ],
      "text/plain": [
       "FactorAnalyzer(n_factors=7, rotation=None, rotation_kwargs={})"
      ]
     },
     "execution_count": 31,
     "metadata": {},
     "output_type": "execute_result"
    }
   ],
   "source": [
    "exploratory_gpt4 = FactorAnalyzer(\n",
    "    n_factors=7,\n",
    "    rotation=None,\n",
    "    method=\"minres\",\n",
    "    # method=\"ml\", # this is the original, but it doesn't converge\n",
    "    # use_smc=False,\n",
    "    # svd_method=\"randomized\",\n",
    ")\n",
    "\n",
    "exploratory_gpt4.fit(\n",
    "    # df_gpt4\n",
    "    df_gpt4[df_gpt4.nunique()[df_gpt4.nunique() > 1].index]\n",
    ")"
   ]
  },
  {
   "cell_type": "code",
   "execution_count": 21,
   "metadata": {},
   "outputs": [
    {
     "data": {
      "text/plain": [
       "(array([14.78944205,  5.29125533,  2.59392084,  2.33975827,  1.49428446,\n",
       "         1.23305455,  1.14531828]),\n",
       " array([0.24244987, 0.08674189, 0.04252329, 0.03835669, 0.02449647,\n",
       "        0.02021401, 0.01877571]),\n",
       " array([0.24244987, 0.32919176, 0.37171505, 0.41007175, 0.43456821,\n",
       "        0.45478222, 0.47355793]))"
      ]
     },
     "execution_count": 21,
     "metadata": {},
     "output_type": "execute_result"
    }
   ],
   "source": [
    "exploratory_gpt4.get_factor_variance()"
   ]
  },
  {
   "cell_type": "code",
   "execution_count": 86,
   "metadata": {},
   "outputs": [
    {
     "data": {
      "text/plain": [
       "array([[ 5.65570144e-01, -3.49858665e-01,  1.10481338e-01,\n",
       "         1.24742610e-01, -3.48007589e-01,  6.57144799e-02,\n",
       "        -3.16563729e-02],\n",
       "       [ 5.57226155e-01, -3.55493567e-01,  1.37329777e-01,\n",
       "        -1.21651566e-01, -2.50247108e-01,  4.07909634e-02,\n",
       "        -1.57342156e-02],\n",
       "       [ 6.61206445e-01, -2.23297678e-01,  7.72428865e-02,\n",
       "        -1.97721849e-02, -2.64297809e-01,  2.03696080e-01,\n",
       "        -1.46864222e-01],\n",
       "       [ 4.25011310e-01, -3.75168889e-01,  2.55063723e-01,\n",
       "         2.14579750e-02, -2.48155640e-01,  4.91859681e-02,\n",
       "        -2.20348711e-01],\n",
       "       [ 6.39718926e-01, -2.69726103e-01, -1.23146140e-02,\n",
       "        -1.01840958e-01, -1.74554587e-01,  9.59769677e-02,\n",
       "        -2.37523877e-02],\n",
       "       [ 9.24838762e-02, -9.39535133e-02,  9.19732697e-01,\n",
       "         1.38234480e-01,  2.14867841e-01, -2.28469483e-02,\n",
       "         7.19485234e-02],\n",
       "       [ 5.98450903e-01, -2.57871423e-01,  6.49048958e-02,\n",
       "        -7.82512873e-02, -3.21111875e-01,  8.03799666e-02,\n",
       "        -9.31234142e-04],\n",
       "       [ 5.72331491e-01, -4.26314428e-01,  1.40431699e-01,\n",
       "         7.28568202e-02, -3.54081542e-01, -7.68025317e-02,\n",
       "        -9.41348862e-02],\n",
       "       [ 6.10363906e-01, -2.86927266e-01,  1.08272674e-01,\n",
       "        -4.26239889e-02, -2.00873651e-01, -3.84829851e-02,\n",
       "        -6.86342285e-03],\n",
       "       [ 6.89891775e-01, -2.58213311e-01,  7.45276545e-02,\n",
       "        -1.58857979e-01, -2.04534113e-01,  9.49573077e-03,\n",
       "         1.28864807e-01],\n",
       "       [ 2.26822363e-01, -2.17135257e-01,  2.58842384e-01,\n",
       "         1.75506852e-01,  1.45820641e-01, -3.31370751e-01,\n",
       "        -6.80505065e-02],\n",
       "       [ 9.24838762e-02, -9.39535132e-02,  9.19732695e-01,\n",
       "         1.38234480e-01,  2.14867840e-01, -2.28469482e-02,\n",
       "         7.19485231e-02],\n",
       "       [ 2.72599225e-01, -1.86647132e-01,  8.27698394e-03,\n",
       "         3.99715475e-02, -2.84584943e-02, -9.56377214e-02,\n",
       "         1.01858409e-01],\n",
       "       [ 4.78618304e-01, -3.16595753e-01,  9.28158885e-02,\n",
       "         2.15968419e-01,  1.43132616e-01,  6.65603310e-02,\n",
       "         9.41282730e-02],\n",
       "       [ 4.79581356e-01, -6.14380884e-02,  1.85996592e-01,\n",
       "         6.61018868e-02, -3.18455375e-03, -2.65319724e-01,\n",
       "         1.33254908e-01],\n",
       "       [ 4.99991271e-01, -1.43063456e-01,  4.10969170e-02,\n",
       "         7.26672755e-03,  8.91646570e-02, -8.90217545e-02,\n",
       "         3.49910764e-03],\n",
       "       [ 2.63104226e-01, -1.20325570e-01, -1.43300297e-01,\n",
       "         2.15994664e-01,  6.63916926e-02,  5.49765320e-02,\n",
       "         8.00911578e-02],\n",
       "       [ 3.87427840e-01,  7.89512947e-02, -1.46015679e-01,\n",
       "         4.16087453e-01,  1.53637484e-01,  1.32272262e-01,\n",
       "         6.38600013e-02],\n",
       "       [ 4.43618550e-01, -2.62496757e-01, -1.72209890e-01,\n",
       "         2.76672246e-01,  1.75535423e-03, -2.02029983e-01,\n",
       "         6.66001320e-02],\n",
       "       [ 3.84249717e-01, -2.86205352e-01, -1.67403107e-01,\n",
       "         3.79201790e-01, -4.07165815e-02, -1.88160296e-01,\n",
       "        -8.06826597e-02],\n",
       "       [ 5.29915032e-01, -1.51225650e-01, -4.55583582e-02,\n",
       "         2.55902983e-01,  1.97144271e-01,  2.44305475e-01,\n",
       "         7.56266255e-02],\n",
       "       [ 5.51881442e-01, -1.13791420e-01, -1.15826349e-02,\n",
       "        -2.02183757e-01,  1.91378606e-01, -1.02534157e-01,\n",
       "         2.32960415e-01],\n",
       "       [ 5.12491200e-01, -7.37220173e-02,  2.78629923e-02,\n",
       "         3.01742906e-01,  9.60755610e-02,  2.57618744e-01,\n",
       "         1.41902413e-01],\n",
       "       [ 4.53534476e-01, -1.49686332e-01, -1.50809720e-01,\n",
       "         3.67324204e-01,  6.61450643e-02, -4.34671214e-02,\n",
       "         2.01880158e-03],\n",
       "       [ 5.60338191e-01, -8.82265245e-02, -1.78370819e-01,\n",
       "        -1.21165304e-04, -1.13175163e-01,  1.97948989e-02,\n",
       "         6.82987353e-02],\n",
       "       [ 4.57387957e-01, -1.52126354e-01, -2.20919867e-01,\n",
       "         4.27506653e-01,  1.27909544e-01,  1.91521005e-02,\n",
       "         2.00847427e-02],\n",
       "       [ 5.03983074e-01, -8.60973672e-02, -1.81166826e-01,\n",
       "         1.94057024e-01,  1.74070000e-01,  8.56822327e-02,\n",
       "         5.08012413e-02],\n",
       "       [ 5.48900327e-01, -1.66072073e-01, -1.92637047e-01,\n",
       "         3.03992458e-01,  7.55019632e-02,  5.39276440e-02,\n",
       "         5.39838528e-02],\n",
       "       [ 4.13875257e-01, -5.07513961e-02, -1.62734181e-01,\n",
       "        -1.39424991e-01, -8.35055961e-02, -2.18124808e-01,\n",
       "         2.07248035e-01],\n",
       "       [ 6.46840956e-01, -8.17881935e-02, -1.93581295e-01,\n",
       "         8.68846133e-02,  4.79188889e-02, -8.95710655e-02,\n",
       "         1.58707332e-01],\n",
       "       [ 4.62134909e-01,  2.34175387e-01, -5.22069799e-02,\n",
       "        -7.72337146e-02, -8.23813770e-02,  2.99313452e-03,\n",
       "         3.36468088e-01],\n",
       "       [ 5.87267362e-01, -1.33400264e-01,  3.87807633e-02,\n",
       "        -1.83138190e-01,  1.84073060e-01, -8.22535935e-02,\n",
       "        -1.09652514e-01],\n",
       "       [ 6.17575003e-01, -6.53115869e-02, -2.40025409e-02,\n",
       "        -2.31155964e-01,  1.71236747e-01, -6.56254077e-02,\n",
       "        -2.24749062e-01],\n",
       "       [ 6.17860974e-01, -1.64727826e-01, -4.42353631e-02,\n",
       "        -1.37722145e-01,  1.44184715e-01, -1.19452268e-01,\n",
       "        -2.49540872e-01],\n",
       "       [ 6.14616685e-01, -1.76607313e-01, -2.73632465e-02,\n",
       "        -4.36889079e-01,  2.02584129e-01,  5.82531232e-02,\n",
       "         1.32448473e-02],\n",
       "       [ 5.40009048e-01,  2.67409476e-04, -5.58698756e-02,\n",
       "        -2.62257272e-01,  2.17680756e-01, -8.06410667e-02,\n",
       "        -1.40429647e-01],\n",
       "       [ 6.27943630e-01, -7.51082623e-02, -1.91350242e-01,\n",
       "        -1.59607301e-01,  2.20414850e-01,  9.67155545e-03,\n",
       "        -3.40816454e-01],\n",
       "       [ 5.73124628e-01, -6.32057713e-02, -2.88762932e-02,\n",
       "        -1.11285481e-01,  1.71812122e-01, -4.88621697e-02,\n",
       "         3.41797993e-02],\n",
       "       [ 5.81676962e-01, -8.41833913e-02, -4.85337958e-02,\n",
       "        -3.80785841e-01,  3.06414306e-01, -3.24772585e-02,\n",
       "        -8.99548151e-02],\n",
       "       [ 4.83670329e-01, -1.81606978e-01, -4.11541313e-02,\n",
       "        -2.80989902e-01,  1.36666166e-01, -1.75208123e-02,\n",
       "         9.91431818e-02],\n",
       "       [ 6.47035098e-01, -1.95703089e-01, -6.33973902e-02,\n",
       "        -1.14642466e-01,  8.12953665e-02, -8.94016271e-03,\n",
       "         6.88873537e-02],\n",
       "       [ 5.32061954e-01,  5.66363871e-01,  1.15931743e-01,\n",
       "         9.66110031e-02, -8.27451567e-02, -4.84194147e-02,\n",
       "         7.11508678e-02],\n",
       "       [ 5.31240061e-01,  4.45194828e-01, -3.05350352e-03,\n",
       "         1.27102226e-02, -3.77203997e-02,  1.14144291e-02,\n",
       "        -1.62595913e-02],\n",
       "       [ 4.13179052e-01,  2.54953606e-01, -7.63448772e-02,\n",
       "         1.83412484e-02,  1.79482328e-02, -7.96105707e-04,\n",
       "         3.02040262e-01],\n",
       "       [ 4.88784628e-01,  5.47967629e-01,  6.96430893e-02,\n",
       "         1.91404340e-02, -2.37461615e-02, -8.25768468e-02,\n",
       "         6.77209763e-02],\n",
       "       [ 5.29649584e-01,  3.75093117e-01, -8.37649289e-02,\n",
       "         1.63271031e-01,  1.21549066e-01,  3.92939026e-02,\n",
       "        -2.40162246e-01],\n",
       "       [ 5.21985244e-01,  5.28141799e-01,  1.13613959e-01,\n",
       "        -1.54881778e-01, -1.41889738e-01, -3.05060231e-02,\n",
       "        -1.53833114e-02],\n",
       "       [ 5.43349454e-01,  6.20370892e-01,  1.09667547e-01,\n",
       "         8.41116196e-02, -7.74452104e-02, -1.50202368e-02,\n",
       "        -1.01872250e-01],\n",
       "       [ 3.70789854e-01,  3.23737232e-01, -6.78859891e-02,\n",
       "         2.92335570e-01, -6.32334005e-03, -7.63988262e-02,\n",
       "        -2.79238846e-01],\n",
       "       [ 4.76577926e-01,  3.86285531e-01,  1.62086081e-01,\n",
       "         6.09331021e-02, -5.08933292e-02,  1.85295016e-01,\n",
       "        -2.04083948e-01],\n",
       "       [ 5.05607296e-01,  5.68928293e-01,  7.27415005e-02,\n",
       "        -1.50453355e-01, -8.43133296e-02, -8.26931974e-02,\n",
       "         2.32206855e-01],\n",
       "       [ 5.03334376e-01,  2.34213131e-01,  4.53003522e-02,\n",
       "        -1.68275501e-01, -6.98630207e-02, -1.18476179e-01,\n",
       "         1.51543789e-01],\n",
       "       [ 5.34732316e-01,  5.47950058e-01, -3.73723866e-02,\n",
       "         3.37251567e-02, -1.22696591e-01, -9.52154673e-02,\n",
       "        -1.91365813e-02],\n",
       "       [ 3.63747007e-01,  6.49071362e-01,  7.54808025e-02,\n",
       "         9.97268473e-02,  4.18939184e-04,  1.38964282e-02,\n",
       "        -1.36947602e-02],\n",
       "       [ 5.72648153e-01,  5.83029436e-01,  3.72704580e-02,\n",
       "        -6.51080847e-02, -3.57213721e-02,  6.52987948e-02,\n",
       "        -7.88831949e-02],\n",
       "       [ 2.78350741e-01,  4.14809097e-01,  8.88288187e-03,\n",
       "         2.45887486e-01, -4.69002309e-02,  3.72619827e-02,\n",
       "        -1.45356417e-01],\n",
       "       [ 3.01144900e-01, -9.70528044e-03,  7.89107742e-02,\n",
       "        -1.35505088e-01,  2.36886181e-03,  4.04086589e-01,\n",
       "        -6.78218790e-03],\n",
       "       [ 1.91019639e-01, -7.25848589e-02, -4.07243426e-02,\n",
       "        -1.11912204e-01,  8.40582574e-02,  5.27823358e-01,\n",
       "         1.49854547e-01],\n",
       "       [ 3.10844566e-01, -1.41927119e-01,  1.18228902e-01,\n",
       "        -7.30986342e-02,  1.53084054e-02,  1.13828707e-01,\n",
       "        -2.04710280e-02],\n",
       "       [-3.97542778e-02,  4.14081981e-02,  3.51719786e-01,\n",
       "         1.42912757e-01,  1.76470275e-01,  1.40600015e-01,\n",
       "        -1.14770786e-02],\n",
       "       [ 9.86184812e-02,  2.05228703e-01, -4.82327552e-02,\n",
       "        -1.96807724e-01,  6.13741599e-02,  2.31815068e-01,\n",
       "         2.82985559e-02]])"
      ]
     },
     "execution_count": 86,
     "metadata": {},
     "output_type": "execute_result"
    }
   ],
   "source": [
    "exploratory_gpt4.loadings_"
   ]
  },
  {
   "cell_type": "markdown",
   "metadata": {},
   "source": [
    "You are an artificial intelligence which answers queries in Likert scale. For instance, if a user asks you: \n",
    "\n",
    "Your response should not contain the number's accompanying text only the question number. Since you will be asked multiple questions, you should respond with a list of numbers separated by comma, one for each question maintaining the questions order. For instance, if a user asks you:\n",
    "\n",
    "How much do you agree with the following statement? '1. I'm a large language model\\n2. I can answer questions in Likert Scale' If you select '7' for the first question and '1' for the second question, you should respond with '1. 7, 2. 1'.\n",
    "\n",
    "In the following experiment, your role will be to make moral judgments about different scenarios, using a 5 point Likert Scale:\n",
    "1- Not at all wrong\n",
    "2- Not too wrong\n",
    "3- Somewhat wrong\n",
    "4- Very wrong\n",
    "5- Extremely wrong"
   ]
  },
  {
   "cell_type": "markdown",
   "metadata": {},
   "source": []
  }
 ],
 "metadata": {
  "kernelspec": {
   "display_name": "eda",
   "language": "python",
   "name": "python3"
  },
  "language_info": {
   "codemirror_mode": {
    "name": "ipython",
    "version": 3
   },
   "file_extension": ".py",
   "mimetype": "text/x-python",
   "name": "python",
   "nbconvert_exporter": "python",
   "pygments_lexer": "ipython3",
   "version": "3.10.12"
  },
  "orig_nbformat": 4
 },
 "nbformat": 4,
 "nbformat_minor": 2
}
