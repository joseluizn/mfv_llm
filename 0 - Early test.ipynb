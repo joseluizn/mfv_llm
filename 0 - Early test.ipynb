{
 "cells": [
  {
   "cell_type": "code",
   "execution_count": 1,
   "metadata": {},
   "outputs": [],
   "source": [
    "import os\n",
    "import openai\n",
    "from getpass import getpass\n",
    "\n",
    "openai.api_key = getpass()"
   ]
  },
  {
   "cell_type": "code",
   "execution_count": 48,
   "metadata": {},
   "outputs": [],
   "source": [
    "import time\n",
    "import pandas as pd"
   ]
  },
  {
   "attachments": {},
   "cell_type": "markdown",
   "metadata": {},
   "source": [
    "# Reproducing Knobe 2003"
   ]
  },
  {
   "cell_type": "code",
   "execution_count": 49,
   "metadata": {},
   "outputs": [],
   "source": [
    "responses = []\n",
    "\n",
    "for i in range(0,50):\n",
    "    raw_response = openai.ChatCompletion.create(\n",
    "        model=\"gpt-4\",\n",
    "        messages=[\n",
    "            {\"role\" : \"system\", \"content\" : \"You're Likert-GPT, an artificial intelligence which responds to queries on Likert scales.\\nFor instance, if an user asks you: How much do you agree with the following statement? 'I'm a large language model developed by OpenAI', 1 - Completely disagree, 2, 3, 4 - Neither agree nor disagree, 5, 6, 7 - Completely agree, you should respond with a number between 1 and 7. Your response should not contain the number's accompanying text. So, if you select '7', you should just return '7', instead of '7 - Completely agree'.\"},\n",
    "            {\"role\" : \"user\", \"content\" : \"\"\"\n",
    "The vice-president of a company went to the chairman of the board and said, “We are thinking of starting a new program. It will help us increase profits, and it will also harm the environment.”\n",
    "The chairman of the board answered, “I don't care at all about harming the environment. I just want to make as much profit as I can. Let's start the new program.” \n",
    "They started the new program and, sure enough, the environment was harmed.\n",
    "\n",
    "Did the chairman of the board intentionally harm the environment?\n",
    "\n",
    "1 - No\n",
    "2 - Yes\n",
    "\n",
    "        \"\"\"},\n",
    "        ],\n",
    "        max_tokens=80,\n",
    "        temperature=1.2\n",
    "    )\n",
    "    selection = raw_response['choices'][0]['message']['content']\n",
    "    responses.append((i, selection, \"harm\"))\n",
    "    time.sleep(0.1)\n",
    "    \n",
    "\n",
    "for i in range(0,50):\n",
    "    raw_response = openai.ChatCompletion.create(\n",
    "        model=\"gpt-4\",\n",
    "        messages=[\n",
    "            {\"role\" : \"system\", \"content\" : \"You're Likert-GPT, an artificial intelligence which responds to queries on Likert scales.\\nFor instance, if an user asks you: How much do you agree with the following statement? 'I'm a large language model developed by OpenAI', 1 - Completely disagree, 2, 3, 4 - Neither agree nor disagree, 5, 6, 7 - Completely agree, you should respond with a number between 1 and 7. Your response should not contain the number's accompanying text. So, if you select '7', you should just return '7', instead of '7 - Completely agree'.\"},\n",
    "            {\"role\" : \"user\", \"content\" : \"\"\"\n",
    "The vice-president of a company went to the chairman of the board and said, “We are thinking of starting a new program. It will help us increase profits, and it will also help the environment.”\n",
    "The chairman of the board answered, “I don't care at all about helping the environment. I just want to make as much profit as I can. Let's start the new program.” \n",
    "They started the new program and, sure enough, the environment was helped.\n",
    "\n",
    "Did the chairman of the board intentionally help the environment?\n",
    "\n",
    "1 - No\n",
    "2 - Yes\n",
    "\n",
    "        \"\"\"},\n",
    "        ],\n",
    "        max_tokens=80,\n",
    "        temperature=1.2\n",
    "    )\n",
    "    selection = raw_response['choices'][0]['message']['content']\n",
    "    responses.append((i, selection, \"help\"))\n",
    "    time.sleep(0.1)\n",
    "\n",
    "df = pd.DataFrame(responses, columns=['id', 'response', 'condition'])"
   ]
  },
  {
   "cell_type": "code",
   "execution_count": 50,
   "metadata": {},
   "outputs": [
    {
     "data": {
      "text/plain": [
       "condition\n",
       "harm    2.00\n",
       "help    1.36\n",
       "Name: response, dtype: float64"
      ]
     },
     "execution_count": 50,
     "metadata": {},
     "output_type": "execute_result"
    }
   ],
   "source": [
    "df['response'] = df['response'].astype(int)\n",
    "\n",
    "df.groupby('condition')['response'].mean()"
   ]
  },
  {
   "cell_type": "code",
   "execution_count": 51,
   "metadata": {},
   "outputs": [
    {
     "data": {
      "text/plain": [
       "<AxesSubplot: xlabel='condition', ylabel='response'>"
      ]
     },
     "execution_count": 51,
     "metadata": {},
     "output_type": "execute_result"
    },
    {
     "data": {
      "image/png": "[encoded data removed]",
      "text/plain": [
       "<Figure size 640x480 with 1 Axes>"
      ]
     },
     "metadata": {},
     "output_type": "display_data"
    }
   ],
   "source": [
    "import seaborn as sns\n",
    "\n",
    "#plot the results with a barplot\n",
    "sns.barplot(x=\"condition\", y=\"response\", data=df)"
   ]
  }
 ],
 "metadata": {
  "kernelspec": {
   "display_name": "Python 3",
   "language": "python",
   "name": "python3"
  },
  "language_info": {
   "codemirror_mode": {
    "name": "ipython",
    "version": 3
   },
   "file_extension": ".py",
   "mimetype": "text/x-python",
   "name": "python",
   "nbconvert_exporter": "python",
   "pygments_lexer": "ipython3",
   "version": "3.10.11"
  },
  "orig_nbformat": 4
 },
 "nbformat": 4,
 "nbformat_minor": 2
}
