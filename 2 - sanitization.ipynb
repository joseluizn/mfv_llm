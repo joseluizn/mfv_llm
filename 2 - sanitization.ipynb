{
 "cells": [
  {
   "cell_type": "code",
   "execution_count": 1,
   "metadata": {},
   "outputs": [],
   "source": [
    "import re\n",
    "import json\n",
    "from pathlib import Path\n",
    "\n",
    "import pandas as pd"
   ]
  },
  {
   "cell_type": "markdown",
   "metadata": {},
   "source": [
    "# Generating CSV with data"
   ]
  },
  {
   "cell_type": "code",
   "execution_count": 2,
   "metadata": {},
   "outputs": [],
   "source": [
    "raw_path = Path(\"raw_data\")\n",
    "data = list()\n",
    "for fl in raw_path.glob(\"*.json\"):\n",
    "    with open(fl) as f:\n",
    "        raw_data = json.load(f)\n",
    "    for d in raw_data:\n",
    "        del d[\"mfv\"][\"chat_history\"]\n",
    "        del d[\"mfq\"][\"chat_history\"]\n",
    "    data.extend(raw_data)\n"
   ]
  },
  {
   "cell_type": "code",
   "execution_count": 3,
   "metadata": {},
   "outputs": [],
   "source": [
    "clean_data = list()\n",
    "\n",
    "for answer in data:\n",
    "    mfq = answer[\"mfq\"]\n",
    "    part1_order = [x[0] for x in mfq[\"part1_order\"]]\n",
    "    part2_order = [x[0] for x in mfq[\"part2_order\"]]\n",
    "    mfv = answer[\"mfv\"]\n",
    "\n",
    "    clean_data.append(\n",
    "        [\n",
    "            answer[\"agent\"],\n",
    "            answer[\"id\"],\n",
    "            answer[\"condition\"],\n",
    "            mfq[\"part1\"],\n",
    "            part1_order,\n",
    "            mfq[\"part2\"],\n",
    "            part2_order,\n",
    "            mfv[\"mfv\"],\n",
    "            mfv[\"mfv_codes\"],\n",
    "        ]\n",
    "    )\n",
    "\n",
    "df = pd.DataFrame(\n",
    "    clean_data,\n",
    "    columns=[\n",
    "        \"agent\",\n",
    "        \"id\",\n",
    "        \"condition\",\n",
    "        \"mfq_part1\",\n",
    "        \"part1_order\",\n",
    "        \"mfq_part2\",\n",
    "        \"part2_order\",\n",
    "        \"mfv\",\n",
    "        \"mfv_codes\",\n",
    "    ],\n",
    ")\n",
    "\n",
    "df.to_csv(\"data/raw_completions.csv\", index=False)"
   ]
  },
  {
   "cell_type": "code",
   "execution_count": 4,
   "metadata": {},
   "outputs": [],
   "source": [
    "class BaseSanitizer():\n",
    "    def sanitize(self):\n",
    "        raise NotImplementedError(\"Subclass must implement abstract method\")\n",
    "\n",
    "    def validate_mfq_answer(self, answer):\n",
    "        # convert matches to int\n",
    "        matches = [int(x) for x in self.sanitize(answer)]\n",
    "        if len(matches) not in [16,]:\n",
    "            return False\n",
    "        elif len(matches) == 32:\n",
    "            print(\"WARNING: 32 matches found!\")\n",
    "            return False\n",
    "        # check if numbers fall  between 0 and 5\n",
    "        if all([x >= 0 and x <= 5 for x in matches]):\n",
    "            return matches\n",
    "        else:\n",
    "            return False\n",
    "        \n",
    "    def validate_mfv_answer(self, answer):\n",
    "        # convert matches to int\n",
    "        matches = [int(x) for x in self.sanitize(answer)]\n",
    "        if len(matches) != 68:\n",
    "            return False\n",
    "        # check if numbers fall between 0 and 5\n",
    "        if all([x >= 1 and x <= 5 for x in matches]):\n",
    "            return matches\n",
    "        else:\n",
    "            return False\n",
    "\n",
    "\n",
    "class Sanitizer(BaseSanitizer):\n",
    "    pat = r\"(\\d+\\.\\s*?)?(?P<num>\\d(?!\\.\\d))\\s*?(,|\\n|$|\\]|`)\"\n",
    "    \n",
    "    def sanitize(self, answer):\n",
    "        answers = re.finditer(self.pat, answer)\n",
    "        # extract num groups only\n",
    "        return [x.group(\"num\") for x in answers]\n"
   ]
  },
  {
   "cell_type": "code",
   "execution_count": 5,
   "metadata": {},
   "outputs": [],
   "source": [
    "def get_sanitizer(agent):\n",
    "    return Sanitizer()"
   ]
  },
  {
   "cell_type": "code",
   "execution_count": 6,
   "metadata": {},
   "outputs": [],
   "source": [
    "mfq_dfs = list()\n",
    "mfv_dfs = list()\n",
    "\n",
    "errors = list()\n",
    "\n",
    "for i, row in df.iterrows():\n",
    "    agent = row[\"agent\"]\n",
    "    sanitizer = get_sanitizer(agent)\n",
    "    p1 = sanitizer.validate_mfq_answer(row[\"mfq_part1\"])\n",
    "    p2 = sanitizer.validate_mfq_answer(row[\"mfq_part2\"])\n",
    "    mfv = sanitizer.validate_mfv_answer(row[\"mfv\"])\n",
    "\n",
    "    if p1 is False or p2 is False or mfv is False:\n",
    "        errors.append(\n",
    "            {\n",
    "                \"agent\": agent,\n",
    "                \"id\": row[\"id\"],\n",
    "                \"condition\": row[\"condition\"],\n",
    "                \"mfq_part1\": row[\"mfq_part1\"],\n",
    "                \"mfq_part2\": row[\"mfq_part2\"],\n",
    "                \"mfv\": row[\"mfv\"],\n",
    "            }\n",
    "        )\n",
    "        continue\n",
    "\n",
    "    mfv_data = {\n",
    "        \"agent\": agent,\n",
    "        \"id\": row[\"id\"],\n",
    "        \"condition\": row[\"condition\"],\n",
    "        \"mfv\": mfv,\n",
    "        \"mfv_codes\": row[\"mfv_codes\"],\n",
    "    }\n",
    "\n",
    "    mfq_data = {\n",
    "        \"agent\": [agent] * 32,\n",
    "        \"id\": [row[\"id\"]] * 32,\n",
    "        \"condition\": [row[\"condition\"]] * 32,\n",
    "        \"answer\": p1 + p2,\n",
    "        \"code\": row[\"part1_order\"] + row[\"part2_order\"],\n",
    "    }\n",
    "\n",
    "    mfq_dfs.append(pd.DataFrame(mfq_data))\n",
    "    mfv_dfs.append(pd.DataFrame(mfv_data))\n",
    "\n",
    "mfq = pd.concat(mfq_dfs)\n",
    "mfq.to_csv(\"data/mfq.csv\", index=False)\n",
    "mfv = pd.concat(mfv_dfs)\n",
    "mfv.to_csv(\"data/mfv.csv\", index=False)"
   ]
  },
  {
   "cell_type": "code",
   "execution_count": 7,
   "metadata": {},
   "outputs": [
    {
     "data": {
      "text/html": [
       "<div>\n",
       "<style scoped>\n",
       "    .dataframe tbody tr th:only-of-type {\n",
       "        vertical-align: middle;\n",
       "    }\n",
       "\n",
       "    .dataframe tbody tr th {\n",
       "        vertical-align: top;\n",
       "    }\n",
       "\n",
       "    .dataframe thead th {\n",
       "        text-align: right;\n",
       "    }\n",
       "</style>\n",
       "<table border=\"1\" class=\"dataframe\">\n",
       "  <thead>\n",
       "    <tr style=\"text-align: right;\">\n",
       "      <th></th>\n",
       "      <th></th>\n",
       "      <th>id</th>\n",
       "    </tr>\n",
       "    <tr>\n",
       "      <th>agent</th>\n",
       "      <th>condition</th>\n",
       "      <th></th>\n",
       "    </tr>\n",
       "  </thead>\n",
       "  <tbody>\n",
       "    <tr>\n",
       "      <th rowspan=\"2\" valign=\"top\">Claude 2.1</th>\n",
       "      <th>qv</th>\n",
       "      <td>92</td>\n",
       "    </tr>\n",
       "    <tr>\n",
       "      <th>vq</th>\n",
       "      <td>69</td>\n",
       "    </tr>\n",
       "    <tr>\n",
       "      <th rowspan=\"2\" valign=\"top\">GPT-4</th>\n",
       "      <th>qv</th>\n",
       "      <td>98</td>\n",
       "    </tr>\n",
       "    <tr>\n",
       "      <th>vq</th>\n",
       "      <td>91</td>\n",
       "    </tr>\n",
       "    <tr>\n",
       "      <th>Gemini Pro</th>\n",
       "      <th>vq</th>\n",
       "      <td>1</td>\n",
       "    </tr>\n",
       "  </tbody>\n",
       "</table>\n",
       "</div>"
      ],
      "text/plain": [
       "                      id\n",
       "agent      condition    \n",
       "Claude 2.1 qv         92\n",
       "           vq         69\n",
       "GPT-4      qv         98\n",
       "           vq         91\n",
       "Gemini Pro vq          1"
      ]
     },
     "execution_count": 7,
     "metadata": {},
     "output_type": "execute_result"
    }
   ],
   "source": [
    "mfq[[\"agent\", \"id\", \"condition\"]].drop_duplicates().groupby([\"agent\", \"condition\"]).count()"
   ]
  },
  {
   "cell_type": "markdown",
   "metadata": {},
   "source": [
    "Checking Gemini pattern"
   ]
  },
  {
   "cell_type": "code",
   "execution_count": 18,
   "metadata": {},
   "outputs": [],
   "source": [
    "class AnswerCounter():\n",
    "    pat = r\"(\\d+\\.\\s*?)?(?P<num>\\d(?!\\.\\d))\\s*?(,|\\n|$|\\]|`)\"\n",
    "    def __init__(self, answer):\n",
    "        self.matches = self.sanitize(answer)\n",
    "        self.count = len(self.matches)\n",
    "\n",
    "    def sanitize(self, answer):\n",
    "        answers = re.finditer(self.pat, answer)\n",
    "        # extract num groups only\n",
    "        return [int(x.group(\"num\")) for x in answers]\n",
    "\n",
    "    def validate_mfq_answer_scale(self):\n",
    "        # check if numbers fall  between 0 and 5\n",
    "        if all([x >= 0 and x <= 5 for x in self.matches]):\n",
    "            return True\n",
    "        else :\n",
    "            return False\n",
    "        \n",
    "    def validate_mfv_answer(self):\n",
    "        if all([x >= 1 and x <= 5 for x in self.matches]):\n",
    "            return True\n",
    "        else:\n",
    "            return False"
   ]
  },
  {
   "cell_type": "code",
   "execution_count": 20,
   "metadata": {},
   "outputs": [
    {
     "name": "stdout",
     "output_type": "stream",
     "text": [
      "170\n",
      "180\n",
      "172\n",
      "7\n",
      "129\n",
      "166\n"
     ]
    }
   ],
   "source": [
    "mfq_1 = []\n",
    "mfq1_scale = []\n",
    "mfq_2 = []\n",
    "mfq2_scale = []\n",
    "mfv = []\n",
    "mfv_scale = []\n",
    "\n",
    "for i, row in df.query(\"agent == 'Gemini Pro'\").iterrows():\n",
    "    # count number of answers\n",
    "    counter = AnswerCounter(row[\"mfq_part1\"])\n",
    "    mfq_1.append(counter.count)\n",
    "    mfq1_scale.append(counter.validate_mfq_answer_scale())\n",
    "    counter = AnswerCounter(row[\"mfq_part2\"])\n",
    "    mfq_2.append(counter.count)\n",
    "    mfq2_scale.append(counter.validate_mfq_answer_scale())\n",
    "    counter = AnswerCounter(row[\"mfv\"])\n",
    "    mfv.append(counter.count)\n",
    "    mfv_scale.append(counter.validate_mfv_answer())\n",
    "\n",
    "# print number of valid scales for each item\n",
    "print(sum(mfq1_scale))\n",
    "print(sum(mfq2_scale))\n",
    "print(sum(mfv_scale))\n",
    "# print number of mfq answers != 16 and mfv answers != 68\n",
    "print(sum([x != 16 for x in mfq_1]))\n",
    "print(sum([x != 16 for x in mfq_2]))\n",
    "print(sum([x != 68 for x in mfv]))\n"
   ]
  },
  {
   "cell_type": "code",
   "execution_count": 10,
   "metadata": {},
   "outputs": [
    {
     "data": {
      "text/plain": [
       "179"
      ]
     },
     "execution_count": 10,
     "metadata": {},
     "output_type": "execute_result"
    }
   ],
   "source": []
  },
  {
   "cell_type": "code",
   "execution_count": null,
   "metadata": {},
   "outputs": [],
   "source": []
  }
 ],
 "metadata": {
  "kernelspec": {
   "display_name": "eda",
   "language": "python",
   "name": "python3"
  },
  "language_info": {
   "codemirror_mode": {
    "name": "ipython",
    "version": 3
   },
   "file_extension": ".py",
   "mimetype": "text/x-python",
   "name": "python",
   "nbconvert_exporter": "python",
   "pygments_lexer": "ipython3",
   "version": "3.10.13"
  }
 },
 "nbformat": 4,
 "nbformat_minor": 2
}
